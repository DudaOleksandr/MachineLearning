{
  "metadata": {
    "kernelspec": {
      "display_name": "Python 3",
      "name": "python3"
    },
    "language_info": {
      "name": "python",
      "version": "3.10.10",
      "mimetype": "text/x-python",
      "codemirror_mode": {
        "name": "ipython",
        "version": 3
      },
      "pygments_lexer": "ipython3",
      "nbconvert_exporter": "python",
      "file_extension": ".py"
    },
    "colab": {
      "provenance": []
    },
    "accelerator": "TPU",
    "widgets": {
      "application/vnd.jupyter.widget-state+json": {
        "e123911b2f8343728c650fec8d95835b": {
          "model_module": "@jupyter-widgets/controls",
          "model_name": "HBoxModel",
          "model_module_version": "1.5.0",
          "state": {
            "_dom_classes": [],
            "_model_module": "@jupyter-widgets/controls",
            "_model_module_version": "1.5.0",
            "_model_name": "HBoxModel",
            "_view_count": null,
            "_view_module": "@jupyter-widgets/controls",
            "_view_module_version": "1.5.0",
            "_view_name": "HBoxView",
            "box_style": "",
            "children": [
              "IPY_MODEL_03b859a21d0e4cd79f7483850505042d",
              "IPY_MODEL_74a45621a9d042c6ab064576f1d3e676",
              "IPY_MODEL_5e27b5880ebd48e08c6c1169a042bd61"
            ],
            "layout": "IPY_MODEL_b0acafccfc8142158f341c8c42947f38"
          }
        },
        "03b859a21d0e4cd79f7483850505042d": {
          "model_module": "@jupyter-widgets/controls",
          "model_name": "HTMLModel",
          "model_module_version": "1.5.0",
          "state": {
            "_dom_classes": [],
            "_model_module": "@jupyter-widgets/controls",
            "_model_module_version": "1.5.0",
            "_model_name": "HTMLModel",
            "_view_count": null,
            "_view_module": "@jupyter-widgets/controls",
            "_view_module_version": "1.5.0",
            "_view_name": "HTMLView",
            "description": "",
            "description_tooltip": null,
            "layout": "IPY_MODEL_85675efe4ded463f891675b66714d725",
            "placeholder": "​",
            "style": "IPY_MODEL_f78604ce78b341c7b3ce007d7ceb9bd0",
            "value": "tokenizer_config.json: 100%"
          }
        },
        "74a45621a9d042c6ab064576f1d3e676": {
          "model_module": "@jupyter-widgets/controls",
          "model_name": "FloatProgressModel",
          "model_module_version": "1.5.0",
          "state": {
            "_dom_classes": [],
            "_model_module": "@jupyter-widgets/controls",
            "_model_module_version": "1.5.0",
            "_model_name": "FloatProgressModel",
            "_view_count": null,
            "_view_module": "@jupyter-widgets/controls",
            "_view_module_version": "1.5.0",
            "_view_name": "ProgressView",
            "bar_style": "success",
            "description": "",
            "description_tooltip": null,
            "layout": "IPY_MODEL_65e02edecdd64c54acd10b604025da8d",
            "max": 28,
            "min": 0,
            "orientation": "horizontal",
            "style": "IPY_MODEL_4c2fb81a809f455dbb876f291b54bc70",
            "value": 28
          }
        },
        "5e27b5880ebd48e08c6c1169a042bd61": {
          "model_module": "@jupyter-widgets/controls",
          "model_name": "HTMLModel",
          "model_module_version": "1.5.0",
          "state": {
            "_dom_classes": [],
            "_model_module": "@jupyter-widgets/controls",
            "_model_module_version": "1.5.0",
            "_model_name": "HTMLModel",
            "_view_count": null,
            "_view_module": "@jupyter-widgets/controls",
            "_view_module_version": "1.5.0",
            "_view_name": "HTMLView",
            "description": "",
            "description_tooltip": null,
            "layout": "IPY_MODEL_f533a2d9ac5a43289881559065b6274c",
            "placeholder": "​",
            "style": "IPY_MODEL_fb527efecc0941518891bf3246b27b8f",
            "value": " 28.0/28.0 [00:00&lt;00:00, 564B/s]"
          }
        },
        "b0acafccfc8142158f341c8c42947f38": {
          "model_module": "@jupyter-widgets/base",
          "model_name": "LayoutModel",
          "model_module_version": "1.2.0",
          "state": {
            "_model_module": "@jupyter-widgets/base",
            "_model_module_version": "1.2.0",
            "_model_name": "LayoutModel",
            "_view_count": null,
            "_view_module": "@jupyter-widgets/base",
            "_view_module_version": "1.2.0",
            "_view_name": "LayoutView",
            "align_content": null,
            "align_items": null,
            "align_self": null,
            "border": null,
            "bottom": null,
            "display": null,
            "flex": null,
            "flex_flow": null,
            "grid_area": null,
            "grid_auto_columns": null,
            "grid_auto_flow": null,
            "grid_auto_rows": null,
            "grid_column": null,
            "grid_gap": null,
            "grid_row": null,
            "grid_template_areas": null,
            "grid_template_columns": null,
            "grid_template_rows": null,
            "height": null,
            "justify_content": null,
            "justify_items": null,
            "left": null,
            "margin": null,
            "max_height": null,
            "max_width": null,
            "min_height": null,
            "min_width": null,
            "object_fit": null,
            "object_position": null,
            "order": null,
            "overflow": null,
            "overflow_x": null,
            "overflow_y": null,
            "padding": null,
            "right": null,
            "top": null,
            "visibility": null,
            "width": null
          }
        },
        "85675efe4ded463f891675b66714d725": {
          "model_module": "@jupyter-widgets/base",
          "model_name": "LayoutModel",
          "model_module_version": "1.2.0",
          "state": {
            "_model_module": "@jupyter-widgets/base",
            "_model_module_version": "1.2.0",
            "_model_name": "LayoutModel",
            "_view_count": null,
            "_view_module": "@jupyter-widgets/base",
            "_view_module_version": "1.2.0",
            "_view_name": "LayoutView",
            "align_content": null,
            "align_items": null,
            "align_self": null,
            "border": null,
            "bottom": null,
            "display": null,
            "flex": null,
            "flex_flow": null,
            "grid_area": null,
            "grid_auto_columns": null,
            "grid_auto_flow": null,
            "grid_auto_rows": null,
            "grid_column": null,
            "grid_gap": null,
            "grid_row": null,
            "grid_template_areas": null,
            "grid_template_columns": null,
            "grid_template_rows": null,
            "height": null,
            "justify_content": null,
            "justify_items": null,
            "left": null,
            "margin": null,
            "max_height": null,
            "max_width": null,
            "min_height": null,
            "min_width": null,
            "object_fit": null,
            "object_position": null,
            "order": null,
            "overflow": null,
            "overflow_x": null,
            "overflow_y": null,
            "padding": null,
            "right": null,
            "top": null,
            "visibility": null,
            "width": null
          }
        },
        "f78604ce78b341c7b3ce007d7ceb9bd0": {
          "model_module": "@jupyter-widgets/controls",
          "model_name": "DescriptionStyleModel",
          "model_module_version": "1.5.0",
          "state": {
            "_model_module": "@jupyter-widgets/controls",
            "_model_module_version": "1.5.0",
            "_model_name": "DescriptionStyleModel",
            "_view_count": null,
            "_view_module": "@jupyter-widgets/base",
            "_view_module_version": "1.2.0",
            "_view_name": "StyleView",
            "description_width": ""
          }
        },
        "65e02edecdd64c54acd10b604025da8d": {
          "model_module": "@jupyter-widgets/base",
          "model_name": "LayoutModel",
          "model_module_version": "1.2.0",
          "state": {
            "_model_module": "@jupyter-widgets/base",
            "_model_module_version": "1.2.0",
            "_model_name": "LayoutModel",
            "_view_count": null,
            "_view_module": "@jupyter-widgets/base",
            "_view_module_version": "1.2.0",
            "_view_name": "LayoutView",
            "align_content": null,
            "align_items": null,
            "align_self": null,
            "border": null,
            "bottom": null,
            "display": null,
            "flex": null,
            "flex_flow": null,
            "grid_area": null,
            "grid_auto_columns": null,
            "grid_auto_flow": null,
            "grid_auto_rows": null,
            "grid_column": null,
            "grid_gap": null,
            "grid_row": null,
            "grid_template_areas": null,
            "grid_template_columns": null,
            "grid_template_rows": null,
            "height": null,
            "justify_content": null,
            "justify_items": null,
            "left": null,
            "margin": null,
            "max_height": null,
            "max_width": null,
            "min_height": null,
            "min_width": null,
            "object_fit": null,
            "object_position": null,
            "order": null,
            "overflow": null,
            "overflow_x": null,
            "overflow_y": null,
            "padding": null,
            "right": null,
            "top": null,
            "visibility": null,
            "width": null
          }
        },
        "4c2fb81a809f455dbb876f291b54bc70": {
          "model_module": "@jupyter-widgets/controls",
          "model_name": "ProgressStyleModel",
          "model_module_version": "1.5.0",
          "state": {
            "_model_module": "@jupyter-widgets/controls",
            "_model_module_version": "1.5.0",
            "_model_name": "ProgressStyleModel",
            "_view_count": null,
            "_view_module": "@jupyter-widgets/base",
            "_view_module_version": "1.2.0",
            "_view_name": "StyleView",
            "bar_color": null,
            "description_width": ""
          }
        },
        "f533a2d9ac5a43289881559065b6274c": {
          "model_module": "@jupyter-widgets/base",
          "model_name": "LayoutModel",
          "model_module_version": "1.2.0",
          "state": {
            "_model_module": "@jupyter-widgets/base",
            "_model_module_version": "1.2.0",
            "_model_name": "LayoutModel",
            "_view_count": null,
            "_view_module": "@jupyter-widgets/base",
            "_view_module_version": "1.2.0",
            "_view_name": "LayoutView",
            "align_content": null,
            "align_items": null,
            "align_self": null,
            "border": null,
            "bottom": null,
            "display": null,
            "flex": null,
            "flex_flow": null,
            "grid_area": null,
            "grid_auto_columns": null,
            "grid_auto_flow": null,
            "grid_auto_rows": null,
            "grid_column": null,
            "grid_gap": null,
            "grid_row": null,
            "grid_template_areas": null,
            "grid_template_columns": null,
            "grid_template_rows": null,
            "height": null,
            "justify_content": null,
            "justify_items": null,
            "left": null,
            "margin": null,
            "max_height": null,
            "max_width": null,
            "min_height": null,
            "min_width": null,
            "object_fit": null,
            "object_position": null,
            "order": null,
            "overflow": null,
            "overflow_x": null,
            "overflow_y": null,
            "padding": null,
            "right": null,
            "top": null,
            "visibility": null,
            "width": null
          }
        },
        "fb527efecc0941518891bf3246b27b8f": {
          "model_module": "@jupyter-widgets/controls",
          "model_name": "DescriptionStyleModel",
          "model_module_version": "1.5.0",
          "state": {
            "_model_module": "@jupyter-widgets/controls",
            "_model_module_version": "1.5.0",
            "_model_name": "DescriptionStyleModel",
            "_view_count": null,
            "_view_module": "@jupyter-widgets/base",
            "_view_module_version": "1.2.0",
            "_view_name": "StyleView",
            "description_width": ""
          }
        },
        "af1b14b2f20d466ab60221bcba06edaa": {
          "model_module": "@jupyter-widgets/controls",
          "model_name": "HBoxModel",
          "model_module_version": "1.5.0",
          "state": {
            "_dom_classes": [],
            "_model_module": "@jupyter-widgets/controls",
            "_model_module_version": "1.5.0",
            "_model_name": "HBoxModel",
            "_view_count": null,
            "_view_module": "@jupyter-widgets/controls",
            "_view_module_version": "1.5.0",
            "_view_name": "HBoxView",
            "box_style": "",
            "children": [
              "IPY_MODEL_e6148c7f5f204158a7310ae28a2f9911",
              "IPY_MODEL_4cbe1d577d6a42ffade6e462c4e496fd",
              "IPY_MODEL_026f7ebb1bd84e7ea42b76838711dfff"
            ],
            "layout": "IPY_MODEL_f47fbfdf5b9b4dc3825a1892220edcac"
          }
        },
        "e6148c7f5f204158a7310ae28a2f9911": {
          "model_module": "@jupyter-widgets/controls",
          "model_name": "HTMLModel",
          "model_module_version": "1.5.0",
          "state": {
            "_dom_classes": [],
            "_model_module": "@jupyter-widgets/controls",
            "_model_module_version": "1.5.0",
            "_model_name": "HTMLModel",
            "_view_count": null,
            "_view_module": "@jupyter-widgets/controls",
            "_view_module_version": "1.5.0",
            "_view_name": "HTMLView",
            "description": "",
            "description_tooltip": null,
            "layout": "IPY_MODEL_76c1dafa6dbf4f63ab99eb848b899db5",
            "placeholder": "​",
            "style": "IPY_MODEL_d6aa61f8432643a2b6ff549d3f819ff8",
            "value": "vocab.txt: 100%"
          }
        },
        "4cbe1d577d6a42ffade6e462c4e496fd": {
          "model_module": "@jupyter-widgets/controls",
          "model_name": "FloatProgressModel",
          "model_module_version": "1.5.0",
          "state": {
            "_dom_classes": [],
            "_model_module": "@jupyter-widgets/controls",
            "_model_module_version": "1.5.0",
            "_model_name": "FloatProgressModel",
            "_view_count": null,
            "_view_module": "@jupyter-widgets/controls",
            "_view_module_version": "1.5.0",
            "_view_name": "ProgressView",
            "bar_style": "success",
            "description": "",
            "description_tooltip": null,
            "layout": "IPY_MODEL_a9b6a65867164ffdbaab40292f664dfd",
            "max": 231508,
            "min": 0,
            "orientation": "horizontal",
            "style": "IPY_MODEL_7668b983b72e4984a115176165748b2f",
            "value": 231508
          }
        },
        "026f7ebb1bd84e7ea42b76838711dfff": {
          "model_module": "@jupyter-widgets/controls",
          "model_name": "HTMLModel",
          "model_module_version": "1.5.0",
          "state": {
            "_dom_classes": [],
            "_model_module": "@jupyter-widgets/controls",
            "_model_module_version": "1.5.0",
            "_model_name": "HTMLModel",
            "_view_count": null,
            "_view_module": "@jupyter-widgets/controls",
            "_view_module_version": "1.5.0",
            "_view_name": "HTMLView",
            "description": "",
            "description_tooltip": null,
            "layout": "IPY_MODEL_c785081550ea4a6b896541682b94e5a6",
            "placeholder": "​",
            "style": "IPY_MODEL_ccf400c6bbab45fe819a8b1cf337f4c7",
            "value": " 232k/232k [00:00&lt;00:00, 2.45MB/s]"
          }
        },
        "f47fbfdf5b9b4dc3825a1892220edcac": {
          "model_module": "@jupyter-widgets/base",
          "model_name": "LayoutModel",
          "model_module_version": "1.2.0",
          "state": {
            "_model_module": "@jupyter-widgets/base",
            "_model_module_version": "1.2.0",
            "_model_name": "LayoutModel",
            "_view_count": null,
            "_view_module": "@jupyter-widgets/base",
            "_view_module_version": "1.2.0",
            "_view_name": "LayoutView",
            "align_content": null,
            "align_items": null,
            "align_self": null,
            "border": null,
            "bottom": null,
            "display": null,
            "flex": null,
            "flex_flow": null,
            "grid_area": null,
            "grid_auto_columns": null,
            "grid_auto_flow": null,
            "grid_auto_rows": null,
            "grid_column": null,
            "grid_gap": null,
            "grid_row": null,
            "grid_template_areas": null,
            "grid_template_columns": null,
            "grid_template_rows": null,
            "height": null,
            "justify_content": null,
            "justify_items": null,
            "left": null,
            "margin": null,
            "max_height": null,
            "max_width": null,
            "min_height": null,
            "min_width": null,
            "object_fit": null,
            "object_position": null,
            "order": null,
            "overflow": null,
            "overflow_x": null,
            "overflow_y": null,
            "padding": null,
            "right": null,
            "top": null,
            "visibility": null,
            "width": null
          }
        },
        "76c1dafa6dbf4f63ab99eb848b899db5": {
          "model_module": "@jupyter-widgets/base",
          "model_name": "LayoutModel",
          "model_module_version": "1.2.0",
          "state": {
            "_model_module": "@jupyter-widgets/base",
            "_model_module_version": "1.2.0",
            "_model_name": "LayoutModel",
            "_view_count": null,
            "_view_module": "@jupyter-widgets/base",
            "_view_module_version": "1.2.0",
            "_view_name": "LayoutView",
            "align_content": null,
            "align_items": null,
            "align_self": null,
            "border": null,
            "bottom": null,
            "display": null,
            "flex": null,
            "flex_flow": null,
            "grid_area": null,
            "grid_auto_columns": null,
            "grid_auto_flow": null,
            "grid_auto_rows": null,
            "grid_column": null,
            "grid_gap": null,
            "grid_row": null,
            "grid_template_areas": null,
            "grid_template_columns": null,
            "grid_template_rows": null,
            "height": null,
            "justify_content": null,
            "justify_items": null,
            "left": null,
            "margin": null,
            "max_height": null,
            "max_width": null,
            "min_height": null,
            "min_width": null,
            "object_fit": null,
            "object_position": null,
            "order": null,
            "overflow": null,
            "overflow_x": null,
            "overflow_y": null,
            "padding": null,
            "right": null,
            "top": null,
            "visibility": null,
            "width": null
          }
        },
        "d6aa61f8432643a2b6ff549d3f819ff8": {
          "model_module": "@jupyter-widgets/controls",
          "model_name": "DescriptionStyleModel",
          "model_module_version": "1.5.0",
          "state": {
            "_model_module": "@jupyter-widgets/controls",
            "_model_module_version": "1.5.0",
            "_model_name": "DescriptionStyleModel",
            "_view_count": null,
            "_view_module": "@jupyter-widgets/base",
            "_view_module_version": "1.2.0",
            "_view_name": "StyleView",
            "description_width": ""
          }
        },
        "a9b6a65867164ffdbaab40292f664dfd": {
          "model_module": "@jupyter-widgets/base",
          "model_name": "LayoutModel",
          "model_module_version": "1.2.0",
          "state": {
            "_model_module": "@jupyter-widgets/base",
            "_model_module_version": "1.2.0",
            "_model_name": "LayoutModel",
            "_view_count": null,
            "_view_module": "@jupyter-widgets/base",
            "_view_module_version": "1.2.0",
            "_view_name": "LayoutView",
            "align_content": null,
            "align_items": null,
            "align_self": null,
            "border": null,
            "bottom": null,
            "display": null,
            "flex": null,
            "flex_flow": null,
            "grid_area": null,
            "grid_auto_columns": null,
            "grid_auto_flow": null,
            "grid_auto_rows": null,
            "grid_column": null,
            "grid_gap": null,
            "grid_row": null,
            "grid_template_areas": null,
            "grid_template_columns": null,
            "grid_template_rows": null,
            "height": null,
            "justify_content": null,
            "justify_items": null,
            "left": null,
            "margin": null,
            "max_height": null,
            "max_width": null,
            "min_height": null,
            "min_width": null,
            "object_fit": null,
            "object_position": null,
            "order": null,
            "overflow": null,
            "overflow_x": null,
            "overflow_y": null,
            "padding": null,
            "right": null,
            "top": null,
            "visibility": null,
            "width": null
          }
        },
        "7668b983b72e4984a115176165748b2f": {
          "model_module": "@jupyter-widgets/controls",
          "model_name": "ProgressStyleModel",
          "model_module_version": "1.5.0",
          "state": {
            "_model_module": "@jupyter-widgets/controls",
            "_model_module_version": "1.5.0",
            "_model_name": "ProgressStyleModel",
            "_view_count": null,
            "_view_module": "@jupyter-widgets/base",
            "_view_module_version": "1.2.0",
            "_view_name": "StyleView",
            "bar_color": null,
            "description_width": ""
          }
        },
        "c785081550ea4a6b896541682b94e5a6": {
          "model_module": "@jupyter-widgets/base",
          "model_name": "LayoutModel",
          "model_module_version": "1.2.0",
          "state": {
            "_model_module": "@jupyter-widgets/base",
            "_model_module_version": "1.2.0",
            "_model_name": "LayoutModel",
            "_view_count": null,
            "_view_module": "@jupyter-widgets/base",
            "_view_module_version": "1.2.0",
            "_view_name": "LayoutView",
            "align_content": null,
            "align_items": null,
            "align_self": null,
            "border": null,
            "bottom": null,
            "display": null,
            "flex": null,
            "flex_flow": null,
            "grid_area": null,
            "grid_auto_columns": null,
            "grid_auto_flow": null,
            "grid_auto_rows": null,
            "grid_column": null,
            "grid_gap": null,
            "grid_row": null,
            "grid_template_areas": null,
            "grid_template_columns": null,
            "grid_template_rows": null,
            "height": null,
            "justify_content": null,
            "justify_items": null,
            "left": null,
            "margin": null,
            "max_height": null,
            "max_width": null,
            "min_height": null,
            "min_width": null,
            "object_fit": null,
            "object_position": null,
            "order": null,
            "overflow": null,
            "overflow_x": null,
            "overflow_y": null,
            "padding": null,
            "right": null,
            "top": null,
            "visibility": null,
            "width": null
          }
        },
        "ccf400c6bbab45fe819a8b1cf337f4c7": {
          "model_module": "@jupyter-widgets/controls",
          "model_name": "DescriptionStyleModel",
          "model_module_version": "1.5.0",
          "state": {
            "_model_module": "@jupyter-widgets/controls",
            "_model_module_version": "1.5.0",
            "_model_name": "DescriptionStyleModel",
            "_view_count": null,
            "_view_module": "@jupyter-widgets/base",
            "_view_module_version": "1.2.0",
            "_view_name": "StyleView",
            "description_width": ""
          }
        },
        "0a4c6a35fa7b462fac2e0af2533524e0": {
          "model_module": "@jupyter-widgets/controls",
          "model_name": "HBoxModel",
          "model_module_version": "1.5.0",
          "state": {
            "_dom_classes": [],
            "_model_module": "@jupyter-widgets/controls",
            "_model_module_version": "1.5.0",
            "_model_name": "HBoxModel",
            "_view_count": null,
            "_view_module": "@jupyter-widgets/controls",
            "_view_module_version": "1.5.0",
            "_view_name": "HBoxView",
            "box_style": "",
            "children": [
              "IPY_MODEL_9a924d9c4a054150b2b8940943af86c2",
              "IPY_MODEL_e089fbb1d8fe4412ae7fbcea46fbcbb9",
              "IPY_MODEL_c457d95192044fcf98cf44c815594c15"
            ],
            "layout": "IPY_MODEL_b924e15bab094fa68a29c65b67c68dd8"
          }
        },
        "9a924d9c4a054150b2b8940943af86c2": {
          "model_module": "@jupyter-widgets/controls",
          "model_name": "HTMLModel",
          "model_module_version": "1.5.0",
          "state": {
            "_dom_classes": [],
            "_model_module": "@jupyter-widgets/controls",
            "_model_module_version": "1.5.0",
            "_model_name": "HTMLModel",
            "_view_count": null,
            "_view_module": "@jupyter-widgets/controls",
            "_view_module_version": "1.5.0",
            "_view_name": "HTMLView",
            "description": "",
            "description_tooltip": null,
            "layout": "IPY_MODEL_26971a3bb02b4dcd9605ba5be69181aa",
            "placeholder": "​",
            "style": "IPY_MODEL_c4d4ff49dfec4ca5b05095f44271063c",
            "value": "tokenizer.json: 100%"
          }
        },
        "e089fbb1d8fe4412ae7fbcea46fbcbb9": {
          "model_module": "@jupyter-widgets/controls",
          "model_name": "FloatProgressModel",
          "model_module_version": "1.5.0",
          "state": {
            "_dom_classes": [],
            "_model_module": "@jupyter-widgets/controls",
            "_model_module_version": "1.5.0",
            "_model_name": "FloatProgressModel",
            "_view_count": null,
            "_view_module": "@jupyter-widgets/controls",
            "_view_module_version": "1.5.0",
            "_view_name": "ProgressView",
            "bar_style": "success",
            "description": "",
            "description_tooltip": null,
            "layout": "IPY_MODEL_cef3bf2a6d48480f89db2db6e1d601b6",
            "max": 466062,
            "min": 0,
            "orientation": "horizontal",
            "style": "IPY_MODEL_a599f28a0d4f42fe8421785869d0fba0",
            "value": 466062
          }
        },
        "c457d95192044fcf98cf44c815594c15": {
          "model_module": "@jupyter-widgets/controls",
          "model_name": "HTMLModel",
          "model_module_version": "1.5.0",
          "state": {
            "_dom_classes": [],
            "_model_module": "@jupyter-widgets/controls",
            "_model_module_version": "1.5.0",
            "_model_name": "HTMLModel",
            "_view_count": null,
            "_view_module": "@jupyter-widgets/controls",
            "_view_module_version": "1.5.0",
            "_view_name": "HTMLView",
            "description": "",
            "description_tooltip": null,
            "layout": "IPY_MODEL_52b8d8d928304a428c4b3748f31648e2",
            "placeholder": "​",
            "style": "IPY_MODEL_0f8b48d65dbe49c6987313dfbd7a2195",
            "value": " 466k/466k [00:00&lt;00:00, 5.28MB/s]"
          }
        },
        "b924e15bab094fa68a29c65b67c68dd8": {
          "model_module": "@jupyter-widgets/base",
          "model_name": "LayoutModel",
          "model_module_version": "1.2.0",
          "state": {
            "_model_module": "@jupyter-widgets/base",
            "_model_module_version": "1.2.0",
            "_model_name": "LayoutModel",
            "_view_count": null,
            "_view_module": "@jupyter-widgets/base",
            "_view_module_version": "1.2.0",
            "_view_name": "LayoutView",
            "align_content": null,
            "align_items": null,
            "align_self": null,
            "border": null,
            "bottom": null,
            "display": null,
            "flex": null,
            "flex_flow": null,
            "grid_area": null,
            "grid_auto_columns": null,
            "grid_auto_flow": null,
            "grid_auto_rows": null,
            "grid_column": null,
            "grid_gap": null,
            "grid_row": null,
            "grid_template_areas": null,
            "grid_template_columns": null,
            "grid_template_rows": null,
            "height": null,
            "justify_content": null,
            "justify_items": null,
            "left": null,
            "margin": null,
            "max_height": null,
            "max_width": null,
            "min_height": null,
            "min_width": null,
            "object_fit": null,
            "object_position": null,
            "order": null,
            "overflow": null,
            "overflow_x": null,
            "overflow_y": null,
            "padding": null,
            "right": null,
            "top": null,
            "visibility": null,
            "width": null
          }
        },
        "26971a3bb02b4dcd9605ba5be69181aa": {
          "model_module": "@jupyter-widgets/base",
          "model_name": "LayoutModel",
          "model_module_version": "1.2.0",
          "state": {
            "_model_module": "@jupyter-widgets/base",
            "_model_module_version": "1.2.0",
            "_model_name": "LayoutModel",
            "_view_count": null,
            "_view_module": "@jupyter-widgets/base",
            "_view_module_version": "1.2.0",
            "_view_name": "LayoutView",
            "align_content": null,
            "align_items": null,
            "align_self": null,
            "border": null,
            "bottom": null,
            "display": null,
            "flex": null,
            "flex_flow": null,
            "grid_area": null,
            "grid_auto_columns": null,
            "grid_auto_flow": null,
            "grid_auto_rows": null,
            "grid_column": null,
            "grid_gap": null,
            "grid_row": null,
            "grid_template_areas": null,
            "grid_template_columns": null,
            "grid_template_rows": null,
            "height": null,
            "justify_content": null,
            "justify_items": null,
            "left": null,
            "margin": null,
            "max_height": null,
            "max_width": null,
            "min_height": null,
            "min_width": null,
            "object_fit": null,
            "object_position": null,
            "order": null,
            "overflow": null,
            "overflow_x": null,
            "overflow_y": null,
            "padding": null,
            "right": null,
            "top": null,
            "visibility": null,
            "width": null
          }
        },
        "c4d4ff49dfec4ca5b05095f44271063c": {
          "model_module": "@jupyter-widgets/controls",
          "model_name": "DescriptionStyleModel",
          "model_module_version": "1.5.0",
          "state": {
            "_model_module": "@jupyter-widgets/controls",
            "_model_module_version": "1.5.0",
            "_model_name": "DescriptionStyleModel",
            "_view_count": null,
            "_view_module": "@jupyter-widgets/base",
            "_view_module_version": "1.2.0",
            "_view_name": "StyleView",
            "description_width": ""
          }
        },
        "cef3bf2a6d48480f89db2db6e1d601b6": {
          "model_module": "@jupyter-widgets/base",
          "model_name": "LayoutModel",
          "model_module_version": "1.2.0",
          "state": {
            "_model_module": "@jupyter-widgets/base",
            "_model_module_version": "1.2.0",
            "_model_name": "LayoutModel",
            "_view_count": null,
            "_view_module": "@jupyter-widgets/base",
            "_view_module_version": "1.2.0",
            "_view_name": "LayoutView",
            "align_content": null,
            "align_items": null,
            "align_self": null,
            "border": null,
            "bottom": null,
            "display": null,
            "flex": null,
            "flex_flow": null,
            "grid_area": null,
            "grid_auto_columns": null,
            "grid_auto_flow": null,
            "grid_auto_rows": null,
            "grid_column": null,
            "grid_gap": null,
            "grid_row": null,
            "grid_template_areas": null,
            "grid_template_columns": null,
            "grid_template_rows": null,
            "height": null,
            "justify_content": null,
            "justify_items": null,
            "left": null,
            "margin": null,
            "max_height": null,
            "max_width": null,
            "min_height": null,
            "min_width": null,
            "object_fit": null,
            "object_position": null,
            "order": null,
            "overflow": null,
            "overflow_x": null,
            "overflow_y": null,
            "padding": null,
            "right": null,
            "top": null,
            "visibility": null,
            "width": null
          }
        },
        "a599f28a0d4f42fe8421785869d0fba0": {
          "model_module": "@jupyter-widgets/controls",
          "model_name": "ProgressStyleModel",
          "model_module_version": "1.5.0",
          "state": {
            "_model_module": "@jupyter-widgets/controls",
            "_model_module_version": "1.5.0",
            "_model_name": "ProgressStyleModel",
            "_view_count": null,
            "_view_module": "@jupyter-widgets/base",
            "_view_module_version": "1.2.0",
            "_view_name": "StyleView",
            "bar_color": null,
            "description_width": ""
          }
        },
        "52b8d8d928304a428c4b3748f31648e2": {
          "model_module": "@jupyter-widgets/base",
          "model_name": "LayoutModel",
          "model_module_version": "1.2.0",
          "state": {
            "_model_module": "@jupyter-widgets/base",
            "_model_module_version": "1.2.0",
            "_model_name": "LayoutModel",
            "_view_count": null,
            "_view_module": "@jupyter-widgets/base",
            "_view_module_version": "1.2.0",
            "_view_name": "LayoutView",
            "align_content": null,
            "align_items": null,
            "align_self": null,
            "border": null,
            "bottom": null,
            "display": null,
            "flex": null,
            "flex_flow": null,
            "grid_area": null,
            "grid_auto_columns": null,
            "grid_auto_flow": null,
            "grid_auto_rows": null,
            "grid_column": null,
            "grid_gap": null,
            "grid_row": null,
            "grid_template_areas": null,
            "grid_template_columns": null,
            "grid_template_rows": null,
            "height": null,
            "justify_content": null,
            "justify_items": null,
            "left": null,
            "margin": null,
            "max_height": null,
            "max_width": null,
            "min_height": null,
            "min_width": null,
            "object_fit": null,
            "object_position": null,
            "order": null,
            "overflow": null,
            "overflow_x": null,
            "overflow_y": null,
            "padding": null,
            "right": null,
            "top": null,
            "visibility": null,
            "width": null
          }
        },
        "0f8b48d65dbe49c6987313dfbd7a2195": {
          "model_module": "@jupyter-widgets/controls",
          "model_name": "DescriptionStyleModel",
          "model_module_version": "1.5.0",
          "state": {
            "_model_module": "@jupyter-widgets/controls",
            "_model_module_version": "1.5.0",
            "_model_name": "DescriptionStyleModel",
            "_view_count": null,
            "_view_module": "@jupyter-widgets/base",
            "_view_module_version": "1.2.0",
            "_view_name": "StyleView",
            "description_width": ""
          }
        },
        "7f78cb9901014b2686100958ec56f1c9": {
          "model_module": "@jupyter-widgets/controls",
          "model_name": "HBoxModel",
          "model_module_version": "1.5.0",
          "state": {
            "_dom_classes": [],
            "_model_module": "@jupyter-widgets/controls",
            "_model_module_version": "1.5.0",
            "_model_name": "HBoxModel",
            "_view_count": null,
            "_view_module": "@jupyter-widgets/controls",
            "_view_module_version": "1.5.0",
            "_view_name": "HBoxView",
            "box_style": "",
            "children": [
              "IPY_MODEL_bbf7e7cec3a243bf92744049e521faa0",
              "IPY_MODEL_eea124f88edb4983a45c808369b12e0d",
              "IPY_MODEL_6bfb41d54e43425ba7bdcd32b20f8e6f"
            ],
            "layout": "IPY_MODEL_12058e303f6c4be29bca070991a9ac50"
          }
        },
        "bbf7e7cec3a243bf92744049e521faa0": {
          "model_module": "@jupyter-widgets/controls",
          "model_name": "HTMLModel",
          "model_module_version": "1.5.0",
          "state": {
            "_dom_classes": [],
            "_model_module": "@jupyter-widgets/controls",
            "_model_module_version": "1.5.0",
            "_model_name": "HTMLModel",
            "_view_count": null,
            "_view_module": "@jupyter-widgets/controls",
            "_view_module_version": "1.5.0",
            "_view_name": "HTMLView",
            "description": "",
            "description_tooltip": null,
            "layout": "IPY_MODEL_5af0476945104f03ba246329d2a270b0",
            "placeholder": "​",
            "style": "IPY_MODEL_1c809b7ef48b42e08e902f0d234281fc",
            "value": "config.json: 100%"
          }
        },
        "eea124f88edb4983a45c808369b12e0d": {
          "model_module": "@jupyter-widgets/controls",
          "model_name": "FloatProgressModel",
          "model_module_version": "1.5.0",
          "state": {
            "_dom_classes": [],
            "_model_module": "@jupyter-widgets/controls",
            "_model_module_version": "1.5.0",
            "_model_name": "FloatProgressModel",
            "_view_count": null,
            "_view_module": "@jupyter-widgets/controls",
            "_view_module_version": "1.5.0",
            "_view_name": "ProgressView",
            "bar_style": "success",
            "description": "",
            "description_tooltip": null,
            "layout": "IPY_MODEL_fc1e10ed80e3465f96e9367b659abfa2",
            "max": 570,
            "min": 0,
            "orientation": "horizontal",
            "style": "IPY_MODEL_a55fe41dc74b443584674f06d526dd1c",
            "value": 570
          }
        },
        "6bfb41d54e43425ba7bdcd32b20f8e6f": {
          "model_module": "@jupyter-widgets/controls",
          "model_name": "HTMLModel",
          "model_module_version": "1.5.0",
          "state": {
            "_dom_classes": [],
            "_model_module": "@jupyter-widgets/controls",
            "_model_module_version": "1.5.0",
            "_model_name": "HTMLModel",
            "_view_count": null,
            "_view_module": "@jupyter-widgets/controls",
            "_view_module_version": "1.5.0",
            "_view_name": "HTMLView",
            "description": "",
            "description_tooltip": null,
            "layout": "IPY_MODEL_da057ec7282749b0a15d9e4d817c2efc",
            "placeholder": "​",
            "style": "IPY_MODEL_ace7245b42784918ae8582b7b3eda4c6",
            "value": " 570/570 [00:00&lt;00:00, 6.24kB/s]"
          }
        },
        "12058e303f6c4be29bca070991a9ac50": {
          "model_module": "@jupyter-widgets/base",
          "model_name": "LayoutModel",
          "model_module_version": "1.2.0",
          "state": {
            "_model_module": "@jupyter-widgets/base",
            "_model_module_version": "1.2.0",
            "_model_name": "LayoutModel",
            "_view_count": null,
            "_view_module": "@jupyter-widgets/base",
            "_view_module_version": "1.2.0",
            "_view_name": "LayoutView",
            "align_content": null,
            "align_items": null,
            "align_self": null,
            "border": null,
            "bottom": null,
            "display": null,
            "flex": null,
            "flex_flow": null,
            "grid_area": null,
            "grid_auto_columns": null,
            "grid_auto_flow": null,
            "grid_auto_rows": null,
            "grid_column": null,
            "grid_gap": null,
            "grid_row": null,
            "grid_template_areas": null,
            "grid_template_columns": null,
            "grid_template_rows": null,
            "height": null,
            "justify_content": null,
            "justify_items": null,
            "left": null,
            "margin": null,
            "max_height": null,
            "max_width": null,
            "min_height": null,
            "min_width": null,
            "object_fit": null,
            "object_position": null,
            "order": null,
            "overflow": null,
            "overflow_x": null,
            "overflow_y": null,
            "padding": null,
            "right": null,
            "top": null,
            "visibility": null,
            "width": null
          }
        },
        "5af0476945104f03ba246329d2a270b0": {
          "model_module": "@jupyter-widgets/base",
          "model_name": "LayoutModel",
          "model_module_version": "1.2.0",
          "state": {
            "_model_module": "@jupyter-widgets/base",
            "_model_module_version": "1.2.0",
            "_model_name": "LayoutModel",
            "_view_count": null,
            "_view_module": "@jupyter-widgets/base",
            "_view_module_version": "1.2.0",
            "_view_name": "LayoutView",
            "align_content": null,
            "align_items": null,
            "align_self": null,
            "border": null,
            "bottom": null,
            "display": null,
            "flex": null,
            "flex_flow": null,
            "grid_area": null,
            "grid_auto_columns": null,
            "grid_auto_flow": null,
            "grid_auto_rows": null,
            "grid_column": null,
            "grid_gap": null,
            "grid_row": null,
            "grid_template_areas": null,
            "grid_template_columns": null,
            "grid_template_rows": null,
            "height": null,
            "justify_content": null,
            "justify_items": null,
            "left": null,
            "margin": null,
            "max_height": null,
            "max_width": null,
            "min_height": null,
            "min_width": null,
            "object_fit": null,
            "object_position": null,
            "order": null,
            "overflow": null,
            "overflow_x": null,
            "overflow_y": null,
            "padding": null,
            "right": null,
            "top": null,
            "visibility": null,
            "width": null
          }
        },
        "1c809b7ef48b42e08e902f0d234281fc": {
          "model_module": "@jupyter-widgets/controls",
          "model_name": "DescriptionStyleModel",
          "model_module_version": "1.5.0",
          "state": {
            "_model_module": "@jupyter-widgets/controls",
            "_model_module_version": "1.5.0",
            "_model_name": "DescriptionStyleModel",
            "_view_count": null,
            "_view_module": "@jupyter-widgets/base",
            "_view_module_version": "1.2.0",
            "_view_name": "StyleView",
            "description_width": ""
          }
        },
        "fc1e10ed80e3465f96e9367b659abfa2": {
          "model_module": "@jupyter-widgets/base",
          "model_name": "LayoutModel",
          "model_module_version": "1.2.0",
          "state": {
            "_model_module": "@jupyter-widgets/base",
            "_model_module_version": "1.2.0",
            "_model_name": "LayoutModel",
            "_view_count": null,
            "_view_module": "@jupyter-widgets/base",
            "_view_module_version": "1.2.0",
            "_view_name": "LayoutView",
            "align_content": null,
            "align_items": null,
            "align_self": null,
            "border": null,
            "bottom": null,
            "display": null,
            "flex": null,
            "flex_flow": null,
            "grid_area": null,
            "grid_auto_columns": null,
            "grid_auto_flow": null,
            "grid_auto_rows": null,
            "grid_column": null,
            "grid_gap": null,
            "grid_row": null,
            "grid_template_areas": null,
            "grid_template_columns": null,
            "grid_template_rows": null,
            "height": null,
            "justify_content": null,
            "justify_items": null,
            "left": null,
            "margin": null,
            "max_height": null,
            "max_width": null,
            "min_height": null,
            "min_width": null,
            "object_fit": null,
            "object_position": null,
            "order": null,
            "overflow": null,
            "overflow_x": null,
            "overflow_y": null,
            "padding": null,
            "right": null,
            "top": null,
            "visibility": null,
            "width": null
          }
        },
        "a55fe41dc74b443584674f06d526dd1c": {
          "model_module": "@jupyter-widgets/controls",
          "model_name": "ProgressStyleModel",
          "model_module_version": "1.5.0",
          "state": {
            "_model_module": "@jupyter-widgets/controls",
            "_model_module_version": "1.5.0",
            "_model_name": "ProgressStyleModel",
            "_view_count": null,
            "_view_module": "@jupyter-widgets/base",
            "_view_module_version": "1.2.0",
            "_view_name": "StyleView",
            "bar_color": null,
            "description_width": ""
          }
        },
        "da057ec7282749b0a15d9e4d817c2efc": {
          "model_module": "@jupyter-widgets/base",
          "model_name": "LayoutModel",
          "model_module_version": "1.2.0",
          "state": {
            "_model_module": "@jupyter-widgets/base",
            "_model_module_version": "1.2.0",
            "_model_name": "LayoutModel",
            "_view_count": null,
            "_view_module": "@jupyter-widgets/base",
            "_view_module_version": "1.2.0",
            "_view_name": "LayoutView",
            "align_content": null,
            "align_items": null,
            "align_self": null,
            "border": null,
            "bottom": null,
            "display": null,
            "flex": null,
            "flex_flow": null,
            "grid_area": null,
            "grid_auto_columns": null,
            "grid_auto_flow": null,
            "grid_auto_rows": null,
            "grid_column": null,
            "grid_gap": null,
            "grid_row": null,
            "grid_template_areas": null,
            "grid_template_columns": null,
            "grid_template_rows": null,
            "height": null,
            "justify_content": null,
            "justify_items": null,
            "left": null,
            "margin": null,
            "max_height": null,
            "max_width": null,
            "min_height": null,
            "min_width": null,
            "object_fit": null,
            "object_position": null,
            "order": null,
            "overflow": null,
            "overflow_x": null,
            "overflow_y": null,
            "padding": null,
            "right": null,
            "top": null,
            "visibility": null,
            "width": null
          }
        },
        "ace7245b42784918ae8582b7b3eda4c6": {
          "model_module": "@jupyter-widgets/controls",
          "model_name": "DescriptionStyleModel",
          "model_module_version": "1.5.0",
          "state": {
            "_model_module": "@jupyter-widgets/controls",
            "_model_module_version": "1.5.0",
            "_model_name": "DescriptionStyleModel",
            "_view_count": null,
            "_view_module": "@jupyter-widgets/base",
            "_view_module_version": "1.2.0",
            "_view_name": "StyleView",
            "description_width": ""
          }
        },
        "f2f9316ee8d04c5f856fd248c4aaad33": {
          "model_module": "@jupyter-widgets/controls",
          "model_name": "HBoxModel",
          "model_module_version": "1.5.0",
          "state": {
            "_dom_classes": [],
            "_model_module": "@jupyter-widgets/controls",
            "_model_module_version": "1.5.0",
            "_model_name": "HBoxModel",
            "_view_count": null,
            "_view_module": "@jupyter-widgets/controls",
            "_view_module_version": "1.5.0",
            "_view_name": "HBoxView",
            "box_style": "",
            "children": [
              "IPY_MODEL_cfe22ff2d30f4d57a689cae1a9dd7d86",
              "IPY_MODEL_eb97e7bfea9a4da79dc0e973cde81e53",
              "IPY_MODEL_0ebebc369641490eb3086a969d317ad2"
            ],
            "layout": "IPY_MODEL_21c0d2aa35104ee592abd12ce5a5833b"
          }
        },
        "cfe22ff2d30f4d57a689cae1a9dd7d86": {
          "model_module": "@jupyter-widgets/controls",
          "model_name": "HTMLModel",
          "model_module_version": "1.5.0",
          "state": {
            "_dom_classes": [],
            "_model_module": "@jupyter-widgets/controls",
            "_model_module_version": "1.5.0",
            "_model_name": "HTMLModel",
            "_view_count": null,
            "_view_module": "@jupyter-widgets/controls",
            "_view_module_version": "1.5.0",
            "_view_name": "HTMLView",
            "description": "",
            "description_tooltip": null,
            "layout": "IPY_MODEL_ce9fc6eb90ca427294607b193a3277f0",
            "placeholder": "​",
            "style": "IPY_MODEL_f0838dd4cb684bf995ad14f2860e1323",
            "value": "model.safetensors: 100%"
          }
        },
        "eb97e7bfea9a4da79dc0e973cde81e53": {
          "model_module": "@jupyter-widgets/controls",
          "model_name": "FloatProgressModel",
          "model_module_version": "1.5.0",
          "state": {
            "_dom_classes": [],
            "_model_module": "@jupyter-widgets/controls",
            "_model_module_version": "1.5.0",
            "_model_name": "FloatProgressModel",
            "_view_count": null,
            "_view_module": "@jupyter-widgets/controls",
            "_view_module_version": "1.5.0",
            "_view_name": "ProgressView",
            "bar_style": "success",
            "description": "",
            "description_tooltip": null,
            "layout": "IPY_MODEL_53c79302d8284111b749ef305b7cfe19",
            "max": 440449768,
            "min": 0,
            "orientation": "horizontal",
            "style": "IPY_MODEL_cc0ddd05bbb64f8b898c545a6fd77be2",
            "value": 440449768
          }
        },
        "0ebebc369641490eb3086a969d317ad2": {
          "model_module": "@jupyter-widgets/controls",
          "model_name": "HTMLModel",
          "model_module_version": "1.5.0",
          "state": {
            "_dom_classes": [],
            "_model_module": "@jupyter-widgets/controls",
            "_model_module_version": "1.5.0",
            "_model_name": "HTMLModel",
            "_view_count": null,
            "_view_module": "@jupyter-widgets/controls",
            "_view_module_version": "1.5.0",
            "_view_name": "HTMLView",
            "description": "",
            "description_tooltip": null,
            "layout": "IPY_MODEL_e57028da3ea245d48c46400a6a746443",
            "placeholder": "​",
            "style": "IPY_MODEL_1830eebd8b8f4b2986e124b47d6e0d77",
            "value": " 440M/440M [00:05&lt;00:00, 100MB/s]"
          }
        },
        "21c0d2aa35104ee592abd12ce5a5833b": {
          "model_module": "@jupyter-widgets/base",
          "model_name": "LayoutModel",
          "model_module_version": "1.2.0",
          "state": {
            "_model_module": "@jupyter-widgets/base",
            "_model_module_version": "1.2.0",
            "_model_name": "LayoutModel",
            "_view_count": null,
            "_view_module": "@jupyter-widgets/base",
            "_view_module_version": "1.2.0",
            "_view_name": "LayoutView",
            "align_content": null,
            "align_items": null,
            "align_self": null,
            "border": null,
            "bottom": null,
            "display": null,
            "flex": null,
            "flex_flow": null,
            "grid_area": null,
            "grid_auto_columns": null,
            "grid_auto_flow": null,
            "grid_auto_rows": null,
            "grid_column": null,
            "grid_gap": null,
            "grid_row": null,
            "grid_template_areas": null,
            "grid_template_columns": null,
            "grid_template_rows": null,
            "height": null,
            "justify_content": null,
            "justify_items": null,
            "left": null,
            "margin": null,
            "max_height": null,
            "max_width": null,
            "min_height": null,
            "min_width": null,
            "object_fit": null,
            "object_position": null,
            "order": null,
            "overflow": null,
            "overflow_x": null,
            "overflow_y": null,
            "padding": null,
            "right": null,
            "top": null,
            "visibility": null,
            "width": null
          }
        },
        "ce9fc6eb90ca427294607b193a3277f0": {
          "model_module": "@jupyter-widgets/base",
          "model_name": "LayoutModel",
          "model_module_version": "1.2.0",
          "state": {
            "_model_module": "@jupyter-widgets/base",
            "_model_module_version": "1.2.0",
            "_model_name": "LayoutModel",
            "_view_count": null,
            "_view_module": "@jupyter-widgets/base",
            "_view_module_version": "1.2.0",
            "_view_name": "LayoutView",
            "align_content": null,
            "align_items": null,
            "align_self": null,
            "border": null,
            "bottom": null,
            "display": null,
            "flex": null,
            "flex_flow": null,
            "grid_area": null,
            "grid_auto_columns": null,
            "grid_auto_flow": null,
            "grid_auto_rows": null,
            "grid_column": null,
            "grid_gap": null,
            "grid_row": null,
            "grid_template_areas": null,
            "grid_template_columns": null,
            "grid_template_rows": null,
            "height": null,
            "justify_content": null,
            "justify_items": null,
            "left": null,
            "margin": null,
            "max_height": null,
            "max_width": null,
            "min_height": null,
            "min_width": null,
            "object_fit": null,
            "object_position": null,
            "order": null,
            "overflow": null,
            "overflow_x": null,
            "overflow_y": null,
            "padding": null,
            "right": null,
            "top": null,
            "visibility": null,
            "width": null
          }
        },
        "f0838dd4cb684bf995ad14f2860e1323": {
          "model_module": "@jupyter-widgets/controls",
          "model_name": "DescriptionStyleModel",
          "model_module_version": "1.5.0",
          "state": {
            "_model_module": "@jupyter-widgets/controls",
            "_model_module_version": "1.5.0",
            "_model_name": "DescriptionStyleModel",
            "_view_count": null,
            "_view_module": "@jupyter-widgets/base",
            "_view_module_version": "1.2.0",
            "_view_name": "StyleView",
            "description_width": ""
          }
        },
        "53c79302d8284111b749ef305b7cfe19": {
          "model_module": "@jupyter-widgets/base",
          "model_name": "LayoutModel",
          "model_module_version": "1.2.0",
          "state": {
            "_model_module": "@jupyter-widgets/base",
            "_model_module_version": "1.2.0",
            "_model_name": "LayoutModel",
            "_view_count": null,
            "_view_module": "@jupyter-widgets/base",
            "_view_module_version": "1.2.0",
            "_view_name": "LayoutView",
            "align_content": null,
            "align_items": null,
            "align_self": null,
            "border": null,
            "bottom": null,
            "display": null,
            "flex": null,
            "flex_flow": null,
            "grid_area": null,
            "grid_auto_columns": null,
            "grid_auto_flow": null,
            "grid_auto_rows": null,
            "grid_column": null,
            "grid_gap": null,
            "grid_row": null,
            "grid_template_areas": null,
            "grid_template_columns": null,
            "grid_template_rows": null,
            "height": null,
            "justify_content": null,
            "justify_items": null,
            "left": null,
            "margin": null,
            "max_height": null,
            "max_width": null,
            "min_height": null,
            "min_width": null,
            "object_fit": null,
            "object_position": null,
            "order": null,
            "overflow": null,
            "overflow_x": null,
            "overflow_y": null,
            "padding": null,
            "right": null,
            "top": null,
            "visibility": null,
            "width": null
          }
        },
        "cc0ddd05bbb64f8b898c545a6fd77be2": {
          "model_module": "@jupyter-widgets/controls",
          "model_name": "ProgressStyleModel",
          "model_module_version": "1.5.0",
          "state": {
            "_model_module": "@jupyter-widgets/controls",
            "_model_module_version": "1.5.0",
            "_model_name": "ProgressStyleModel",
            "_view_count": null,
            "_view_module": "@jupyter-widgets/base",
            "_view_module_version": "1.2.0",
            "_view_name": "StyleView",
            "bar_color": null,
            "description_width": ""
          }
        },
        "e57028da3ea245d48c46400a6a746443": {
          "model_module": "@jupyter-widgets/base",
          "model_name": "LayoutModel",
          "model_module_version": "1.2.0",
          "state": {
            "_model_module": "@jupyter-widgets/base",
            "_model_module_version": "1.2.0",
            "_model_name": "LayoutModel",
            "_view_count": null,
            "_view_module": "@jupyter-widgets/base",
            "_view_module_version": "1.2.0",
            "_view_name": "LayoutView",
            "align_content": null,
            "align_items": null,
            "align_self": null,
            "border": null,
            "bottom": null,
            "display": null,
            "flex": null,
            "flex_flow": null,
            "grid_area": null,
            "grid_auto_columns": null,
            "grid_auto_flow": null,
            "grid_auto_rows": null,
            "grid_column": null,
            "grid_gap": null,
            "grid_row": null,
            "grid_template_areas": null,
            "grid_template_columns": null,
            "grid_template_rows": null,
            "height": null,
            "justify_content": null,
            "justify_items": null,
            "left": null,
            "margin": null,
            "max_height": null,
            "max_width": null,
            "min_height": null,
            "min_width": null,
            "object_fit": null,
            "object_position": null,
            "order": null,
            "overflow": null,
            "overflow_x": null,
            "overflow_y": null,
            "padding": null,
            "right": null,
            "top": null,
            "visibility": null,
            "width": null
          }
        },
        "1830eebd8b8f4b2986e124b47d6e0d77": {
          "model_module": "@jupyter-widgets/controls",
          "model_name": "DescriptionStyleModel",
          "model_module_version": "1.5.0",
          "state": {
            "_model_module": "@jupyter-widgets/controls",
            "_model_module_version": "1.5.0",
            "_model_name": "DescriptionStyleModel",
            "_view_count": null,
            "_view_module": "@jupyter-widgets/base",
            "_view_module_version": "1.2.0",
            "_view_name": "StyleView",
            "description_width": ""
          }
        }
      }
    }
  },
  "nbformat_minor": 0,
  "nbformat": 4,
  "cells": [
    {
      "cell_type": "markdown",
      "source": [
        "## Dataset loading\n",
        "\n"
      ],
      "metadata": {
        "id": "fY_BOeubOhaQ"
      }
    },
    {
      "cell_type": "code",
      "source": [
        "#! pip install gensim"
      ],
      "metadata": {
        "execution": {
          "iopub.status.busy": "2023-07-16T11:49:16.540234Z",
          "iopub.execute_input": "2023-07-16T11:49:16.540623Z",
          "iopub.status.idle": "2023-07-16T11:49:16.545424Z",
          "shell.execute_reply.started": "2023-07-16T11:49:16.540592Z",
          "shell.execute_reply": "2023-07-16T11:49:16.544325Z"
        },
        "trusted": true,
        "id": "ll0ENLPjOhaQ"
      },
      "execution_count": null,
      "outputs": []
    },
    {
      "cell_type": "code",
      "source": [
        "import pandas as pd\n",
        "import numpy as np\n",
        "import pandas as pd\n",
        "import tensorflow as tf\n",
        "import string\n",
        "import re\n",
        "import random\n",
        "import seaborn as sns\n",
        "%matplotlib inline\n",
        "import matplotlib.pyplot as plt\n",
        "import seaborn as sns\n",
        "from gensim.models import word2vec, FastText\n",
        "import gensim.downloader\n",
        "from sklearn.decomposition import PCA"
      ],
      "metadata": {
        "execution": {
          "iopub.status.busy": "2023-07-16T11:49:16.748012Z",
          "iopub.execute_input": "2023-07-16T11:49:16.748368Z",
          "iopub.status.idle": "2023-07-16T11:49:26.314810Z",
          "shell.execute_reply.started": "2023-07-16T11:49:16.748340Z",
          "shell.execute_reply": "2023-07-16T11:49:26.313822Z"
        },
        "trusted": true,
        "id": "QJYXcKzXOhaR"
      },
      "execution_count": null,
      "outputs": []
    },
    {
      "cell_type": "code",
      "source": [
        "from google.colab import drive\n",
        "\n",
        "drive.mount('/content/drive')"
      ],
      "metadata": {
        "colab": {
          "base_uri": "https://localhost:8080/"
        },
        "id": "VkHpRmY3Ou8x",
        "outputId": "0cc29d97-7a20-48e4-da9e-477b0bd899fc"
      },
      "execution_count": null,
      "outputs": [
        {
          "output_type": "stream",
          "name": "stdout",
          "text": [
            "Mounted at /content/drive\n"
          ]
        }
      ]
    },
    {
      "cell_type": "code",
      "source": [
        "!unzip /content/drive/MyDrive/ner.csv.zip\n",
        "!unzip /content/drive/MyDrive/ner_dataset.csv.zip"
      ],
      "metadata": {
        "colab": {
          "base_uri": "https://localhost:8080/"
        },
        "id": "1i-ofg0POwVT",
        "outputId": "7d9b3a3f-f5d1-4251-c8fb-0cfa43dd1751"
      },
      "execution_count": null,
      "outputs": [
        {
          "output_type": "stream",
          "name": "stdout",
          "text": [
            "Archive:  /content/drive/MyDrive/ner.csv.zip\n",
            "  inflating: ner.csv                 \n",
            "Archive:  /content/drive/MyDrive/ner_dataset.csv.zip\n",
            "  inflating: ner_dataset.csv         \n"
          ]
        }
      ]
    },
    {
      "cell_type": "code",
      "source": [
        "df=pd.read_csv('/content/ner_dataset.csv', encoding= 'unicode_escape')"
      ],
      "metadata": {
        "id": "Py871tX5oWA-",
        "execution": {
          "iopub.status.busy": "2023-07-16T11:49:26.317032Z",
          "iopub.execute_input": "2023-07-16T11:49:26.317769Z",
          "iopub.status.idle": "2023-07-16T11:49:27.092317Z",
          "shell.execute_reply.started": "2023-07-16T11:49:26.317735Z",
          "shell.execute_reply": "2023-07-16T11:49:27.091259Z"
        },
        "trusted": true
      },
      "execution_count": null,
      "outputs": []
    },
    {
      "cell_type": "code",
      "source": [
        "df['Sentence #']=df['Sentence #'].ffill()"
      ],
      "metadata": {
        "execution": {
          "iopub.status.busy": "2023-07-16T11:49:27.093800Z",
          "iopub.execute_input": "2023-07-16T11:49:27.094149Z",
          "iopub.status.idle": "2023-07-16T11:49:27.411323Z",
          "shell.execute_reply.started": "2023-07-16T11:49:27.094116Z",
          "shell.execute_reply": "2023-07-16T11:49:27.410252Z"
        },
        "trusted": true,
        "id": "O5igJ4KSOhaS"
      },
      "execution_count": null,
      "outputs": []
    },
    {
      "cell_type": "code",
      "source": [
        "%pip install datasets transformers\n",
        "%pip install tensorflow-addons"
      ],
      "metadata": {
        "id": "COZ1Nw8_vTxX",
        "execution": {
          "iopub.status.busy": "2023-07-16T11:49:27.413748Z",
          "iopub.execute_input": "2023-07-16T11:49:27.414049Z",
          "iopub.status.idle": "2023-07-16T11:49:27.418619Z",
          "shell.execute_reply.started": "2023-07-16T11:49:27.414024Z",
          "shell.execute_reply": "2023-07-16T11:49:27.417220Z"
        },
        "trusted": true,
        "colab": {
          "base_uri": "https://localhost:8080/"
        },
        "outputId": "db1a61bc-4829-484a-c1bf-a8f0682a8e37"
      },
      "execution_count": null,
      "outputs": [
        {
          "output_type": "stream",
          "name": "stdout",
          "text": [
            "Collecting datasets\n",
            "  Downloading datasets-2.15.0-py3-none-any.whl (521 kB)\n",
            "\u001b[2K     \u001b[90m━━━━━━━━━━━━━━━━━━━━━━━━━━━━━━━━━━━━━━━━\u001b[0m \u001b[32m521.2/521.2 kB\u001b[0m \u001b[31m4.2 MB/s\u001b[0m eta \u001b[36m0:00:00\u001b[0m\n",
            "\u001b[?25hRequirement already satisfied: transformers in /usr/local/lib/python3.10/dist-packages (4.35.2)\n",
            "Requirement already satisfied: numpy>=1.17 in /usr/local/lib/python3.10/dist-packages (from datasets) (1.23.5)\n",
            "Requirement already satisfied: pyarrow>=8.0.0 in /usr/local/lib/python3.10/dist-packages (from datasets) (9.0.0)\n",
            "Collecting pyarrow-hotfix (from datasets)\n",
            "  Downloading pyarrow_hotfix-0.6-py3-none-any.whl (7.9 kB)\n",
            "Collecting dill<0.3.8,>=0.3.0 (from datasets)\n",
            "  Downloading dill-0.3.7-py3-none-any.whl (115 kB)\n",
            "\u001b[2K     \u001b[90m━━━━━━━━━━━━━━━━━━━━━━━━━━━━━━━━━━━━━━━━\u001b[0m \u001b[32m115.3/115.3 kB\u001b[0m \u001b[31m12.9 MB/s\u001b[0m eta \u001b[36m0:00:00\u001b[0m\n",
            "\u001b[?25hRequirement already satisfied: pandas in /usr/local/lib/python3.10/dist-packages (from datasets) (1.5.3)\n",
            "Requirement already satisfied: requests>=2.19.0 in /usr/local/lib/python3.10/dist-packages (from datasets) (2.31.0)\n",
            "Requirement already satisfied: tqdm>=4.62.1 in /usr/local/lib/python3.10/dist-packages (from datasets) (4.66.1)\n",
            "Requirement already satisfied: xxhash in /usr/local/lib/python3.10/dist-packages (from datasets) (3.4.1)\n",
            "Collecting multiprocess (from datasets)\n",
            "  Downloading multiprocess-0.70.15-py310-none-any.whl (134 kB)\n",
            "\u001b[2K     \u001b[90m━━━━━━━━━━━━━━━━━━━━━━━━━━━━━━━━━━━━━━━━\u001b[0m \u001b[32m134.8/134.8 kB\u001b[0m \u001b[31m14.4 MB/s\u001b[0m eta \u001b[36m0:00:00\u001b[0m\n",
            "\u001b[?25hRequirement already satisfied: fsspec[http]<=2023.10.0,>=2023.1.0 in /usr/local/lib/python3.10/dist-packages (from datasets) (2023.6.0)\n",
            "Requirement already satisfied: aiohttp in /usr/local/lib/python3.10/dist-packages (from datasets) (3.9.1)\n",
            "Requirement already satisfied: huggingface-hub>=0.18.0 in /usr/local/lib/python3.10/dist-packages (from datasets) (0.19.4)\n",
            "Requirement already satisfied: packaging in /usr/local/lib/python3.10/dist-packages (from datasets) (23.2)\n",
            "Requirement already satisfied: pyyaml>=5.1 in /usr/local/lib/python3.10/dist-packages (from datasets) (6.0.1)\n",
            "Requirement already satisfied: filelock in /usr/local/lib/python3.10/dist-packages (from transformers) (3.13.1)\n",
            "Requirement already satisfied: regex!=2019.12.17 in /usr/local/lib/python3.10/dist-packages (from transformers) (2023.6.3)\n",
            "Requirement already satisfied: tokenizers<0.19,>=0.14 in /usr/local/lib/python3.10/dist-packages (from transformers) (0.15.0)\n",
            "Requirement already satisfied: safetensors>=0.3.1 in /usr/local/lib/python3.10/dist-packages (from transformers) (0.4.1)\n",
            "Requirement already satisfied: attrs>=17.3.0 in /usr/local/lib/python3.10/dist-packages (from aiohttp->datasets) (23.1.0)\n",
            "Requirement already satisfied: multidict<7.0,>=4.5 in /usr/local/lib/python3.10/dist-packages (from aiohttp->datasets) (6.0.4)\n",
            "Requirement already satisfied: yarl<2.0,>=1.0 in /usr/local/lib/python3.10/dist-packages (from aiohttp->datasets) (1.9.3)\n",
            "Requirement already satisfied: frozenlist>=1.1.1 in /usr/local/lib/python3.10/dist-packages (from aiohttp->datasets) (1.4.0)\n",
            "Requirement already satisfied: aiosignal>=1.1.2 in /usr/local/lib/python3.10/dist-packages (from aiohttp->datasets) (1.3.1)\n",
            "Requirement already satisfied: async-timeout<5.0,>=4.0 in /usr/local/lib/python3.10/dist-packages (from aiohttp->datasets) (4.0.3)\n",
            "Requirement already satisfied: typing-extensions>=3.7.4.3 in /usr/local/lib/python3.10/dist-packages (from huggingface-hub>=0.18.0->datasets) (4.5.0)\n",
            "Requirement already satisfied: charset-normalizer<4,>=2 in /usr/local/lib/python3.10/dist-packages (from requests>=2.19.0->datasets) (3.3.2)\n",
            "Requirement already satisfied: idna<4,>=2.5 in /usr/local/lib/python3.10/dist-packages (from requests>=2.19.0->datasets) (3.6)\n",
            "Requirement already satisfied: urllib3<3,>=1.21.1 in /usr/local/lib/python3.10/dist-packages (from requests>=2.19.0->datasets) (2.0.7)\n",
            "Requirement already satisfied: certifi>=2017.4.17 in /usr/local/lib/python3.10/dist-packages (from requests>=2.19.0->datasets) (2023.11.17)\n",
            "Requirement already satisfied: python-dateutil>=2.8.1 in /usr/local/lib/python3.10/dist-packages (from pandas->datasets) (2.8.2)\n",
            "Requirement already satisfied: pytz>=2020.1 in /usr/local/lib/python3.10/dist-packages (from pandas->datasets) (2023.3.post1)\n",
            "Requirement already satisfied: six>=1.5 in /usr/local/lib/python3.10/dist-packages (from python-dateutil>=2.8.1->pandas->datasets) (1.16.0)\n",
            "Installing collected packages: pyarrow-hotfix, dill, multiprocess, datasets\n",
            "Successfully installed datasets-2.15.0 dill-0.3.7 multiprocess-0.70.15 pyarrow-hotfix-0.6\n",
            "Collecting tensorflow-addons\n",
            "  Downloading tensorflow_addons-0.23.0-cp310-cp310-manylinux_2_17_x86_64.manylinux2014_x86_64.whl (611 kB)\n",
            "\u001b[2K     \u001b[90m━━━━━━━━━━━━━━━━━━━━━━━━━━━━━━━━━━━━━━━━\u001b[0m \u001b[32m611.8/611.8 kB\u001b[0m \u001b[31m4.4 MB/s\u001b[0m eta \u001b[36m0:00:00\u001b[0m\n",
            "\u001b[?25hRequirement already satisfied: packaging in /usr/local/lib/python3.10/dist-packages (from tensorflow-addons) (23.2)\n",
            "Collecting typeguard<3.0.0,>=2.7 (from tensorflow-addons)\n",
            "  Downloading typeguard-2.13.3-py3-none-any.whl (17 kB)\n",
            "Installing collected packages: typeguard, tensorflow-addons\n",
            "Successfully installed tensorflow-addons-0.23.0 typeguard-2.13.3\n"
          ]
        }
      ]
    },
    {
      "cell_type": "code",
      "source": [
        "# import pandas as pd\n",
        "# column_names = ['Token', 'POS']\n",
        "# df_train = pd.read_csv(\"wnut 16.txt.conll\", sep='\\t', header=None,names=column_names ,comment='#')\n",
        "# df_test = pd.read_csv(\"wnut 16test.txt.conll\", sep='\\t', header=None,names=column_names ,comment='#')\n",
        "# df_train.head()"
      ],
      "metadata": {
        "id": "GxQ9e53f6G0l",
        "execution": {
          "iopub.status.busy": "2023-07-16T11:49:27.420103Z",
          "iopub.execute_input": "2023-07-16T11:49:27.420723Z",
          "iopub.status.idle": "2023-07-16T11:49:27.430800Z",
          "shell.execute_reply.started": "2023-07-16T11:49:27.420690Z",
          "shell.execute_reply": "2023-07-16T11:49:27.429866Z"
        },
        "trusted": true
      },
      "execution_count": null,
      "outputs": []
    },
    {
      "cell_type": "code",
      "source": [
        "df=df[['Sentence #','Word','Tag']]\n",
        "df.rename(columns={'Sentence #':'Sentence','Word':'Token','Tag':'POS'},inplace=True)"
      ],
      "metadata": {
        "execution": {
          "iopub.status.busy": "2023-07-16T11:49:27.432499Z",
          "iopub.execute_input": "2023-07-16T11:49:27.432850Z",
          "iopub.status.idle": "2023-07-16T11:49:27.627580Z",
          "shell.execute_reply.started": "2023-07-16T11:49:27.432817Z",
          "shell.execute_reply": "2023-07-16T11:49:27.626612Z"
        },
        "trusted": true,
        "colab": {
          "base_uri": "https://localhost:8080/"
        },
        "id": "azxG44WhOhaS",
        "outputId": "c89d4199-3bea-4361-df92-5bc1dda8104a"
      },
      "execution_count": null,
      "outputs": [
        {
          "output_type": "stream",
          "name": "stderr",
          "text": [
            "<ipython-input-10-e444fee1884a>:2: SettingWithCopyWarning: \n",
            "A value is trying to be set on a copy of a slice from a DataFrame\n",
            "\n",
            "See the caveats in the documentation: https://pandas.pydata.org/pandas-docs/stable/user_guide/indexing.html#returning-a-view-versus-a-copy\n",
            "  df.rename(columns={'Sentence #':'Sentence','Word':'Token','Tag':'POS'},inplace=True)\n"
          ]
        }
      ]
    },
    {
      "cell_type": "code",
      "source": [
        "df"
      ],
      "metadata": {
        "execution": {
          "iopub.status.busy": "2023-07-16T11:49:27.629273Z",
          "iopub.execute_input": "2023-07-16T11:49:27.629626Z",
          "iopub.status.idle": "2023-07-16T11:49:27.634181Z",
          "shell.execute_reply.started": "2023-07-16T11:49:27.629592Z",
          "shell.execute_reply": "2023-07-16T11:49:27.633215Z"
        },
        "trusted": true,
        "colab": {
          "base_uri": "https://localhost:8080/",
          "height": 424
        },
        "id": "RQbye9qvOhaT",
        "outputId": "9585f9a3-9ebc-4abe-8402-79b97784a896"
      },
      "execution_count": null,
      "outputs": [
        {
          "output_type": "execute_result",
          "data": {
            "text/plain": [
              "                Sentence          Token POS\n",
              "0            Sentence: 1      Thousands   O\n",
              "1            Sentence: 1             of   O\n",
              "2            Sentence: 1  demonstrators   O\n",
              "3            Sentence: 1           have   O\n",
              "4            Sentence: 1        marched   O\n",
              "...                  ...            ...  ..\n",
              "1048570  Sentence: 47959           they   O\n",
              "1048571  Sentence: 47959      responded   O\n",
              "1048572  Sentence: 47959             to   O\n",
              "1048573  Sentence: 47959            the   O\n",
              "1048574  Sentence: 47959         attack   O\n",
              "\n",
              "[1048575 rows x 3 columns]"
            ],
            "text/html": [
              "\n",
              "  <div id=\"df-06f3a9fb-b01e-4c2f-aaab-114caafaecf4\" class=\"colab-df-container\">\n",
              "    <div>\n",
              "<style scoped>\n",
              "    .dataframe tbody tr th:only-of-type {\n",
              "        vertical-align: middle;\n",
              "    }\n",
              "\n",
              "    .dataframe tbody tr th {\n",
              "        vertical-align: top;\n",
              "    }\n",
              "\n",
              "    .dataframe thead th {\n",
              "        text-align: right;\n",
              "    }\n",
              "</style>\n",
              "<table border=\"1\" class=\"dataframe\">\n",
              "  <thead>\n",
              "    <tr style=\"text-align: right;\">\n",
              "      <th></th>\n",
              "      <th>Sentence</th>\n",
              "      <th>Token</th>\n",
              "      <th>POS</th>\n",
              "    </tr>\n",
              "  </thead>\n",
              "  <tbody>\n",
              "    <tr>\n",
              "      <th>0</th>\n",
              "      <td>Sentence: 1</td>\n",
              "      <td>Thousands</td>\n",
              "      <td>O</td>\n",
              "    </tr>\n",
              "    <tr>\n",
              "      <th>1</th>\n",
              "      <td>Sentence: 1</td>\n",
              "      <td>of</td>\n",
              "      <td>O</td>\n",
              "    </tr>\n",
              "    <tr>\n",
              "      <th>2</th>\n",
              "      <td>Sentence: 1</td>\n",
              "      <td>demonstrators</td>\n",
              "      <td>O</td>\n",
              "    </tr>\n",
              "    <tr>\n",
              "      <th>3</th>\n",
              "      <td>Sentence: 1</td>\n",
              "      <td>have</td>\n",
              "      <td>O</td>\n",
              "    </tr>\n",
              "    <tr>\n",
              "      <th>4</th>\n",
              "      <td>Sentence: 1</td>\n",
              "      <td>marched</td>\n",
              "      <td>O</td>\n",
              "    </tr>\n",
              "    <tr>\n",
              "      <th>...</th>\n",
              "      <td>...</td>\n",
              "      <td>...</td>\n",
              "      <td>...</td>\n",
              "    </tr>\n",
              "    <tr>\n",
              "      <th>1048570</th>\n",
              "      <td>Sentence: 47959</td>\n",
              "      <td>they</td>\n",
              "      <td>O</td>\n",
              "    </tr>\n",
              "    <tr>\n",
              "      <th>1048571</th>\n",
              "      <td>Sentence: 47959</td>\n",
              "      <td>responded</td>\n",
              "      <td>O</td>\n",
              "    </tr>\n",
              "    <tr>\n",
              "      <th>1048572</th>\n",
              "      <td>Sentence: 47959</td>\n",
              "      <td>to</td>\n",
              "      <td>O</td>\n",
              "    </tr>\n",
              "    <tr>\n",
              "      <th>1048573</th>\n",
              "      <td>Sentence: 47959</td>\n",
              "      <td>the</td>\n",
              "      <td>O</td>\n",
              "    </tr>\n",
              "    <tr>\n",
              "      <th>1048574</th>\n",
              "      <td>Sentence: 47959</td>\n",
              "      <td>attack</td>\n",
              "      <td>O</td>\n",
              "    </tr>\n",
              "  </tbody>\n",
              "</table>\n",
              "<p>1048575 rows × 3 columns</p>\n",
              "</div>\n",
              "    <div class=\"colab-df-buttons\">\n",
              "\n",
              "  <div class=\"colab-df-container\">\n",
              "    <button class=\"colab-df-convert\" onclick=\"convertToInteractive('df-06f3a9fb-b01e-4c2f-aaab-114caafaecf4')\"\n",
              "            title=\"Convert this dataframe to an interactive table.\"\n",
              "            style=\"display:none;\">\n",
              "\n",
              "  <svg xmlns=\"http://www.w3.org/2000/svg\" height=\"24px\" viewBox=\"0 -960 960 960\">\n",
              "    <path d=\"M120-120v-720h720v720H120Zm60-500h600v-160H180v160Zm220 220h160v-160H400v160Zm0 220h160v-160H400v160ZM180-400h160v-160H180v160Zm440 0h160v-160H620v160ZM180-180h160v-160H180v160Zm440 0h160v-160H620v160Z\"/>\n",
              "  </svg>\n",
              "    </button>\n",
              "\n",
              "  <style>\n",
              "    .colab-df-container {\n",
              "      display:flex;\n",
              "      gap: 12px;\n",
              "    }\n",
              "\n",
              "    .colab-df-convert {\n",
              "      background-color: #E8F0FE;\n",
              "      border: none;\n",
              "      border-radius: 50%;\n",
              "      cursor: pointer;\n",
              "      display: none;\n",
              "      fill: #1967D2;\n",
              "      height: 32px;\n",
              "      padding: 0 0 0 0;\n",
              "      width: 32px;\n",
              "    }\n",
              "\n",
              "    .colab-df-convert:hover {\n",
              "      background-color: #E2EBFA;\n",
              "      box-shadow: 0px 1px 2px rgba(60, 64, 67, 0.3), 0px 1px 3px 1px rgba(60, 64, 67, 0.15);\n",
              "      fill: #174EA6;\n",
              "    }\n",
              "\n",
              "    .colab-df-buttons div {\n",
              "      margin-bottom: 4px;\n",
              "    }\n",
              "\n",
              "    [theme=dark] .colab-df-convert {\n",
              "      background-color: #3B4455;\n",
              "      fill: #D2E3FC;\n",
              "    }\n",
              "\n",
              "    [theme=dark] .colab-df-convert:hover {\n",
              "      background-color: #434B5C;\n",
              "      box-shadow: 0px 1px 3px 1px rgba(0, 0, 0, 0.15);\n",
              "      filter: drop-shadow(0px 1px 2px rgba(0, 0, 0, 0.3));\n",
              "      fill: #FFFFFF;\n",
              "    }\n",
              "  </style>\n",
              "\n",
              "    <script>\n",
              "      const buttonEl =\n",
              "        document.querySelector('#df-06f3a9fb-b01e-4c2f-aaab-114caafaecf4 button.colab-df-convert');\n",
              "      buttonEl.style.display =\n",
              "        google.colab.kernel.accessAllowed ? 'block' : 'none';\n",
              "\n",
              "      async function convertToInteractive(key) {\n",
              "        const element = document.querySelector('#df-06f3a9fb-b01e-4c2f-aaab-114caafaecf4');\n",
              "        const dataTable =\n",
              "          await google.colab.kernel.invokeFunction('convertToInteractive',\n",
              "                                                    [key], {});\n",
              "        if (!dataTable) return;\n",
              "\n",
              "        const docLinkHtml = 'Like what you see? Visit the ' +\n",
              "          '<a target=\"_blank\" href=https://colab.research.google.com/notebooks/data_table.ipynb>data table notebook</a>'\n",
              "          + ' to learn more about interactive tables.';\n",
              "        element.innerHTML = '';\n",
              "        dataTable['output_type'] = 'display_data';\n",
              "        await google.colab.output.renderOutput(dataTable, element);\n",
              "        const docLink = document.createElement('div');\n",
              "        docLink.innerHTML = docLinkHtml;\n",
              "        element.appendChild(docLink);\n",
              "      }\n",
              "    </script>\n",
              "  </div>\n",
              "\n",
              "\n",
              "<div id=\"df-4a98c7e4-c918-4c04-9b88-bfa76635b7f8\">\n",
              "  <button class=\"colab-df-quickchart\" onclick=\"quickchart('df-4a98c7e4-c918-4c04-9b88-bfa76635b7f8')\"\n",
              "            title=\"Suggest charts\"\n",
              "            style=\"display:none;\">\n",
              "\n",
              "<svg xmlns=\"http://www.w3.org/2000/svg\" height=\"24px\"viewBox=\"0 0 24 24\"\n",
              "     width=\"24px\">\n",
              "    <g>\n",
              "        <path d=\"M19 3H5c-1.1 0-2 .9-2 2v14c0 1.1.9 2 2 2h14c1.1 0 2-.9 2-2V5c0-1.1-.9-2-2-2zM9 17H7v-7h2v7zm4 0h-2V7h2v10zm4 0h-2v-4h2v4z\"/>\n",
              "    </g>\n",
              "</svg>\n",
              "  </button>\n",
              "\n",
              "<style>\n",
              "  .colab-df-quickchart {\n",
              "      --bg-color: #E8F0FE;\n",
              "      --fill-color: #1967D2;\n",
              "      --hover-bg-color: #E2EBFA;\n",
              "      --hover-fill-color: #174EA6;\n",
              "      --disabled-fill-color: #AAA;\n",
              "      --disabled-bg-color: #DDD;\n",
              "  }\n",
              "\n",
              "  [theme=dark] .colab-df-quickchart {\n",
              "      --bg-color: #3B4455;\n",
              "      --fill-color: #D2E3FC;\n",
              "      --hover-bg-color: #434B5C;\n",
              "      --hover-fill-color: #FFFFFF;\n",
              "      --disabled-bg-color: #3B4455;\n",
              "      --disabled-fill-color: #666;\n",
              "  }\n",
              "\n",
              "  .colab-df-quickchart {\n",
              "    background-color: var(--bg-color);\n",
              "    border: none;\n",
              "    border-radius: 50%;\n",
              "    cursor: pointer;\n",
              "    display: none;\n",
              "    fill: var(--fill-color);\n",
              "    height: 32px;\n",
              "    padding: 0;\n",
              "    width: 32px;\n",
              "  }\n",
              "\n",
              "  .colab-df-quickchart:hover {\n",
              "    background-color: var(--hover-bg-color);\n",
              "    box-shadow: 0 1px 2px rgba(60, 64, 67, 0.3), 0 1px 3px 1px rgba(60, 64, 67, 0.15);\n",
              "    fill: var(--button-hover-fill-color);\n",
              "  }\n",
              "\n",
              "  .colab-df-quickchart-complete:disabled,\n",
              "  .colab-df-quickchart-complete:disabled:hover {\n",
              "    background-color: var(--disabled-bg-color);\n",
              "    fill: var(--disabled-fill-color);\n",
              "    box-shadow: none;\n",
              "  }\n",
              "\n",
              "  .colab-df-spinner {\n",
              "    border: 2px solid var(--fill-color);\n",
              "    border-color: transparent;\n",
              "    border-bottom-color: var(--fill-color);\n",
              "    animation:\n",
              "      spin 1s steps(1) infinite;\n",
              "  }\n",
              "\n",
              "  @keyframes spin {\n",
              "    0% {\n",
              "      border-color: transparent;\n",
              "      border-bottom-color: var(--fill-color);\n",
              "      border-left-color: var(--fill-color);\n",
              "    }\n",
              "    20% {\n",
              "      border-color: transparent;\n",
              "      border-left-color: var(--fill-color);\n",
              "      border-top-color: var(--fill-color);\n",
              "    }\n",
              "    30% {\n",
              "      border-color: transparent;\n",
              "      border-left-color: var(--fill-color);\n",
              "      border-top-color: var(--fill-color);\n",
              "      border-right-color: var(--fill-color);\n",
              "    }\n",
              "    40% {\n",
              "      border-color: transparent;\n",
              "      border-right-color: var(--fill-color);\n",
              "      border-top-color: var(--fill-color);\n",
              "    }\n",
              "    60% {\n",
              "      border-color: transparent;\n",
              "      border-right-color: var(--fill-color);\n",
              "    }\n",
              "    80% {\n",
              "      border-color: transparent;\n",
              "      border-right-color: var(--fill-color);\n",
              "      border-bottom-color: var(--fill-color);\n",
              "    }\n",
              "    90% {\n",
              "      border-color: transparent;\n",
              "      border-bottom-color: var(--fill-color);\n",
              "    }\n",
              "  }\n",
              "</style>\n",
              "\n",
              "  <script>\n",
              "    async function quickchart(key) {\n",
              "      const quickchartButtonEl =\n",
              "        document.querySelector('#' + key + ' button');\n",
              "      quickchartButtonEl.disabled = true;  // To prevent multiple clicks.\n",
              "      quickchartButtonEl.classList.add('colab-df-spinner');\n",
              "      try {\n",
              "        const charts = await google.colab.kernel.invokeFunction(\n",
              "            'suggestCharts', [key], {});\n",
              "      } catch (error) {\n",
              "        console.error('Error during call to suggestCharts:', error);\n",
              "      }\n",
              "      quickchartButtonEl.classList.remove('colab-df-spinner');\n",
              "      quickchartButtonEl.classList.add('colab-df-quickchart-complete');\n",
              "    }\n",
              "    (() => {\n",
              "      let quickchartButtonEl =\n",
              "        document.querySelector('#df-4a98c7e4-c918-4c04-9b88-bfa76635b7f8 button');\n",
              "      quickchartButtonEl.style.display =\n",
              "        google.colab.kernel.accessAllowed ? 'block' : 'none';\n",
              "    })();\n",
              "  </script>\n",
              "</div>\n",
              "    </div>\n",
              "  </div>\n"
            ]
          },
          "metadata": {},
          "execution_count": 11
        }
      ]
    },
    {
      "cell_type": "code",
      "source": [
        "sns.histplot(df[df['POS']!='O']['POS'])\n",
        "plt.xticks(rotation=45, ha='right')\n",
        "plt.show()"
      ],
      "metadata": {
        "id": "g4jL8gX-b0IW",
        "outputId": "7d8e5080-ce48-4c1c-c27b-eeef79fbd3b2",
        "execution": {
          "iopub.status.busy": "2023-07-16T11:49:27.635977Z",
          "iopub.execute_input": "2023-07-16T11:49:27.636651Z",
          "iopub.status.idle": "2023-07-16T11:49:28.571586Z",
          "shell.execute_reply.started": "2023-07-16T11:49:27.636619Z",
          "shell.execute_reply": "2023-07-16T11:49:28.569417Z"
        },
        "trusted": true,
        "colab": {
          "base_uri": "https://localhost:8080/",
          "height": 474
        }
      },
      "execution_count": null,
      "outputs": [
        {
          "output_type": "display_data",
          "data": {
            "text/plain": [
              "<Figure size 640x480 with 1 Axes>"
            ],
            "image/png": "[encoded data removed]"
          },
          "metadata": {}
        }
      ]
    },
    {
      "cell_type": "markdown",
      "source": [
        "Clearly there is imbalance in the dataset. Person, Other and loc has the highest count compare to other tags. We will take care of that in loss"
      ],
      "metadata": {
        "id": "tbM_SdKdBOwQ"
      }
    },
    {
      "cell_type": "code",
      "source": [
        "df.info() #There seems to be no null"
      ],
      "metadata": {
        "id": "iRz1A4RR6sb8",
        "outputId": "a43fe9b6-678a-4b55-aa55-a473a98804e5",
        "execution": {
          "iopub.status.busy": "2023-07-16T11:49:28.573101Z",
          "iopub.execute_input": "2023-07-16T11:49:28.573492Z",
          "iopub.status.idle": "2023-07-16T11:49:29.424501Z",
          "shell.execute_reply.started": "2023-07-16T11:49:28.573449Z",
          "shell.execute_reply": "2023-07-16T11:49:29.423364Z"
        },
        "trusted": true,
        "colab": {
          "base_uri": "https://localhost:8080/"
        }
      },
      "execution_count": null,
      "outputs": [
        {
          "output_type": "stream",
          "name": "stdout",
          "text": [
            "<class 'pandas.core.frame.DataFrame'>\n",
            "RangeIndex: 1048575 entries, 0 to 1048574\n",
            "Data columns (total 3 columns):\n",
            " #   Column    Non-Null Count    Dtype \n",
            "---  ------    --------------    ----- \n",
            " 0   Sentence  1048575 non-null  object\n",
            " 1   Token     1048575 non-null  object\n",
            " 2   POS       1048575 non-null  object\n",
            "dtypes: object(3)\n",
            "memory usage: 24.0+ MB\n"
          ]
        }
      ]
    },
    {
      "cell_type": "code",
      "source": [
        "print('Number of sentences are '+str(df['Sentence'].nunique()))\n",
        "print('Number of Vocabs are '+str(df['Token'].nunique()))"
      ],
      "metadata": {
        "id": "EZLsQ3KBD40m",
        "outputId": "0147fda9-dce7-438a-d371-4544624560b1",
        "execution": {
          "iopub.status.busy": "2023-07-16T11:49:29.428329Z",
          "iopub.execute_input": "2023-07-16T11:49:29.428630Z",
          "iopub.status.idle": "2023-07-16T11:49:29.666039Z",
          "shell.execute_reply.started": "2023-07-16T11:49:29.428606Z",
          "shell.execute_reply": "2023-07-16T11:49:29.664911Z"
        },
        "trusted": true,
        "colab": {
          "base_uri": "https://localhost:8080/"
        }
      },
      "execution_count": null,
      "outputs": [
        {
          "output_type": "stream",
          "name": "stdout",
          "text": [
            "Number of sentences are 47959\n",
            "Number of Vocabs are 35178\n"
          ]
        }
      ]
    },
    {
      "cell_type": "markdown",
      "source": [
        "## BERT"
      ],
      "metadata": {
        "id": "UaYHBCKlowMM"
      }
    },
    {
      "cell_type": "markdown",
      "source": [
        "### Preprocessing"
      ],
      "metadata": {
        "id": "wfjH9n3Fpdy5"
      }
    },
    {
      "cell_type": "code",
      "source": [
        "# ! pip install transformers\n",
        "# ! pip install plotly\n"
      ],
      "metadata": {
        "id": "lq-GMYaykBV7",
        "execution": {
          "iopub.status.busy": "2023-07-16T11:49:29.667713Z",
          "iopub.execute_input": "2023-07-16T11:49:29.668076Z",
          "iopub.status.idle": "2023-07-16T11:49:29.672521Z",
          "shell.execute_reply.started": "2023-07-16T11:49:29.668042Z",
          "shell.execute_reply": "2023-07-16T11:49:29.671485Z"
        },
        "trusted": true
      },
      "execution_count": null,
      "outputs": []
    },
    {
      "cell_type": "code",
      "source": [
        "import numpy as np\n",
        "import pandas as pd\n",
        "import plotly.express as px\n",
        "import matplotlib.pyplot as plt\n",
        "from tqdm import tqdm\n",
        "\n",
        "import tensorflow as tf\n",
        "from tensorflow.keras.callbacks import EarlyStopping\n",
        "\n",
        "\n",
        "import transformers\n",
        "from transformers import BertTokenizerFast\n",
        "from transformers import TFBertModel\n",
        "\n",
        "from sklearn import preprocessing\n",
        "from sklearn.model_selection import train_test_split\n"
      ],
      "metadata": {
        "id": "qMesm32ujHE4",
        "execution": {
          "iopub.status.busy": "2023-07-16T11:49:29.674067Z",
          "iopub.execute_input": "2023-07-16T11:49:29.674450Z",
          "iopub.status.idle": "2023-07-16T11:49:34.316873Z",
          "shell.execute_reply.started": "2023-07-16T11:49:29.674420Z",
          "shell.execute_reply": "2023-07-16T11:49:34.315882Z"
        },
        "trusted": true
      },
      "execution_count": null,
      "outputs": []
    },
    {
      "cell_type": "code",
      "source": [
        "# sentence = df.groupby(\"Sentence\")[\"Token\"].apply(list).values\n",
        "# #pos = dataframe.groupby(by = 'Sentence #')['POS'].apply(list).values\n",
        "# tag = df.groupby(by = 'Sentence')['POS'].apply(list).values"
      ],
      "metadata": {
        "id": "KEMGkFdplcCM",
        "execution": {
          "iopub.status.busy": "2023-07-16T11:49:34.318497Z",
          "iopub.execute_input": "2023-07-16T11:49:34.319501Z",
          "iopub.status.idle": "2023-07-16T11:49:34.325939Z",
          "shell.execute_reply.started": "2023-07-16T11:49:34.319463Z",
          "shell.execute_reply": "2023-07-16T11:49:34.324855Z"
        },
        "trusted": true
      },
      "execution_count": null,
      "outputs": []
    },
    {
      "cell_type": "code",
      "source": [
        "# Over Sampling\n",
        "lst = [df]\n",
        "max_size = 1356\n",
        "for class_index, group in df.groupby('POS'):\n",
        "        if len(group)< max_size:\n",
        "            lst.append(group.sample(max_size-len(group), replace=True))\n",
        "train_sample = pd.concat(lst)"
      ],
      "metadata": {
        "id": "1x5DxPg5F3zu",
        "execution": {
          "iopub.status.busy": "2023-07-16T11:49:34.329722Z",
          "iopub.execute_input": "2023-07-16T11:49:34.330126Z",
          "iopub.status.idle": "2023-07-16T11:49:34.584157Z",
          "shell.execute_reply.started": "2023-07-16T11:49:34.330029Z",
          "shell.execute_reply": "2023-07-16T11:49:34.583094Z"
        },
        "trusted": true
      },
      "execution_count": null,
      "outputs": []
    },
    {
      "cell_type": "code",
      "source": [
        "train_sample=train_sample.sort_values(by='Sentence')"
      ],
      "metadata": {
        "id": "YvtjY3D-NMpi",
        "execution": {
          "iopub.status.busy": "2023-07-16T11:49:34.585524Z",
          "iopub.execute_input": "2023-07-16T11:49:34.585908Z",
          "iopub.status.idle": "2023-07-16T11:49:36.160220Z",
          "shell.execute_reply.started": "2023-07-16T11:49:34.585870Z",
          "shell.execute_reply": "2023-07-16T11:49:36.159228Z"
        },
        "trusted": true
      },
      "execution_count": null,
      "outputs": []
    },
    {
      "cell_type": "code",
      "source": [
        "# Token and POS Encoding\n",
        "def process_data(df):\n",
        "    enc_pos = preprocessing.LabelEncoder()\n",
        "    #enc_tag = preprocessing.LabelEncoder()\n",
        "\n",
        "    df.loc[:, \"POS\"] = enc_pos.fit_transform(df[\"POS\"])\n",
        "\n",
        "    sentences = df.groupby(\"Sentence\")[\"Token\"].apply(list).values\n",
        "    pos = df.groupby(\"Sentence\")[\"POS\"].apply(list).values\n",
        "    return sentences, pos, enc_pos\n",
        "\n",
        "sentence,pos,enc_pos = process_data(train_sample.copy())"
      ],
      "metadata": {
        "id": "xfFU-zHqmGM2",
        "outputId": "a7a11c87-e3d2-499b-dd7a-f79eec166ccc",
        "execution": {
          "iopub.status.busy": "2023-07-16T11:49:36.161789Z",
          "iopub.execute_input": "2023-07-16T11:49:36.162250Z",
          "iopub.status.idle": "2023-07-16T11:49:40.152339Z",
          "shell.execute_reply.started": "2023-07-16T11:49:36.162215Z",
          "shell.execute_reply": "2023-07-16T11:49:40.151312Z"
        },
        "trusted": true,
        "colab": {
          "base_uri": "https://localhost:8080/"
        }
      },
      "execution_count": null,
      "outputs": [
        {
          "output_type": "stream",
          "name": "stderr",
          "text": [
            "<ipython-input-20-8238a877c147>:6: DeprecationWarning: In a future version, `df.iloc[:, i] = newvals` will attempt to set the values inplace instead of always setting a new array. To retain the old behavior, use either `df[df.columns[i]] = newvals` or, if columns are non-unique, `df.isetitem(i, newvals)`\n",
            "  df.loc[:, \"POS\"] = enc_pos.fit_transform(df[\"POS\"])\n"
          ]
        }
      ]
    },
    {
      "cell_type": "code",
      "source": [
        "#pos"
      ],
      "metadata": {
        "id": "e1GJU9RZpMnI",
        "execution": {
          "iopub.status.busy": "2023-07-16T11:49:40.153906Z",
          "iopub.execute_input": "2023-07-16T11:49:40.154639Z",
          "iopub.status.idle": "2023-07-16T11:49:40.164471Z",
          "shell.execute_reply.started": "2023-07-16T11:49:40.154605Z",
          "shell.execute_reply": "2023-07-16T11:49:40.162275Z"
        },
        "trusted": true
      },
      "execution_count": null,
      "outputs": []
    },
    {
      "cell_type": "code",
      "source": [
        "# Using BERT Auto-Tokenizer\n",
        "tokenizer = BertTokenizerFast.from_pretrained('bert-base-uncased')\n",
        "MAX_LEN = 256\n",
        "def tokenize(data,max_len = MAX_LEN):\n",
        "    input_ids = list()\n",
        "    attention_mask = list()\n",
        "    for i in tqdm(range(len(data))):\n",
        "        encoded = tokenizer.encode_plus(data[i],\n",
        "                                        add_special_tokens = True,\n",
        "                                        max_length = MAX_LEN,\n",
        "                                        is_split_into_words=True,\n",
        "                                        return_attention_mask=True,\n",
        "                                        padding = 'max_length',\n",
        "                                        truncation=True,return_tensors = 'np')\n",
        "\n",
        "\n",
        "        input_ids.append(encoded['input_ids'])\n",
        "        attention_mask.append(encoded['attention_mask'])\n",
        "    return np.vstack(input_ids),np.vstack(attention_mask)"
      ],
      "metadata": {
        "id": "9OTl4HcClkuE",
        "execution": {
          "iopub.status.busy": "2023-07-16T11:49:40.167360Z",
          "iopub.execute_input": "2023-07-16T11:49:40.167945Z",
          "iopub.status.idle": "2023-07-16T11:49:40.668092Z",
          "shell.execute_reply.started": "2023-07-16T11:49:40.167915Z",
          "shell.execute_reply": "2023-07-16T11:49:40.667092Z"
        },
        "trusted": true,
        "colab": {
          "base_uri": "https://localhost:8080/",
          "height": 145,
          "referenced_widgets": [
            "e123911b2f8343728c650fec8d95835b",
            "03b859a21d0e4cd79f7483850505042d",
            "74a45621a9d042c6ab064576f1d3e676",
            "5e27b5880ebd48e08c6c1169a042bd61",
            "b0acafccfc8142158f341c8c42947f38",
            "85675efe4ded463f891675b66714d725",
            "f78604ce78b341c7b3ce007d7ceb9bd0",
            "65e02edecdd64c54acd10b604025da8d",
            "4c2fb81a809f455dbb876f291b54bc70",
            "f533a2d9ac5a43289881559065b6274c",
            "fb527efecc0941518891bf3246b27b8f",
            "af1b14b2f20d466ab60221bcba06edaa",
            "e6148c7f5f204158a7310ae28a2f9911",
            "4cbe1d577d6a42ffade6e462c4e496fd",
            "026f7ebb1bd84e7ea42b76838711dfff",
            "f47fbfdf5b9b4dc3825a1892220edcac",
            "76c1dafa6dbf4f63ab99eb848b899db5",
            "d6aa61f8432643a2b6ff549d3f819ff8",
            "a9b6a65867164ffdbaab40292f664dfd",
            "7668b983b72e4984a115176165748b2f",
            "c785081550ea4a6b896541682b94e5a6",
            "ccf400c6bbab45fe819a8b1cf337f4c7",
            "0a4c6a35fa7b462fac2e0af2533524e0",
            "9a924d9c4a054150b2b8940943af86c2",
            "e089fbb1d8fe4412ae7fbcea46fbcbb9",
            "c457d95192044fcf98cf44c815594c15",
            "b924e15bab094fa68a29c65b67c68dd8",
            "26971a3bb02b4dcd9605ba5be69181aa",
            "c4d4ff49dfec4ca5b05095f44271063c",
            "cef3bf2a6d48480f89db2db6e1d601b6",
            "a599f28a0d4f42fe8421785869d0fba0",
            "52b8d8d928304a428c4b3748f31648e2",
            "0f8b48d65dbe49c6987313dfbd7a2195",
            "7f78cb9901014b2686100958ec56f1c9",
            "bbf7e7cec3a243bf92744049e521faa0",
            "eea124f88edb4983a45c808369b12e0d",
            "6bfb41d54e43425ba7bdcd32b20f8e6f",
            "12058e303f6c4be29bca070991a9ac50",
            "5af0476945104f03ba246329d2a270b0",
            "1c809b7ef48b42e08e902f0d234281fc",
            "fc1e10ed80e3465f96e9367b659abfa2",
            "a55fe41dc74b443584674f06d526dd1c",
            "da057ec7282749b0a15d9e4d817c2efc",
            "ace7245b42784918ae8582b7b3eda4c6"
          ]
        },
        "outputId": "919b6347-7d02-4d58-b482-ed4c89a3477d"
      },
      "execution_count": null,
      "outputs": [
        {
          "output_type": "display_data",
          "data": {
            "text/plain": [
              "tokenizer_config.json:   0%|          | 0.00/28.0 [00:00<?, ?B/s]"
            ],
            "application/vnd.jupyter.widget-view+json": {
              "version_major": 2,
              "version_minor": 0,
              "model_id": "e123911b2f8343728c650fec8d95835b"
            }
          },
          "metadata": {}
        },
        {
          "output_type": "display_data",
          "data": {
            "text/plain": [
              "vocab.txt:   0%|          | 0.00/232k [00:00<?, ?B/s]"
            ],
            "application/vnd.jupyter.widget-view+json": {
              "version_major": 2,
              "version_minor": 0,
              "model_id": "af1b14b2f20d466ab60221bcba06edaa"
            }
          },
          "metadata": {}
        },
        {
          "output_type": "display_data",
          "data": {
            "text/plain": [
              "tokenizer.json:   0%|          | 0.00/466k [00:00<?, ?B/s]"
            ],
            "application/vnd.jupyter.widget-view+json": {
              "version_major": 2,
              "version_minor": 0,
              "model_id": "0a4c6a35fa7b462fac2e0af2533524e0"
            }
          },
          "metadata": {}
        },
        {
          "output_type": "display_data",
          "data": {
            "text/plain": [
              "config.json:   0%|          | 0.00/570 [00:00<?, ?B/s]"
            ],
            "application/vnd.jupyter.widget-view+json": {
              "version_major": 2,
              "version_minor": 0,
              "model_id": "7f78cb9901014b2686100958ec56f1c9"
            }
          },
          "metadata": {}
        }
      ]
    },
    {
      "cell_type": "code",
      "source": [
        "# Train test split\n",
        "X_train,X_test,y_train,y_test = train_test_split(sentence,pos,random_state=42,test_size=0.1)\n",
        "X_train.shape,X_test.shape,y_train.shape,y_test.shape"
      ],
      "metadata": {
        "id": "QUllsS0fl-0h",
        "outputId": "fbfe02e1-6d2a-4a65-d4d0-c089dbc1e129",
        "execution": {
          "iopub.status.busy": "2023-07-16T11:49:40.669752Z",
          "iopub.execute_input": "2023-07-16T11:49:40.670114Z",
          "iopub.status.idle": "2023-07-16T11:49:40.686107Z",
          "shell.execute_reply.started": "2023-07-16T11:49:40.670081Z",
          "shell.execute_reply": "2023-07-16T11:49:40.685240Z"
        },
        "trusted": true,
        "colab": {
          "base_uri": "https://localhost:8080/"
        }
      },
      "execution_count": null,
      "outputs": [
        {
          "output_type": "execute_result",
          "data": {
            "text/plain": [
              "((43163,), (4796,), (43163,), (4796,))"
            ]
          },
          "metadata": {},
          "execution_count": 23
        }
      ]
    },
    {
      "cell_type": "code",
      "source": [
        "X_train"
      ],
      "metadata": {
        "execution": {
          "iopub.status.busy": "2023-07-16T11:49:40.687423Z",
          "iopub.execute_input": "2023-07-16T11:49:40.687853Z",
          "iopub.status.idle": "2023-07-16T11:49:40.694617Z",
          "shell.execute_reply.started": "2023-07-16T11:49:40.687821Z",
          "shell.execute_reply": "2023-07-16T11:49:40.693665Z"
        },
        "trusted": true,
        "colab": {
          "base_uri": "https://localhost:8080/"
        },
        "id": "samVdOsfOhab",
        "outputId": "2ba78594-3dd9-4dc0-de1f-e6b3798fb31d"
      },
      "execution_count": null,
      "outputs": [
        {
          "output_type": "execute_result",
          "data": {
            "text/plain": [
              "array([list(['.', 'corporate', 'on', 'down', 'crime', 'are', 'they', 'that', 'insisted', 'officials', 'cracking', 'Kremlin']),\n",
              "       list(['Coast', 'were', 'also', 'likely', 'agenda', 'top', 'the', '.', 'Ivory', 'to', 'in', 'Sudan', 'peace', 'faltering', 'the', 'and', 'region', 'Darfur', 'western', \"'s\", 'in', 'conflict', 'process', 'The']),\n",
              "       list(['said', 'The', 'Chinese', 'foreign', 'ministry', \"'s\", 'on', 'Web', 'an', 'with', 'meeting', 'a', 'at', 'concerns', 'Burma', \"'s\", 'Beijing', 'conveyed', 'Wei', 'Wei', 'chief', 'department', 'affairs', 'consular', 'that', 'Saturday', 'site', 'its', 'official', 'from', 'embassy', '.']),\n",
              "       ...,\n",
              "       list(['1990s', 'facing', 'more', 'than', '60', 'counts', 'war', 'crimes', 'and', 'crimes', 'against', 'humanity', 'Hague', 'for', 'his', 'role', 'in', 'the', 'Balkan', 'wars', 'in', 'the', '.', 'of', 'in', 'tribunal', 'Milosevic', 'had', 'been', 'on', 'at', 'trial', 'the', 'United', 'Nations', 'war', 'crime', 'the']),\n",
              "       list(['Lindsey', 'bill', 'the', 'introduced', 'Lieberman', 'Senators', 'John', 'McCain', 'and', 'Graham', 'Republican', '.', 'with']),\n",
              "       list(['.', 'outcome', 'their', 'endanger', 'would', 'of', 'the', 'contents', 'the', 'divulging', 'said', 'She', 'negotiations'])],\n",
              "      dtype=object)"
            ]
          },
          "metadata": {},
          "execution_count": 24
        }
      ]
    },
    {
      "cell_type": "code",
      "source": [
        "# Calling tokenization function\n",
        "input_ids,attention_mask = tokenize(X_train,max_len = MAX_LEN)\n",
        "val_input_ids,val_attention_mask = tokenize(X_test,max_len = MAX_LEN)"
      ],
      "metadata": {
        "id": "8NBZyhp1ow0j",
        "outputId": "757911ff-77b2-4680-bb49-0ba6b6a4528a",
        "execution": {
          "iopub.status.busy": "2023-07-16T11:49:40.696077Z",
          "iopub.execute_input": "2023-07-16T11:49:40.696945Z",
          "iopub.status.idle": "2023-07-16T11:49:59.896342Z",
          "shell.execute_reply.started": "2023-07-16T11:49:40.696911Z",
          "shell.execute_reply": "2023-07-16T11:49:59.895262Z"
        },
        "trusted": true,
        "colab": {
          "base_uri": "https://localhost:8080/"
        }
      },
      "execution_count": null,
      "outputs": [
        {
          "output_type": "stream",
          "name": "stderr",
          "text": [
            "100%|██████████| 43163/43163 [00:39<00:00, 1081.80it/s]\n",
            "100%|██████████| 4796/4796 [00:03<00:00, 1570.28it/s]\n"
          ]
        }
      ]
    },
    {
      "cell_type": "code",
      "source": [
        "#val_input_ids"
      ],
      "metadata": {
        "id": "KE5uo0HCpe2L",
        "execution": {
          "iopub.status.busy": "2023-07-16T11:49:59.897994Z",
          "iopub.execute_input": "2023-07-16T11:49:59.898391Z",
          "iopub.status.idle": "2023-07-16T11:49:59.903127Z",
          "shell.execute_reply.started": "2023-07-16T11:49:59.898356Z",
          "shell.execute_reply": "2023-07-16T11:49:59.902025Z"
        },
        "trusted": true
      },
      "execution_count": null,
      "outputs": []
    },
    {
      "cell_type": "code",
      "source": [
        "# TEST: Checking Padding and Truncation length's\n",
        "was = list()\n",
        "for i in range(len(input_ids)):\n",
        "    was.append(len(input_ids[i]))\n",
        "set(was)"
      ],
      "metadata": {
        "id": "cLLmBjnUo1f4",
        "outputId": "f9be2648-d269-469b-e3a2-e25995fedbab",
        "execution": {
          "iopub.status.busy": "2023-07-16T11:49:59.904661Z",
          "iopub.execute_input": "2023-07-16T11:49:59.904991Z",
          "iopub.status.idle": "2023-07-16T11:49:59.943378Z",
          "shell.execute_reply.started": "2023-07-16T11:49:59.904961Z",
          "shell.execute_reply": "2023-07-16T11:49:59.942538Z"
        },
        "trusted": true,
        "colab": {
          "base_uri": "https://localhost:8080/"
        }
      },
      "execution_count": null,
      "outputs": [
        {
          "output_type": "execute_result",
          "data": {
            "text/plain": [
              "{256}"
            ]
          },
          "metadata": {},
          "execution_count": 27
        }
      ]
    },
    {
      "cell_type": "code",
      "source": [
        "# Train Padding\n",
        "test_tag = list()\n",
        "for i in range(len(y_test)):\n",
        "    test_tag.append(np.array(y_test[i] + [0] * (MAX_LEN-len(y_test[i]))))\n",
        "\n",
        "# TEST:  Checking Padding Length\n",
        "was = list()\n",
        "for i in range(len(test_tag)):\n",
        "    was.append(len(test_tag[i]))\n",
        "set(was)"
      ],
      "metadata": {
        "id": "EQhm4Yhao6sk",
        "outputId": "d0d2b345-b7fa-4c7c-b640-b6f99c06df20",
        "execution": {
          "iopub.status.busy": "2023-07-16T11:49:59.945061Z",
          "iopub.execute_input": "2023-07-16T11:49:59.945643Z",
          "iopub.status.idle": "2023-07-16T11:50:00.139949Z",
          "shell.execute_reply.started": "2023-07-16T11:49:59.945609Z",
          "shell.execute_reply": "2023-07-16T11:50:00.138887Z"
        },
        "trusted": true,
        "colab": {
          "base_uri": "https://localhost:8080/"
        }
      },
      "execution_count": null,
      "outputs": [
        {
          "output_type": "execute_result",
          "data": {
            "text/plain": [
              "{256}"
            ]
          },
          "metadata": {},
          "execution_count": 28
        }
      ]
    },
    {
      "cell_type": "code",
      "source": [
        "# Train Padding\n",
        "train_tag = list()\n",
        "for i in range(len(y_train)):\n",
        "    train_tag.append(np.array(y_train[i] + [0] * (MAX_LEN-len(y_train[i]))))\n",
        "\n",
        "# TEST:  Checking Padding Length\n",
        "was = list()\n",
        "for i in range(len(train_tag)):\n",
        "    was.append(len(train_tag[i]))\n",
        "set(was)"
      ],
      "metadata": {
        "id": "qPmtQ_x3qM_x",
        "outputId": "e31b14ee-a3ad-4c06-b196-6af5c4f2f44b",
        "execution": {
          "iopub.status.busy": "2023-07-16T11:50:00.148825Z",
          "iopub.execute_input": "2023-07-16T11:50:00.150550Z",
          "iopub.status.idle": "2023-07-16T11:50:01.765745Z",
          "shell.execute_reply.started": "2023-07-16T11:50:00.150516Z",
          "shell.execute_reply": "2023-07-16T11:50:01.764614Z"
        },
        "trusted": true,
        "colab": {
          "base_uri": "https://localhost:8080/"
        }
      },
      "execution_count": null,
      "outputs": [
        {
          "output_type": "execute_result",
          "data": {
            "text/plain": [
              "{256}"
            ]
          },
          "metadata": {},
          "execution_count": 29
        }
      ]
    },
    {
      "cell_type": "code",
      "source": [
        "#train_tag[0].shape"
      ],
      "metadata": {
        "id": "yAqtuQuhqShV",
        "execution": {
          "iopub.status.busy": "2023-07-16T11:50:01.767340Z",
          "iopub.execute_input": "2023-07-16T11:50:01.767718Z",
          "iopub.status.idle": "2023-07-16T11:50:01.772997Z",
          "shell.execute_reply.started": "2023-07-16T11:50:01.767684Z",
          "shell.execute_reply": "2023-07-16T11:50:01.772070Z"
        },
        "trusted": true
      },
      "execution_count": null,
      "outputs": []
    },
    {
      "cell_type": "markdown",
      "source": [
        "### Bert Modeling"
      ],
      "metadata": {
        "id": "MSl63d37pWVU"
      }
    },
    {
      "cell_type": "code",
      "source": [
        "# bert_model = TFBertModel.from_pretrained('bert-base-uncased')\n",
        "\n",
        "def create_model(bert_model,max_len = MAX_LEN):\n",
        "    input_ids = tf.keras.Input(shape = (max_len,),dtype = 'int32')\n",
        "    attention_masks = tf.keras.Input(shape = (max_len,),dtype = 'int32')\n",
        "    bert_output = bert_model(input_ids,attention_mask = attention_masks,return_dict =True)\n",
        "    embedding = tf.keras.layers.Dropout(0.3)(bert_output[\"last_hidden_state\"])\n",
        "    output = tf.keras.layers.Dense(22,activation = 'softmax')(embedding)\n",
        "    model = tf.keras.models.Model(inputs = [input_ids,attention_masks],outputs = [output])\n",
        "    model.compile(optimizer=tf.keras.optimizers.Adam(learning_rate=0.00001), loss=\"sparse_categorical_crossentropy\", metrics=[\"accuracy\"])\n",
        "    return model"
      ],
      "metadata": {
        "id": "2-6n2jsso-FT",
        "execution": {
          "iopub.status.busy": "2023-07-16T11:50:01.775301Z",
          "iopub.execute_input": "2023-07-16T11:50:01.776044Z",
          "iopub.status.idle": "2023-07-16T11:50:01.791622Z",
          "shell.execute_reply.started": "2023-07-16T11:50:01.776013Z",
          "shell.execute_reply": "2023-07-16T11:50:01.790546Z"
        },
        "trusted": true
      },
      "execution_count": null,
      "outputs": []
    },
    {
      "cell_type": "code",
      "source": [
        "import tensorflow  as tf\n",
        "try:\n",
        "    tpu = tf.distribute.cluster_resolver.TPUClusterResolver()\n",
        "    print('Device:', tpu.master())\n",
        "    tf.config.experimental_connect_to_cluster(tpu)\n",
        "    tf.tpu.experimental.initialize_tpu_system(tpu)\n",
        "    strategy = tf.distribute.experimental.TPUStrategy(tpu)\n",
        "except:\n",
        "    strategy = tf.distribute.get_strategy()\n",
        "print('Number of replicas:', strategy.num_replicas_in_sync)"
      ],
      "metadata": {
        "id": "zfn7N_hyptsr",
        "outputId": "1e80cab3-38e4-43d4-c383-0ad4e33a361e",
        "execution": {
          "iopub.status.busy": "2023-07-16T11:50:01.792818Z",
          "iopub.execute_input": "2023-07-16T11:50:01.793405Z",
          "iopub.status.idle": "2023-07-16T11:50:01.819657Z",
          "shell.execute_reply.started": "2023-07-16T11:50:01.793374Z",
          "shell.execute_reply": "2023-07-16T11:50:01.818618Z"
        },
        "trusted": true,
        "colab": {
          "base_uri": "https://localhost:8080/"
        }
      },
      "execution_count": null,
      "outputs": [
        {
          "output_type": "stream",
          "name": "stdout",
          "text": [
            "Device: grpc://10.91.188.210:8470\n"
          ]
        },
        {
          "output_type": "stream",
          "name": "stderr",
          "text": [
            "WARNING:absl:`tf.distribute.experimental.TPUStrategy` is deprecated, please use  the non experimental symbol `tf.distribute.TPUStrategy` instead.\n"
          ]
        },
        {
          "output_type": "stream",
          "name": "stdout",
          "text": [
            "Number of replicas: 8\n"
          ]
        }
      ]
    },
    {
      "cell_type": "code",
      "source": [
        "with strategy.scope():\n",
        "    bert_model = TFBertModel.from_pretrained('bert-base-uncased')\n",
        "    model = create_model(bert_model,MAX_LEN)"
      ],
      "metadata": {
        "id": "htHOwFVtpkP7",
        "outputId": "78ebc5d1-0079-424a-bd78-37da4a8263e6",
        "execution": {
          "iopub.status.busy": "2023-07-16T11:50:01.821121Z",
          "iopub.execute_input": "2023-07-16T11:50:01.821769Z",
          "iopub.status.idle": "2023-07-16T11:50:20.320248Z",
          "shell.execute_reply.started": "2023-07-16T11:50:01.821738Z",
          "shell.execute_reply": "2023-07-16T11:50:20.319253Z"
        },
        "trusted": true,
        "colab": {
          "base_uri": "https://localhost:8080/",
          "height": 156,
          "referenced_widgets": [
            "f2f9316ee8d04c5f856fd248c4aaad33",
            "cfe22ff2d30f4d57a689cae1a9dd7d86",
            "eb97e7bfea9a4da79dc0e973cde81e53",
            "0ebebc369641490eb3086a969d317ad2",
            "21c0d2aa35104ee592abd12ce5a5833b",
            "ce9fc6eb90ca427294607b193a3277f0",
            "f0838dd4cb684bf995ad14f2860e1323",
            "53c79302d8284111b749ef305b7cfe19",
            "cc0ddd05bbb64f8b898c545a6fd77be2",
            "e57028da3ea245d48c46400a6a746443",
            "1830eebd8b8f4b2986e124b47d6e0d77"
          ]
        }
      },
      "execution_count": null,
      "outputs": [
        {
          "output_type": "display_data",
          "data": {
            "text/plain": [
              "model.safetensors:   0%|          | 0.00/440M [00:00<?, ?B/s]"
            ],
            "application/vnd.jupyter.widget-view+json": {
              "version_major": 2,
              "version_minor": 0,
              "model_id": "f2f9316ee8d04c5f856fd248c4aaad33"
            }
          },
          "metadata": {}
        },
        {
          "output_type": "stream",
          "name": "stderr",
          "text": [
            "Some weights of the PyTorch model were not used when initializing the TF 2.0 model TFBertModel: ['cls.seq_relationship.bias', 'cls.predictions.transform.dense.weight', 'cls.predictions.transform.LayerNorm.bias', 'cls.predictions.bias', 'cls.predictions.transform.LayerNorm.weight', 'cls.predictions.transform.dense.bias', 'cls.seq_relationship.weight']\n",
            "- This IS expected if you are initializing TFBertModel from a PyTorch model trained on another task or with another architecture (e.g. initializing a TFBertForSequenceClassification model from a BertForPreTraining model).\n",
            "- This IS NOT expected if you are initializing TFBertModel from a PyTorch model that you expect to be exactly identical (e.g. initializing a TFBertForSequenceClassification model from a BertForSequenceClassification model).\n",
            "All the weights of TFBertModel were initialized from the PyTorch model.\n",
            "If your task is similar to the task the model of the checkpoint was trained on, you can already use TFBertModel for predictions without further training.\n"
          ]
        }
      ]
    },
    {
      "cell_type": "code",
      "source": [
        "model.summary()"
      ],
      "metadata": {
        "id": "3KuIsaEwpo0u",
        "outputId": "11e1da66-0722-4a6b-cf51-d8c15bc4441a",
        "execution": {
          "iopub.status.busy": "2023-07-16T11:50:20.321625Z",
          "iopub.execute_input": "2023-07-16T11:50:20.324305Z",
          "iopub.status.idle": "2023-07-16T11:50:20.378297Z",
          "shell.execute_reply.started": "2023-07-16T11:50:20.324269Z",
          "shell.execute_reply": "2023-07-16T11:50:20.377342Z"
        },
        "trusted": true,
        "colab": {
          "base_uri": "https://localhost:8080/"
        }
      },
      "execution_count": null,
      "outputs": [
        {
          "output_type": "stream",
          "name": "stdout",
          "text": [
            "Model: \"model\"\n",
            "__________________________________________________________________________________________________\n",
            " Layer (type)                   Output Shape         Param #     Connected to                     \n",
            "==================================================================================================\n",
            " input_1 (InputLayer)           [(None, 256)]        0           []                               \n",
            "                                                                                                  \n",
            " input_2 (InputLayer)           [(None, 256)]        0           []                               \n",
            "                                                                                                  \n",
            " tf_bert_model (TFBertModel)    TFBaseModelOutputWi  109482240   ['input_1[0][0]',                \n",
            "                                thPoolingAndCrossAt               'input_2[0][0]']                \n",
            "                                tentions(last_hidde                                               \n",
            "                                n_state=(None, 256,                                               \n",
            "                                 768),                                                            \n",
            "                                 pooler_output=(Non                                               \n",
            "                                e, 768),                                                          \n",
            "                                 past_key_values=No                                               \n",
            "                                ne, hidden_states=N                                               \n",
            "                                one, attentions=Non                                               \n",
            "                                e, cross_attentions                                               \n",
            "                                =None)                                                            \n",
            "                                                                                                  \n",
            " dropout_37 (Dropout)           (None, 256, 768)     0           ['tf_bert_model[0][0]']          \n",
            "                                                                                                  \n",
            " dense (Dense)                  (None, 256, 22)      16918       ['dropout_37[0][0]']             \n",
            "                                                                                                  \n",
            "==================================================================================================\n",
            "Total params: 109,499,158\n",
            "Trainable params: 109,499,158\n",
            "Non-trainable params: 0\n",
            "__________________________________________________________________________________________________\n"
          ]
        }
      ]
    },
    {
      "cell_type": "code",
      "source": [
        "early_stopping = EarlyStopping(mode='min',patience=3)\n",
        "history_bert = model.fit([input_ids,attention_mask],np.array(train_tag),validation_data = ([val_input_ids,val_attention_mask],np.array(test_tag)),epochs = 5,batch_size = 32,callbacks = early_stopping,verbose = True)"
      ],
      "metadata": {
        "id": "kXNevyGHp3gE",
        "outputId": "a01013b2-0589-4801-a07d-640281de9092",
        "execution": {
          "iopub.status.busy": "2023-07-16T11:50:20.379638Z",
          "iopub.execute_input": "2023-07-16T11:50:20.380412Z",
          "iopub.status.idle": "2023-07-16T13:44:08.962279Z",
          "shell.execute_reply.started": "2023-07-16T11:50:20.380377Z",
          "shell.execute_reply": "2023-07-16T13:44:08.961096Z"
        },
        "trusted": true,
        "colab": {
          "base_uri": "https://localhost:8080/"
        }
      },
      "execution_count": null,
      "outputs": [
        {
          "output_type": "stream",
          "name": "stdout",
          "text": [
            "Epoch 1/5\n"
          ]
        },
        {
          "output_type": "stream",
          "name": "stderr",
          "text": [
            "WARNING:tensorflow:Gradients do not exist for variables ['tf_bert_model/bert/pooler/dense/kernel:0', 'tf_bert_model/bert/pooler/dense/bias:0'] when minimizing the loss. If you're using `model.compile()`, did you forget to provide a `loss` argument?\n",
            "WARNING:tensorflow:Gradients do not exist for variables ['tf_bert_model/bert/pooler/dense/kernel:0', 'tf_bert_model/bert/pooler/dense/bias:0'] when minimizing the loss. If you're using `model.compile()`, did you forget to provide a `loss` argument?\n",
            "WARNING:tensorflow:Gradients do not exist for variables ['tf_bert_model/bert/pooler/dense/kernel:0', 'tf_bert_model/bert/pooler/dense/bias:0'] when minimizing the loss. If you're using `model.compile()`, did you forget to provide a `loss` argument?\n",
            "WARNING:tensorflow:Gradients do not exist for variables ['tf_bert_model/bert/pooler/dense/kernel:0', 'tf_bert_model/bert/pooler/dense/bias:0'] when minimizing the loss. If you're using `model.compile()`, did you forget to provide a `loss` argument?\n"
          ]
        },
        {
          "output_type": "stream",
          "name": "stdout",
          "text": [
            "1349/1349 [==============================] - 251s 117ms/step - loss: 0.0929 - accuracy: 0.9776 - val_loss: 0.0414 - val_accuracy: 0.9878\n",
            "Epoch 2/5\n",
            "1349/1349 [==============================] - 147s 109ms/step - loss: 0.0384 - accuracy: 0.9883 - val_loss: 0.0293 - val_accuracy: 0.9907\n",
            "Epoch 3/5\n",
            "1349/1349 [==============================] - 150s 111ms/step - loss: 0.0292 - accuracy: 0.9908 - val_loss: 0.0238 - val_accuracy: 0.9927\n",
            "Epoch 4/5\n",
            "1349/1349 [==============================] - 147s 109ms/step - loss: 0.0244 - accuracy: 0.9922 - val_loss: 0.0212 - val_accuracy: 0.9935\n",
            "Epoch 5/5\n",
            "1349/1349 [==============================] - 147s 109ms/step - loss: 0.0213 - accuracy: 0.9932 - val_loss: 0.0196 - val_accuracy: 0.9941\n"
          ]
        }
      ]
    },
    {
      "cell_type": "markdown",
      "source": [
        "### BERT Evaluation"
      ],
      "metadata": {
        "id": "gev8S3y7Ohad"
      }
    },
    {
      "cell_type": "code",
      "source": [
        "plt.xlabel(\"Epochs\")\n",
        "plt.ylabel(\"Loss\")\n",
        "plt.title(\"Loss Curve\")\n",
        "plt.plot(history_bert.history['loss'],linewidth=3,color='limegreen')\n",
        "plt.plot(history_bert.history['val_loss'],linewidth=3,color='orange')  # Plot the chart\n",
        "plt.legend([\"Training\", \"Validation\"], loc =\"upper right\")"
      ],
      "metadata": {
        "id": "KCT_P3UDs3lJ",
        "execution": {
          "iopub.status.busy": "2023-07-16T13:44:08.964014Z",
          "iopub.execute_input": "2023-07-16T13:44:08.964390Z",
          "iopub.status.idle": "2023-07-16T13:44:09.352094Z",
          "shell.execute_reply.started": "2023-07-16T13:44:08.964356Z",
          "shell.execute_reply": "2023-07-16T13:44:09.351124Z"
        },
        "trusted": true,
        "colab": {
          "base_uri": "https://localhost:8080/",
          "height": 489
        },
        "outputId": "518843c9-2db7-4cc7-9d01-13489508a5ae"
      },
      "execution_count": null,
      "outputs": [
        {
          "output_type": "execute_result",
          "data": {
            "text/plain": [
              "<matplotlib.legend.Legend at 0x7c2a68222380>"
            ]
          },
          "metadata": {},
          "execution_count": 36
        },
        {
          "output_type": "display_data",
          "data": {
            "text/plain": [
              "<Figure size 640x480 with 1 Axes>"
            ],
            "image/png": "[encoded data removed]"
          },
          "metadata": {}
        }
      ]
    },
    {
      "cell_type": "code",
      "source": [
        "predictions = model.predict([val_input_ids, val_attention_mask])\n",
        "predicted_labels = np.argmax(predictions, axis=2)\n",
        "true_labels_flat = np.concatenate(test_tag)\n",
        "predicted_labels_flat = np.concatenate(predicted_labels)\n",
        "from sklearn.metrics import confusion_matrix\n",
        "\n",
        "cm = confusion_matrix(true_labels_flat, predicted_labels_flat)\n",
        "#cm_normalized = cm.astype('float') / cm.sum(axis=1)[:, np.newaxis]\n",
        "import seaborn as sns\n",
        "label_names = enc_pos.classes_  # Assuming `enc_pos` is the label encoder used in your code\n",
        "\n",
        "plt.figure(figsize=(10, 8))\n",
        "sns.heatmap(cm, annot=True, cmap='Blues', xticklabels=label_names, yticklabels=label_names)\n",
        "plt.xlabel('Predicted Labels')\n",
        "plt.ylabel('True Labels')\n",
        "plt.title('Confusion Matrix')\n",
        "plt.show()\n"
      ],
      "metadata": {
        "id": "jvc04pPup_-N",
        "execution": {
          "iopub.status.busy": "2023-07-16T13:44:09.353847Z",
          "iopub.execute_input": "2023-07-16T13:44:09.354557Z",
          "iopub.status.idle": "2023-07-16T13:45:35.557262Z",
          "shell.execute_reply.started": "2023-07-16T13:44:09.354519Z",
          "shell.execute_reply": "2023-07-16T13:45:35.556376Z"
        },
        "trusted": true,
        "colab": {
          "base_uri": "https://localhost:8080/",
          "height": 762
        },
        "outputId": "0054fdb4-806d-48ee-b72d-73620ecbcca8"
      },
      "execution_count": null,
      "outputs": [
        {
          "output_type": "stream",
          "name": "stdout",
          "text": [
            "150/150 [==============================] - 17s 66ms/step\n"
          ]
        },
        {
          "output_type": "display_data",
          "data": {
            "text/plain": [
              "<Figure size 1000x800 with 2 Axes>"
            ],
            "image/png": "[encoded data removed]"
          },
          "metadata": {}
        }
      ]
    },
    {
      "cell_type": "code",
      "source": [
        "y_pred = np.argmax(model.predict([val_input_ids, val_attention_mask]), axis=2)\n",
        "y_pred_labels = enc_pos.inverse_transform(y_pred.reshape(-1))\n",
        "y_true_labels = np.array(test_tag).flatten()\n",
        "encoded_pred_labels = enc_pos.transform(y_pred_labels)\n",
        "from sklearn.metrics import classification_report\n",
        "label_names = enc_pos.inverse_transform(np.arange(len(enc_pos.classes_)))\n",
        "\n",
        "report = classification_report(y_true_labels, encoded_pred_labels, target_names=label_names)\n",
        "print(report)\n"
      ],
      "metadata": {
        "id": "VnXtAd4qPLtH",
        "execution": {
          "iopub.status.busy": "2023-07-16T13:45:35.558385Z",
          "iopub.execute_input": "2023-07-16T13:45:35.558773Z",
          "iopub.status.idle": "2023-07-16T13:46:26.851750Z",
          "shell.execute_reply.started": "2023-07-16T13:45:35.558742Z",
          "shell.execute_reply": "2023-07-16T13:46:26.850410Z"
        },
        "trusted": true,
        "colab": {
          "base_uri": "https://localhost:8080/"
        },
        "outputId": "381dd6f8-cc1f-4f95-9c04-2a6efdfe05cd"
      },
      "execution_count": null,
      "outputs": [
        {
          "output_type": "stream",
          "name": "stdout",
          "text": [
            "150/150 [==============================] - 6s 31ms/step\n",
            "              precision    recall  f1-score   support\n",
            "\n",
            "       B-art       1.00      1.00      1.00   1122499\n",
            "       B-eve       0.51      0.56      0.53       150\n",
            "       B-geo       0.74      0.83      0.78      3797\n",
            "       B-gpe       0.88      0.89      0.88      1592\n",
            "       B-nat       0.59      0.80      0.68       128\n",
            "       B-org       0.70      0.47      0.56      2055\n",
            "       B-per       0.69      0.57      0.62      1668\n",
            "       B-tim       0.81      0.77      0.79      2033\n",
            "       I-art       0.49      0.22      0.31       188\n",
            "       I-eve       0.64      0.79      0.71       204\n",
            "       I-geo       0.66      0.57      0.61       713\n",
            "       I-gpe       0.67      0.77      0.72        92\n",
            "       I-nat       0.94      0.80      0.86       183\n",
            "       I-org       0.62      0.42      0.50      1699\n",
            "       I-per       0.62      0.79      0.69      1658\n",
            "       I-tim       0.69      0.40      0.50       585\n",
            "           O       0.97      0.98      0.98     88532\n",
            "\n",
            "    accuracy                           0.99   1227776\n",
            "   macro avg       0.72      0.69      0.69   1227776\n",
            "weighted avg       0.99      0.99      0.99   1227776\n",
            "\n"
          ]
        }
      ]
    },
    {
      "cell_type": "markdown",
      "source": [
        "Overall accuracy has not increased but the category wise accuracy has increased in many places. Oversampling and pretrained BERT has increase the score"
      ],
      "metadata": {
        "id": "9hSpS00HoKAw"
      }
    },
    {
      "cell_type": "markdown",
      "source": [
        "### BERT Conclusion"
      ],
      "metadata": {
        "id": "JeixDA_XOhad"
      }
    },
    {
      "cell_type": "code",
      "source": [
        "# Sample sentence\n",
        "sample_sentence = \"Mike and Jake wanted to go to Disneyland\"\n",
        "\n",
        "# Tokenize the sample sentence\n",
        "tokens = tokenizer.encode_plus(np.array(sample_sentence.split()),\n",
        "                                        add_special_tokens = True,\n",
        "                                        max_length = MAX_LEN,\n",
        "                                        is_split_into_words=True,\n",
        "                                        return_attention_mask=True,\n",
        "                                        padding = 'max_length',\n",
        "                                        truncation=True,return_tensors = 'np')\n",
        "\n",
        "\n",
        "input_ids=tokens['input_ids']\n",
        "attention_mask=tokens['attention_mask']\n",
        "\n",
        "# Convert tokens to input IDs and attention mask\n",
        "# input_ids = tokenizer.convert_tokens_to_ids(tokens)\n",
        "# attention_mask = [1] * len(input_ids)\n",
        "\n",
        "# Pad the input IDs and attention mask\n",
        "input_ids = input_ids #+ [0] * (MAX_LEN - len(input_ids))\n",
        "attention_mask = attention_mask #+ [0] * (MAX_LEN - len(attention_mask))\n",
        "\n",
        "# Reshape the input IDs and attention mask for prediction\n",
        "input_ids = np.array(input_ids).reshape(1, -1)\n",
        "attention_mask = np.array(attention_mask).reshape(1, -1)\n",
        "\n",
        "# Make predictions\n",
        "predictions = model.predict([input_ids, attention_mask])\n",
        "predicted_labels = np.argmax(predictions, axis=2)[0]\n",
        "\n",
        "# Map the predicted labels to their corresponding tag names\n",
        "predicted_tags = enc_pos.inverse_transform(predicted_labels)\n",
        "\n",
        "# Print the tokens and predicted POS tags\n",
        "for token, tag in zip(sample_sentence.split(), predicted_tags):\n",
        "    print(f\"Token: {token:<10} Predicted POS: {tag}\")"
      ],
      "metadata": {
        "execution": {
          "iopub.status.busy": "2023-07-16T14:10:35.103382Z",
          "iopub.execute_input": "2023-07-16T14:10:35.104282Z",
          "iopub.status.idle": "2023-07-16T14:10:35.215505Z",
          "shell.execute_reply.started": "2023-07-16T14:10:35.104235Z",
          "shell.execute_reply": "2023-07-16T14:10:35.213757Z"
        },
        "trusted": true,
        "id": "9jc743vfOhae",
        "colab": {
          "base_uri": "https://localhost:8080/"
        },
        "outputId": "9e667b60-aab1-4893-d4a9-78115e1d6cd7"
      },
      "execution_count": null,
      "outputs": [
        {
          "output_type": "stream",
          "name": "stdout",
          "text": [
            "1/1 [==============================] - 2s 2s/step\n",
            "Token: Mike       Predicted POS: B-per\n",
            "Token: and        Predicted POS: O\n",
            "Token: Jake       Predicted POS: B-per\n",
            "Token: wanted     Predicted POS: O\n",
            "Token: to         Predicted POS: O\n",
            "Token: go         Predicted POS: O\n",
            "Token: to         Predicted POS: O\n",
            "Token: Disneyland Predicted POS: B-org\n"
          ]
        }
      ]
    }
  ]
}