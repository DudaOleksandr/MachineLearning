{
  "metadata": {
    "kernelspec": {
      "display_name": "Python 3",
      "name": "python3"
    },
    "language_info": {
      "name": "python",
      "version": "3.10.10",
      "mimetype": "text/x-python",
      "codemirror_mode": {
        "name": "ipython",
        "version": 3
      },
      "pygments_lexer": "ipython3",
      "nbconvert_exporter": "python",
      "file_extension": ".py"
    },
    "colab": {
      "provenance": [],
      "gpuType": "T4"
    },
    "accelerator": "GPU"
  },
  "nbformat_minor": 0,
  "nbformat": 4,
  "cells": [
    {
      "cell_type": "markdown",
      "source": [
        "## Dataset loading\n",
        "\n"
      ],
      "metadata": {
        "id": "fY_BOeubOhaQ"
      }
    },
    {
      "cell_type": "code",
      "source": [
        "#! pip install gensim"
      ],
      "metadata": {
        "execution": {
          "iopub.status.busy": "2023-07-16T11:49:16.540234Z",
          "iopub.execute_input": "2023-07-16T11:49:16.540623Z",
          "iopub.status.idle": "2023-07-16T11:49:16.545424Z",
          "shell.execute_reply.started": "2023-07-16T11:49:16.540592Z",
          "shell.execute_reply": "2023-07-16T11:49:16.544325Z"
        },
        "trusted": true,
        "id": "ll0ENLPjOhaQ"
      },
      "execution_count": 1,
      "outputs": []
    },
    {
      "cell_type": "code",
      "source": [
        "import pandas as pd\n",
        "import numpy as np\n",
        "import pandas as pd\n",
        "import tensorflow as tf\n",
        "import string\n",
        "import re\n",
        "import random\n",
        "import seaborn as sns\n",
        "%matplotlib inline\n",
        "import matplotlib.pyplot as plt\n",
        "import seaborn as sns\n",
        "from gensim.models import word2vec, FastText\n",
        "import gensim.downloader\n",
        "from sklearn.decomposition import PCA"
      ],
      "metadata": {
        "execution": {
          "iopub.status.busy": "2023-07-16T11:49:16.748012Z",
          "iopub.execute_input": "2023-07-16T11:49:16.748368Z",
          "iopub.status.idle": "2023-07-16T11:49:26.314810Z",
          "shell.execute_reply.started": "2023-07-16T11:49:16.748340Z",
          "shell.execute_reply": "2023-07-16T11:49:26.313822Z"
        },
        "trusted": true,
        "id": "QJYXcKzXOhaR"
      },
      "execution_count": 2,
      "outputs": []
    },
    {
      "cell_type": "code",
      "source": [
        "from google.colab import drive\n",
        "\n",
        "drive.mount('/content/drive')"
      ],
      "metadata": {
        "colab": {
          "base_uri": "https://localhost:8080/"
        },
        "id": "VkHpRmY3Ou8x",
        "outputId": "ec799edc-8df2-42b4-a92e-fd6fd031510f"
      },
      "execution_count": 3,
      "outputs": [
        {
          "output_type": "stream",
          "name": "stdout",
          "text": [
            "Mounted at /content/drive\n"
          ]
        }
      ]
    },
    {
      "cell_type": "code",
      "source": [
        "!unzip /content/drive/MyDrive/ner.csv.zip\n",
        "!unzip /content/drive/MyDrive/ner_dataset.csv.zip"
      ],
      "metadata": {
        "colab": {
          "base_uri": "https://localhost:8080/"
        },
        "id": "1i-ofg0POwVT",
        "outputId": "ff822583-eb1f-4cd1-d185-53e65cba9226"
      },
      "execution_count": 4,
      "outputs": [
        {
          "output_type": "stream",
          "name": "stdout",
          "text": [
            "Archive:  /content/drive/MyDrive/ner.csv.zip\n",
            "  inflating: ner.csv                 \n",
            "Archive:  /content/drive/MyDrive/ner_dataset.csv.zip\n",
            "  inflating: ner_dataset.csv         \n"
          ]
        }
      ]
    },
    {
      "cell_type": "code",
      "source": [
        "df=pd.read_csv('/content/ner_dataset.csv', encoding= 'unicode_escape')"
      ],
      "metadata": {
        "id": "Py871tX5oWA-",
        "execution": {
          "iopub.status.busy": "2023-07-16T11:49:26.317032Z",
          "iopub.execute_input": "2023-07-16T11:49:26.317769Z",
          "iopub.status.idle": "2023-07-16T11:49:27.092317Z",
          "shell.execute_reply.started": "2023-07-16T11:49:26.317735Z",
          "shell.execute_reply": "2023-07-16T11:49:27.091259Z"
        },
        "trusted": true
      },
      "execution_count": 5,
      "outputs": []
    },
    {
      "cell_type": "code",
      "source": [
        "df['Sentence #']=df['Sentence #'].ffill()"
      ],
      "metadata": {
        "execution": {
          "iopub.status.busy": "2023-07-16T11:49:27.093800Z",
          "iopub.execute_input": "2023-07-16T11:49:27.094149Z",
          "iopub.status.idle": "2023-07-16T11:49:27.411323Z",
          "shell.execute_reply.started": "2023-07-16T11:49:27.094116Z",
          "shell.execute_reply": "2023-07-16T11:49:27.410252Z"
        },
        "trusted": true,
        "id": "O5igJ4KSOhaS"
      },
      "execution_count": 6,
      "outputs": []
    },
    {
      "cell_type": "code",
      "source": [
        "%pip install datasets transformers\n",
        "%pip install tensorflow-addons"
      ],
      "metadata": {
        "id": "COZ1Nw8_vTxX",
        "execution": {
          "iopub.status.busy": "2023-07-16T11:49:27.413748Z",
          "iopub.execute_input": "2023-07-16T11:49:27.414049Z",
          "iopub.status.idle": "2023-07-16T11:49:27.418619Z",
          "shell.execute_reply.started": "2023-07-16T11:49:27.414024Z",
          "shell.execute_reply": "2023-07-16T11:49:27.417220Z"
        },
        "trusted": true,
        "colab": {
          "base_uri": "https://localhost:8080/"
        },
        "outputId": "99c5e608-6e8c-408f-c4b5-1d449bdb9b69"
      },
      "execution_count": 7,
      "outputs": [
        {
          "output_type": "stream",
          "name": "stdout",
          "text": [
            "Collecting datasets\n",
            "  Downloading datasets-2.15.0-py3-none-any.whl (521 kB)\n",
            "\u001b[2K     \u001b[90m━━━━━━━━━━━━━━━━━━━━━━━━━━━━━━━━━━━━━━━━\u001b[0m \u001b[32m521.2/521.2 kB\u001b[0m \u001b[31m4.7 MB/s\u001b[0m eta \u001b[36m0:00:00\u001b[0m\n",
            "\u001b[?25hRequirement already satisfied: transformers in /usr/local/lib/python3.10/dist-packages (4.35.2)\n",
            "Requirement already satisfied: numpy>=1.17 in /usr/local/lib/python3.10/dist-packages (from datasets) (1.23.5)\n",
            "Requirement already satisfied: pyarrow>=8.0.0 in /usr/local/lib/python3.10/dist-packages (from datasets) (9.0.0)\n",
            "Collecting pyarrow-hotfix (from datasets)\n",
            "  Downloading pyarrow_hotfix-0.6-py3-none-any.whl (7.9 kB)\n",
            "Collecting dill<0.3.8,>=0.3.0 (from datasets)\n",
            "  Downloading dill-0.3.7-py3-none-any.whl (115 kB)\n",
            "\u001b[2K     \u001b[90m━━━━━━━━━━━━━━━━━━━━━━━━━━━━━━━━━━━━━━━━\u001b[0m \u001b[32m115.3/115.3 kB\u001b[0m \u001b[31m9.7 MB/s\u001b[0m eta \u001b[36m0:00:00\u001b[0m\n",
            "\u001b[?25hRequirement already satisfied: pandas in /usr/local/lib/python3.10/dist-packages (from datasets) (1.5.3)\n",
            "Requirement already satisfied: requests>=2.19.0 in /usr/local/lib/python3.10/dist-packages (from datasets) (2.31.0)\n",
            "Requirement already satisfied: tqdm>=4.62.1 in /usr/local/lib/python3.10/dist-packages (from datasets) (4.66.1)\n",
            "Requirement already satisfied: xxhash in /usr/local/lib/python3.10/dist-packages (from datasets) (3.4.1)\n",
            "Collecting multiprocess (from datasets)\n",
            "  Downloading multiprocess-0.70.15-py310-none-any.whl (134 kB)\n",
            "\u001b[2K     \u001b[90m━━━━━━━━━━━━━━━━━━━━━━━━━━━━━━━━━━━━━━━━\u001b[0m \u001b[32m134.8/134.8 kB\u001b[0m \u001b[31m18.1 MB/s\u001b[0m eta \u001b[36m0:00:00\u001b[0m\n",
            "\u001b[?25hRequirement already satisfied: fsspec[http]<=2023.10.0,>=2023.1.0 in /usr/local/lib/python3.10/dist-packages (from datasets) (2023.6.0)\n",
            "Requirement already satisfied: aiohttp in /usr/local/lib/python3.10/dist-packages (from datasets) (3.9.1)\n",
            "Requirement already satisfied: huggingface-hub>=0.18.0 in /usr/local/lib/python3.10/dist-packages (from datasets) (0.19.4)\n",
            "Requirement already satisfied: packaging in /usr/local/lib/python3.10/dist-packages (from datasets) (23.2)\n",
            "Requirement already satisfied: pyyaml>=5.1 in /usr/local/lib/python3.10/dist-packages (from datasets) (6.0.1)\n",
            "Requirement already satisfied: filelock in /usr/local/lib/python3.10/dist-packages (from transformers) (3.13.1)\n",
            "Requirement already satisfied: regex!=2019.12.17 in /usr/local/lib/python3.10/dist-packages (from transformers) (2023.6.3)\n",
            "Requirement already satisfied: tokenizers<0.19,>=0.14 in /usr/local/lib/python3.10/dist-packages (from transformers) (0.15.0)\n",
            "Requirement already satisfied: safetensors>=0.3.1 in /usr/local/lib/python3.10/dist-packages (from transformers) (0.4.1)\n",
            "Requirement already satisfied: attrs>=17.3.0 in /usr/local/lib/python3.10/dist-packages (from aiohttp->datasets) (23.1.0)\n",
            "Requirement already satisfied: multidict<7.0,>=4.5 in /usr/local/lib/python3.10/dist-packages (from aiohttp->datasets) (6.0.4)\n",
            "Requirement already satisfied: yarl<2.0,>=1.0 in /usr/local/lib/python3.10/dist-packages (from aiohttp->datasets) (1.9.3)\n",
            "Requirement already satisfied: frozenlist>=1.1.1 in /usr/local/lib/python3.10/dist-packages (from aiohttp->datasets) (1.4.0)\n",
            "Requirement already satisfied: aiosignal>=1.1.2 in /usr/local/lib/python3.10/dist-packages (from aiohttp->datasets) (1.3.1)\n",
            "Requirement already satisfied: async-timeout<5.0,>=4.0 in /usr/local/lib/python3.10/dist-packages (from aiohttp->datasets) (4.0.3)\n",
            "Requirement already satisfied: typing-extensions>=3.7.4.3 in /usr/local/lib/python3.10/dist-packages (from huggingface-hub>=0.18.0->datasets) (4.5.0)\n",
            "Requirement already satisfied: charset-normalizer<4,>=2 in /usr/local/lib/python3.10/dist-packages (from requests>=2.19.0->datasets) (3.3.2)\n",
            "Requirement already satisfied: idna<4,>=2.5 in /usr/local/lib/python3.10/dist-packages (from requests>=2.19.0->datasets) (3.6)\n",
            "Requirement already satisfied: urllib3<3,>=1.21.1 in /usr/local/lib/python3.10/dist-packages (from requests>=2.19.0->datasets) (2.0.7)\n",
            "Requirement already satisfied: certifi>=2017.4.17 in /usr/local/lib/python3.10/dist-packages (from requests>=2.19.0->datasets) (2023.11.17)\n",
            "Requirement already satisfied: python-dateutil>=2.8.1 in /usr/local/lib/python3.10/dist-packages (from pandas->datasets) (2.8.2)\n",
            "Requirement already satisfied: pytz>=2020.1 in /usr/local/lib/python3.10/dist-packages (from pandas->datasets) (2023.3.post1)\n",
            "Requirement already satisfied: six>=1.5 in /usr/local/lib/python3.10/dist-packages (from python-dateutil>=2.8.1->pandas->datasets) (1.16.0)\n",
            "Installing collected packages: pyarrow-hotfix, dill, multiprocess, datasets\n",
            "Successfully installed datasets-2.15.0 dill-0.3.7 multiprocess-0.70.15 pyarrow-hotfix-0.6\n",
            "Collecting tensorflow-addons\n",
            "  Downloading tensorflow_addons-0.23.0-cp310-cp310-manylinux_2_17_x86_64.manylinux2014_x86_64.whl (611 kB)\n",
            "\u001b[2K     \u001b[90m━━━━━━━━━━━━━━━━━━━━━━━━━━━━━━━━━━━━━━━━\u001b[0m \u001b[32m611.8/611.8 kB\u001b[0m \u001b[31m8.6 MB/s\u001b[0m eta \u001b[36m0:00:00\u001b[0m\n",
            "\u001b[?25hRequirement already satisfied: packaging in /usr/local/lib/python3.10/dist-packages (from tensorflow-addons) (23.2)\n",
            "Collecting typeguard<3.0.0,>=2.7 (from tensorflow-addons)\n",
            "  Downloading typeguard-2.13.3-py3-none-any.whl (17 kB)\n",
            "Installing collected packages: typeguard, tensorflow-addons\n",
            "Successfully installed tensorflow-addons-0.23.0 typeguard-2.13.3\n"
          ]
        }
      ]
    },
    {
      "cell_type": "code",
      "source": [
        "# import pandas as pd\n",
        "# column_names = ['Token', 'POS']\n",
        "# df_train = pd.read_csv(\"wnut 16.txt.conll\", sep='\\t', header=None,names=column_names ,comment='#')\n",
        "# df_test = pd.read_csv(\"wnut 16test.txt.conll\", sep='\\t', header=None,names=column_names ,comment='#')\n",
        "# df_train.head()"
      ],
      "metadata": {
        "id": "GxQ9e53f6G0l",
        "execution": {
          "iopub.status.busy": "2023-07-16T11:49:27.420103Z",
          "iopub.execute_input": "2023-07-16T11:49:27.420723Z",
          "iopub.status.idle": "2023-07-16T11:49:27.430800Z",
          "shell.execute_reply.started": "2023-07-16T11:49:27.420690Z",
          "shell.execute_reply": "2023-07-16T11:49:27.429866Z"
        },
        "trusted": true
      },
      "execution_count": 8,
      "outputs": []
    },
    {
      "cell_type": "code",
      "source": [
        "df=df[['Sentence #','Word','Tag']]\n",
        "df.rename(columns={'Sentence #':'Sentence','Word':'Token','Tag':'POS'},inplace=True)"
      ],
      "metadata": {
        "execution": {
          "iopub.status.busy": "2023-07-16T11:49:27.432499Z",
          "iopub.execute_input": "2023-07-16T11:49:27.432850Z",
          "iopub.status.idle": "2023-07-16T11:49:27.627580Z",
          "shell.execute_reply.started": "2023-07-16T11:49:27.432817Z",
          "shell.execute_reply": "2023-07-16T11:49:27.626612Z"
        },
        "trusted": true,
        "colab": {
          "base_uri": "https://localhost:8080/"
        },
        "id": "azxG44WhOhaS",
        "outputId": "21ab5a00-56f7-4f05-847a-95407e440b0a"
      },
      "execution_count": 9,
      "outputs": [
        {
          "output_type": "stream",
          "name": "stderr",
          "text": [
            "<ipython-input-9-e444fee1884a>:2: SettingWithCopyWarning: \n",
            "A value is trying to be set on a copy of a slice from a DataFrame\n",
            "\n",
            "See the caveats in the documentation: https://pandas.pydata.org/pandas-docs/stable/user_guide/indexing.html#returning-a-view-versus-a-copy\n",
            "  df.rename(columns={'Sentence #':'Sentence','Word':'Token','Tag':'POS'},inplace=True)\n"
          ]
        }
      ]
    },
    {
      "cell_type": "code",
      "source": [
        "df"
      ],
      "metadata": {
        "execution": {
          "iopub.status.busy": "2023-07-16T11:49:27.629273Z",
          "iopub.execute_input": "2023-07-16T11:49:27.629626Z",
          "iopub.status.idle": "2023-07-16T11:49:27.634181Z",
          "shell.execute_reply.started": "2023-07-16T11:49:27.629592Z",
          "shell.execute_reply": "2023-07-16T11:49:27.633215Z"
        },
        "trusted": true,
        "colab": {
          "base_uri": "https://localhost:8080/",
          "height": 424
        },
        "id": "RQbye9qvOhaT",
        "outputId": "a801d66c-b05f-4f1a-8a6d-8e89019d09e7"
      },
      "execution_count": 10,
      "outputs": [
        {
          "output_type": "execute_result",
          "data": {
            "text/plain": [
              "                Sentence          Token POS\n",
              "0            Sentence: 1      Thousands   O\n",
              "1            Sentence: 1             of   O\n",
              "2            Sentence: 1  demonstrators   O\n",
              "3            Sentence: 1           have   O\n",
              "4            Sentence: 1        marched   O\n",
              "...                  ...            ...  ..\n",
              "1048570  Sentence: 47959           they   O\n",
              "1048571  Sentence: 47959      responded   O\n",
              "1048572  Sentence: 47959             to   O\n",
              "1048573  Sentence: 47959            the   O\n",
              "1048574  Sentence: 47959         attack   O\n",
              "\n",
              "[1048575 rows x 3 columns]"
            ],
            "text/html": [
              "\n",
              "  <div id=\"df-af412fed-6c42-467b-8e8d-65d4133d53bf\" class=\"colab-df-container\">\n",
              "    <div>\n",
              "<style scoped>\n",
              "    .dataframe tbody tr th:only-of-type {\n",
              "        vertical-align: middle;\n",
              "    }\n",
              "\n",
              "    .dataframe tbody tr th {\n",
              "        vertical-align: top;\n",
              "    }\n",
              "\n",
              "    .dataframe thead th {\n",
              "        text-align: right;\n",
              "    }\n",
              "</style>\n",
              "<table border=\"1\" class=\"dataframe\">\n",
              "  <thead>\n",
              "    <tr style=\"text-align: right;\">\n",
              "      <th></th>\n",
              "      <th>Sentence</th>\n",
              "      <th>Token</th>\n",
              "      <th>POS</th>\n",
              "    </tr>\n",
              "  </thead>\n",
              "  <tbody>\n",
              "    <tr>\n",
              "      <th>0</th>\n",
              "      <td>Sentence: 1</td>\n",
              "      <td>Thousands</td>\n",
              "      <td>O</td>\n",
              "    </tr>\n",
              "    <tr>\n",
              "      <th>1</th>\n",
              "      <td>Sentence: 1</td>\n",
              "      <td>of</td>\n",
              "      <td>O</td>\n",
              "    </tr>\n",
              "    <tr>\n",
              "      <th>2</th>\n",
              "      <td>Sentence: 1</td>\n",
              "      <td>demonstrators</td>\n",
              "      <td>O</td>\n",
              "    </tr>\n",
              "    <tr>\n",
              "      <th>3</th>\n",
              "      <td>Sentence: 1</td>\n",
              "      <td>have</td>\n",
              "      <td>O</td>\n",
              "    </tr>\n",
              "    <tr>\n",
              "      <th>4</th>\n",
              "      <td>Sentence: 1</td>\n",
              "      <td>marched</td>\n",
              "      <td>O</td>\n",
              "    </tr>\n",
              "    <tr>\n",
              "      <th>...</th>\n",
              "      <td>...</td>\n",
              "      <td>...</td>\n",
              "      <td>...</td>\n",
              "    </tr>\n",
              "    <tr>\n",
              "      <th>1048570</th>\n",
              "      <td>Sentence: 47959</td>\n",
              "      <td>they</td>\n",
              "      <td>O</td>\n",
              "    </tr>\n",
              "    <tr>\n",
              "      <th>1048571</th>\n",
              "      <td>Sentence: 47959</td>\n",
              "      <td>responded</td>\n",
              "      <td>O</td>\n",
              "    </tr>\n",
              "    <tr>\n",
              "      <th>1048572</th>\n",
              "      <td>Sentence: 47959</td>\n",
              "      <td>to</td>\n",
              "      <td>O</td>\n",
              "    </tr>\n",
              "    <tr>\n",
              "      <th>1048573</th>\n",
              "      <td>Sentence: 47959</td>\n",
              "      <td>the</td>\n",
              "      <td>O</td>\n",
              "    </tr>\n",
              "    <tr>\n",
              "      <th>1048574</th>\n",
              "      <td>Sentence: 47959</td>\n",
              "      <td>attack</td>\n",
              "      <td>O</td>\n",
              "    </tr>\n",
              "  </tbody>\n",
              "</table>\n",
              "<p>1048575 rows × 3 columns</p>\n",
              "</div>\n",
              "    <div class=\"colab-df-buttons\">\n",
              "\n",
              "  <div class=\"colab-df-container\">\n",
              "    <button class=\"colab-df-convert\" onclick=\"convertToInteractive('df-af412fed-6c42-467b-8e8d-65d4133d53bf')\"\n",
              "            title=\"Convert this dataframe to an interactive table.\"\n",
              "            style=\"display:none;\">\n",
              "\n",
              "  <svg xmlns=\"http://www.w3.org/2000/svg\" height=\"24px\" viewBox=\"0 -960 960 960\">\n",
              "    <path d=\"M120-120v-720h720v720H120Zm60-500h600v-160H180v160Zm220 220h160v-160H400v160Zm0 220h160v-160H400v160ZM180-400h160v-160H180v160Zm440 0h160v-160H620v160ZM180-180h160v-160H180v160Zm440 0h160v-160H620v160Z\"/>\n",
              "  </svg>\n",
              "    </button>\n",
              "\n",
              "  <style>\n",
              "    .colab-df-container {\n",
              "      display:flex;\n",
              "      gap: 12px;\n",
              "    }\n",
              "\n",
              "    .colab-df-convert {\n",
              "      background-color: #E8F0FE;\n",
              "      border: none;\n",
              "      border-radius: 50%;\n",
              "      cursor: pointer;\n",
              "      display: none;\n",
              "      fill: #1967D2;\n",
              "      height: 32px;\n",
              "      padding: 0 0 0 0;\n",
              "      width: 32px;\n",
              "    }\n",
              "\n",
              "    .colab-df-convert:hover {\n",
              "      background-color: #E2EBFA;\n",
              "      box-shadow: 0px 1px 2px rgba(60, 64, 67, 0.3), 0px 1px 3px 1px rgba(60, 64, 67, 0.15);\n",
              "      fill: #174EA6;\n",
              "    }\n",
              "\n",
              "    .colab-df-buttons div {\n",
              "      margin-bottom: 4px;\n",
              "    }\n",
              "\n",
              "    [theme=dark] .colab-df-convert {\n",
              "      background-color: #3B4455;\n",
              "      fill: #D2E3FC;\n",
              "    }\n",
              "\n",
              "    [theme=dark] .colab-df-convert:hover {\n",
              "      background-color: #434B5C;\n",
              "      box-shadow: 0px 1px 3px 1px rgba(0, 0, 0, 0.15);\n",
              "      filter: drop-shadow(0px 1px 2px rgba(0, 0, 0, 0.3));\n",
              "      fill: #FFFFFF;\n",
              "    }\n",
              "  </style>\n",
              "\n",
              "    <script>\n",
              "      const buttonEl =\n",
              "        document.querySelector('#df-af412fed-6c42-467b-8e8d-65d4133d53bf button.colab-df-convert');\n",
              "      buttonEl.style.display =\n",
              "        google.colab.kernel.accessAllowed ? 'block' : 'none';\n",
              "\n",
              "      async function convertToInteractive(key) {\n",
              "        const element = document.querySelector('#df-af412fed-6c42-467b-8e8d-65d4133d53bf');\n",
              "        const dataTable =\n",
              "          await google.colab.kernel.invokeFunction('convertToInteractive',\n",
              "                                                    [key], {});\n",
              "        if (!dataTable) return;\n",
              "\n",
              "        const docLinkHtml = 'Like what you see? Visit the ' +\n",
              "          '<a target=\"_blank\" href=https://colab.research.google.com/notebooks/data_table.ipynb>data table notebook</a>'\n",
              "          + ' to learn more about interactive tables.';\n",
              "        element.innerHTML = '';\n",
              "        dataTable['output_type'] = 'display_data';\n",
              "        await google.colab.output.renderOutput(dataTable, element);\n",
              "        const docLink = document.createElement('div');\n",
              "        docLink.innerHTML = docLinkHtml;\n",
              "        element.appendChild(docLink);\n",
              "      }\n",
              "    </script>\n",
              "  </div>\n",
              "\n",
              "\n",
              "<div id=\"df-36565fdc-4816-4db3-8644-c5e2456ec560\">\n",
              "  <button class=\"colab-df-quickchart\" onclick=\"quickchart('df-36565fdc-4816-4db3-8644-c5e2456ec560')\"\n",
              "            title=\"Suggest charts\"\n",
              "            style=\"display:none;\">\n",
              "\n",
              "<svg xmlns=\"http://www.w3.org/2000/svg\" height=\"24px\"viewBox=\"0 0 24 24\"\n",
              "     width=\"24px\">\n",
              "    <g>\n",
              "        <path d=\"M19 3H5c-1.1 0-2 .9-2 2v14c0 1.1.9 2 2 2h14c1.1 0 2-.9 2-2V5c0-1.1-.9-2-2-2zM9 17H7v-7h2v7zm4 0h-2V7h2v10zm4 0h-2v-4h2v4z\"/>\n",
              "    </g>\n",
              "</svg>\n",
              "  </button>\n",
              "\n",
              "<style>\n",
              "  .colab-df-quickchart {\n",
              "      --bg-color: #E8F0FE;\n",
              "      --fill-color: #1967D2;\n",
              "      --hover-bg-color: #E2EBFA;\n",
              "      --hover-fill-color: #174EA6;\n",
              "      --disabled-fill-color: #AAA;\n",
              "      --disabled-bg-color: #DDD;\n",
              "  }\n",
              "\n",
              "  [theme=dark] .colab-df-quickchart {\n",
              "      --bg-color: #3B4455;\n",
              "      --fill-color: #D2E3FC;\n",
              "      --hover-bg-color: #434B5C;\n",
              "      --hover-fill-color: #FFFFFF;\n",
              "      --disabled-bg-color: #3B4455;\n",
              "      --disabled-fill-color: #666;\n",
              "  }\n",
              "\n",
              "  .colab-df-quickchart {\n",
              "    background-color: var(--bg-color);\n",
              "    border: none;\n",
              "    border-radius: 50%;\n",
              "    cursor: pointer;\n",
              "    display: none;\n",
              "    fill: var(--fill-color);\n",
              "    height: 32px;\n",
              "    padding: 0;\n",
              "    width: 32px;\n",
              "  }\n",
              "\n",
              "  .colab-df-quickchart:hover {\n",
              "    background-color: var(--hover-bg-color);\n",
              "    box-shadow: 0 1px 2px rgba(60, 64, 67, 0.3), 0 1px 3px 1px rgba(60, 64, 67, 0.15);\n",
              "    fill: var(--button-hover-fill-color);\n",
              "  }\n",
              "\n",
              "  .colab-df-quickchart-complete:disabled,\n",
              "  .colab-df-quickchart-complete:disabled:hover {\n",
              "    background-color: var(--disabled-bg-color);\n",
              "    fill: var(--disabled-fill-color);\n",
              "    box-shadow: none;\n",
              "  }\n",
              "\n",
              "  .colab-df-spinner {\n",
              "    border: 2px solid var(--fill-color);\n",
              "    border-color: transparent;\n",
              "    border-bottom-color: var(--fill-color);\n",
              "    animation:\n",
              "      spin 1s steps(1) infinite;\n",
              "  }\n",
              "\n",
              "  @keyframes spin {\n",
              "    0% {\n",
              "      border-color: transparent;\n",
              "      border-bottom-color: var(--fill-color);\n",
              "      border-left-color: var(--fill-color);\n",
              "    }\n",
              "    20% {\n",
              "      border-color: transparent;\n",
              "      border-left-color: var(--fill-color);\n",
              "      border-top-color: var(--fill-color);\n",
              "    }\n",
              "    30% {\n",
              "      border-color: transparent;\n",
              "      border-left-color: var(--fill-color);\n",
              "      border-top-color: var(--fill-color);\n",
              "      border-right-color: var(--fill-color);\n",
              "    }\n",
              "    40% {\n",
              "      border-color: transparent;\n",
              "      border-right-color: var(--fill-color);\n",
              "      border-top-color: var(--fill-color);\n",
              "    }\n",
              "    60% {\n",
              "      border-color: transparent;\n",
              "      border-right-color: var(--fill-color);\n",
              "    }\n",
              "    80% {\n",
              "      border-color: transparent;\n",
              "      border-right-color: var(--fill-color);\n",
              "      border-bottom-color: var(--fill-color);\n",
              "    }\n",
              "    90% {\n",
              "      border-color: transparent;\n",
              "      border-bottom-color: var(--fill-color);\n",
              "    }\n",
              "  }\n",
              "</style>\n",
              "\n",
              "  <script>\n",
              "    async function quickchart(key) {\n",
              "      const quickchartButtonEl =\n",
              "        document.querySelector('#' + key + ' button');\n",
              "      quickchartButtonEl.disabled = true;  // To prevent multiple clicks.\n",
              "      quickchartButtonEl.classList.add('colab-df-spinner');\n",
              "      try {\n",
              "        const charts = await google.colab.kernel.invokeFunction(\n",
              "            'suggestCharts', [key], {});\n",
              "      } catch (error) {\n",
              "        console.error('Error during call to suggestCharts:', error);\n",
              "      }\n",
              "      quickchartButtonEl.classList.remove('colab-df-spinner');\n",
              "      quickchartButtonEl.classList.add('colab-df-quickchart-complete');\n",
              "    }\n",
              "    (() => {\n",
              "      let quickchartButtonEl =\n",
              "        document.querySelector('#df-36565fdc-4816-4db3-8644-c5e2456ec560 button');\n",
              "      quickchartButtonEl.style.display =\n",
              "        google.colab.kernel.accessAllowed ? 'block' : 'none';\n",
              "    })();\n",
              "  </script>\n",
              "</div>\n",
              "    </div>\n",
              "  </div>\n"
            ]
          },
          "metadata": {},
          "execution_count": 10
        }
      ]
    },
    {
      "cell_type": "code",
      "source": [
        "sns.histplot(df[df['POS']!='O']['POS'])\n",
        "plt.xticks(rotation=45, ha='right')\n",
        "plt.show()"
      ],
      "metadata": {
        "id": "g4jL8gX-b0IW",
        "outputId": "fcc84326-8812-4d25-9315-8a6b2d494272",
        "execution": {
          "iopub.status.busy": "2023-07-16T11:49:27.635977Z",
          "iopub.execute_input": "2023-07-16T11:49:27.636651Z",
          "iopub.status.idle": "2023-07-16T11:49:28.571586Z",
          "shell.execute_reply.started": "2023-07-16T11:49:27.636619Z",
          "shell.execute_reply": "2023-07-16T11:49:28.569417Z"
        },
        "trusted": true,
        "colab": {
          "base_uri": "https://localhost:8080/",
          "height": 474
        }
      },
      "execution_count": 11,
      "outputs": [
        {
          "output_type": "display_data",
          "data": {
            "text/plain": [
              "<Figure size 640x480 with 1 Axes>"
            ],
            "image/png": "[encoded data removed]"
          },
          "metadata": {}
        }
      ]
    },
    {
      "cell_type": "markdown",
      "source": [
        "Clearly there is imbalance in the dataset. Person, Other and loc has the highest count compare to other tags. We will take care of that in loss"
      ],
      "metadata": {
        "id": "tbM_SdKdBOwQ"
      }
    },
    {
      "cell_type": "code",
      "source": [
        "df.info() #There seems to be no null"
      ],
      "metadata": {
        "id": "iRz1A4RR6sb8",
        "outputId": "11756508-880f-4859-df41-2141933f2525",
        "execution": {
          "iopub.status.busy": "2023-07-16T11:49:28.573101Z",
          "iopub.execute_input": "2023-07-16T11:49:28.573492Z",
          "iopub.status.idle": "2023-07-16T11:49:29.424501Z",
          "shell.execute_reply.started": "2023-07-16T11:49:28.573449Z",
          "shell.execute_reply": "2023-07-16T11:49:29.423364Z"
        },
        "trusted": true,
        "colab": {
          "base_uri": "https://localhost:8080/"
        }
      },
      "execution_count": 12,
      "outputs": [
        {
          "output_type": "stream",
          "name": "stdout",
          "text": [
            "<class 'pandas.core.frame.DataFrame'>\n",
            "RangeIndex: 1048575 entries, 0 to 1048574\n",
            "Data columns (total 3 columns):\n",
            " #   Column    Non-Null Count    Dtype \n",
            "---  ------    --------------    ----- \n",
            " 0   Sentence  1048575 non-null  object\n",
            " 1   Token     1048575 non-null  object\n",
            " 2   POS       1048575 non-null  object\n",
            "dtypes: object(3)\n",
            "memory usage: 24.0+ MB\n"
          ]
        }
      ]
    },
    {
      "cell_type": "code",
      "source": [
        "print('Number of sentences are '+str(df['Sentence'].nunique()))\n",
        "print('Number of Vocabs are '+str(df['Token'].nunique()))"
      ],
      "metadata": {
        "id": "EZLsQ3KBD40m",
        "outputId": "2e2f1938-ae52-41df-db3d-8eede8c2dd71",
        "execution": {
          "iopub.status.busy": "2023-07-16T11:49:29.428329Z",
          "iopub.execute_input": "2023-07-16T11:49:29.428630Z",
          "iopub.status.idle": "2023-07-16T11:49:29.666039Z",
          "shell.execute_reply.started": "2023-07-16T11:49:29.428606Z",
          "shell.execute_reply": "2023-07-16T11:49:29.664911Z"
        },
        "trusted": true,
        "colab": {
          "base_uri": "https://localhost:8080/"
        }
      },
      "execution_count": 13,
      "outputs": [
        {
          "output_type": "stream",
          "name": "stdout",
          "text": [
            "Number of sentences are 47959\n",
            "Number of Vocabs are 35178\n"
          ]
        }
      ]
    },
    {
      "cell_type": "markdown",
      "source": [
        "# BLSTM-CRF"
      ],
      "metadata": {
        "id": "0r648V1jPTyI"
      }
    },
    {
      "cell_type": "markdown",
      "source": [
        "## Model Building LSTM and CRF\n"
      ],
      "metadata": {
        "id": "4LgnUIlUuate"
      }
    },
    {
      "cell_type": "markdown",
      "source": [
        "## Data Preprocessing"
      ],
      "metadata": {
        "id": "t_ymBojTFNQF"
      }
    },
    {
      "cell_type": "code",
      "source": [
        "import xml.etree.ElementTree as ET\n",
        "import tensorflow as tf\n",
        "from keras.layers import TextVectorization\n",
        "import gensim.downloader as api\n",
        "from keras.layers import Embedding\n",
        "\n",
        "tf.random.set_seed(123)"
      ],
      "metadata": {
        "id": "9nQhJRHVFLCu",
        "execution": {
          "iopub.status.busy": "2023-07-16T10:18:46.260132Z",
          "iopub.execute_input": "2023-07-16T10:18:46.260564Z",
          "iopub.status.idle": "2023-07-16T10:18:46.268863Z",
          "shell.execute_reply.started": "2023-07-16T10:18:46.260529Z",
          "shell.execute_reply": "2023-07-16T10:18:46.267874Z"
        },
        "trusted": true
      },
      "execution_count": 14,
      "outputs": []
    },
    {
      "cell_type": "code",
      "source": [
        "df['Token']=df['Token'].str.lower()"
      ],
      "metadata": {
        "execution": {
          "iopub.status.busy": "2023-07-16T10:18:46.270372Z",
          "iopub.execute_input": "2023-07-16T10:18:46.270786Z",
          "iopub.status.idle": "2023-07-16T10:18:46.665258Z",
          "shell.execute_reply.started": "2023-07-16T10:18:46.270746Z",
          "shell.execute_reply": "2023-07-16T10:18:46.664278Z"
        },
        "trusted": true,
        "id": "iGBi_Ly4OhaU"
      },
      "execution_count": 15,
      "outputs": []
    },
    {
      "cell_type": "code",
      "source": [
        "sentence_all = [(list(zip(group['Token'], group['POS']))) for _, group in df.groupby('Sentence')]"
      ],
      "metadata": {
        "id": "Z_8d_uxJgaor",
        "execution": {
          "iopub.status.busy": "2023-07-16T10:18:46.666611Z",
          "iopub.execute_input": "2023-07-16T10:18:46.666996Z",
          "iopub.status.idle": "2023-07-16T10:18:51.006122Z",
          "shell.execute_reply.started": "2023-07-16T10:18:46.666964Z",
          "shell.execute_reply": "2023-07-16T10:18:51.004988Z"
        },
        "trusted": true
      },
      "execution_count": 16,
      "outputs": []
    },
    {
      "cell_type": "code",
      "source": [
        "sentence_all[0] #1st Sentence"
      ],
      "metadata": {
        "id": "3qCnmRpcgs0n",
        "outputId": "326bec4c-39a2-4a9b-ffba-4f963b2421ec",
        "execution": {
          "iopub.status.busy": "2023-07-16T10:18:51.007541Z",
          "iopub.execute_input": "2023-07-16T10:18:51.007986Z",
          "iopub.status.idle": "2023-07-16T10:18:51.016349Z",
          "shell.execute_reply.started": "2023-07-16T10:18:51.007954Z",
          "shell.execute_reply": "2023-07-16T10:18:51.015355Z"
        },
        "trusted": true,
        "colab": {
          "base_uri": "https://localhost:8080/"
        }
      },
      "execution_count": 17,
      "outputs": [
        {
          "output_type": "execute_result",
          "data": {
            "text/plain": [
              "[('thousands', 'O'),\n",
              " ('of', 'O'),\n",
              " ('demonstrators', 'O'),\n",
              " ('have', 'O'),\n",
              " ('marched', 'O'),\n",
              " ('through', 'O'),\n",
              " ('london', 'B-geo'),\n",
              " ('to', 'O'),\n",
              " ('protest', 'O'),\n",
              " ('the', 'O'),\n",
              " ('war', 'O'),\n",
              " ('in', 'O'),\n",
              " ('iraq', 'B-geo'),\n",
              " ('and', 'O'),\n",
              " ('demand', 'O'),\n",
              " ('the', 'O'),\n",
              " ('withdrawal', 'O'),\n",
              " ('of', 'O'),\n",
              " ('british', 'B-gpe'),\n",
              " ('troops', 'O'),\n",
              " ('from', 'O'),\n",
              " ('that', 'O'),\n",
              " ('country', 'O'),\n",
              " ('.', 'O')]"
            ]
          },
          "metadata": {},
          "execution_count": 17
        }
      ]
    },
    {
      "cell_type": "code",
      "source": [
        "# sentences = []\n",
        "# for sample in sentence_all:\n",
        "#   sentence = [i[0] for i in sample]\n",
        "#   sentences.append(sentence)\n",
        "\n",
        "# tokenizer = tf.keras.preprocessing.text.Tokenizer(num_words=df['Token'].nunique(), lower=True)\n",
        "# tokenizer.fit_on_texts(sentences)"
      ],
      "metadata": {
        "id": "ocTdt8NJkcYb",
        "execution": {
          "iopub.status.busy": "2023-07-16T10:18:51.017793Z",
          "iopub.execute_input": "2023-07-16T10:18:51.018791Z",
          "iopub.status.idle": "2023-07-16T10:18:51.027441Z",
          "shell.execute_reply.started": "2023-07-16T10:18:51.018759Z",
          "shell.execute_reply": "2023-07-16T10:18:51.026477Z"
        },
        "trusted": true
      },
      "execution_count": 18,
      "outputs": []
    },
    {
      "cell_type": "code",
      "source": [
        "#tokenizer.shape"
      ],
      "metadata": {
        "id": "Dc_D0HqPkcbY",
        "execution": {
          "iopub.status.busy": "2023-07-16T10:18:51.028828Z",
          "iopub.execute_input": "2023-07-16T10:18:51.029289Z",
          "iopub.status.idle": "2023-07-16T10:18:51.039295Z",
          "shell.execute_reply.started": "2023-07-16T10:18:51.029256Z",
          "shell.execute_reply": "2023-07-16T10:18:51.038269Z"
        },
        "trusted": true
      },
      "execution_count": 19,
      "outputs": []
    },
    {
      "cell_type": "code",
      "source": [
        "#tokenizer.word_index.items()"
      ],
      "metadata": {
        "id": "zfhJbZ5cfwQJ",
        "execution": {
          "iopub.status.busy": "2023-07-16T10:18:51.040711Z",
          "iopub.execute_input": "2023-07-16T10:18:51.041042Z",
          "iopub.status.idle": "2023-07-16T10:18:51.050500Z",
          "shell.execute_reply.started": "2023-07-16T10:18:51.041013Z",
          "shell.execute_reply": "2023-07-16T10:18:51.049604Z"
        },
        "trusted": true
      },
      "execution_count": 20,
      "outputs": []
    },
    {
      "cell_type": "code",
      "source": [
        "# Hyperparams if GPU is available\n",
        "if tf.test.is_gpu_available():\n",
        "    BATCH_SIZE = 512  # Number of examples used in each iteration\n",
        "    EPOCHS = 5  # Number of passes through entire dataset\n",
        "    MAX_LEN = 75  # Max length of review (in words)\n",
        "    EMBEDDING = 40  # Dimension of word embedding vector\n",
        "# Hyperparams for CPU training\n",
        "else:\n",
        "    BATCH_SIZE = 32\n",
        "    EPOCHS = 5\n",
        "    MAX_LEN = 75\n",
        "    EMBEDDING = 20"
      ],
      "metadata": {
        "id": "hGPIo_sGpTwe",
        "execution": {
          "iopub.status.busy": "2023-07-16T10:18:51.052022Z",
          "iopub.execute_input": "2023-07-16T10:18:51.052399Z",
          "iopub.status.idle": "2023-07-16T10:18:53.487223Z",
          "shell.execute_reply.started": "2023-07-16T10:18:51.052367Z",
          "shell.execute_reply": "2023-07-16T10:18:53.486144Z"
        },
        "trusted": true,
        "colab": {
          "base_uri": "https://localhost:8080/"
        },
        "outputId": "4fd7bea7-5c6e-4aae-fd7a-07486d0cec55"
      },
      "execution_count": 21,
      "outputs": [
        {
          "output_type": "stream",
          "name": "stderr",
          "text": [
            "WARNING:tensorflow:From <ipython-input-21-98cbf56d884d>:2: is_gpu_available (from tensorflow.python.framework.test_util) is deprecated and will be removed in a future version.\n",
            "Instructions for updating:\n",
            "Use `tf.config.list_physical_devices('GPU')` instead.\n"
          ]
        }
      ]
    },
    {
      "cell_type": "code",
      "source": [
        "#BATCH_SIZE"
      ],
      "metadata": {
        "execution": {
          "iopub.status.busy": "2023-07-16T10:18:53.488366Z",
          "iopub.execute_input": "2023-07-16T10:18:53.488742Z",
          "iopub.status.idle": "2023-07-16T10:18:53.502930Z",
          "shell.execute_reply.started": "2023-07-16T10:18:53.488711Z",
          "shell.execute_reply": "2023-07-16T10:18:53.501952Z"
        },
        "trusted": true,
        "id": "rtSk_dhjOhaU"
      },
      "execution_count": 22,
      "outputs": []
    },
    {
      "cell_type": "code",
      "source": [
        "! pip install keras_preprocessing"
      ],
      "metadata": {
        "id": "8et9ZreO3Jwt",
        "execution": {
          "iopub.status.busy": "2023-07-16T10:18:53.504980Z",
          "iopub.execute_input": "2023-07-16T10:18:53.505292Z",
          "iopub.status.idle": "2023-07-16T10:18:53.514128Z",
          "shell.execute_reply.started": "2023-07-16T10:18:53.505269Z",
          "shell.execute_reply": "2023-07-16T10:18:53.513149Z"
        },
        "trusted": true,
        "colab": {
          "base_uri": "https://localhost:8080/"
        },
        "outputId": "36195469-6e3c-4bbb-da5d-740ec2db6c11"
      },
      "execution_count": 23,
      "outputs": [
        {
          "output_type": "stream",
          "name": "stdout",
          "text": [
            "Collecting keras_preprocessing\n",
            "  Downloading Keras_Preprocessing-1.1.2-py2.py3-none-any.whl (42 kB)\n",
            "\u001b[2K     \u001b[90m━━━━━━━━━━━━━━━━━━━━━━━━━━━━━━━━━━━━━━━━\u001b[0m \u001b[32m42.6/42.6 kB\u001b[0m \u001b[31m443.0 kB/s\u001b[0m eta \u001b[36m0:00:00\u001b[0m\n",
            "\u001b[?25hRequirement already satisfied: numpy>=1.9.1 in /usr/local/lib/python3.10/dist-packages (from keras_preprocessing) (1.23.5)\n",
            "Requirement already satisfied: six>=1.9.0 in /usr/local/lib/python3.10/dist-packages (from keras_preprocessing) (1.16.0)\n",
            "Installing collected packages: keras_preprocessing\n",
            "Successfully installed keras_preprocessing-1.1.2\n"
          ]
        }
      ]
    },
    {
      "cell_type": "code",
      "source": [
        "words = list(set(df['Token'].values))\n",
        "tags = list(set(df[\"POS\"].values))"
      ],
      "metadata": {
        "id": "8kAFj9PLXFTa",
        "execution": {
          "iopub.status.busy": "2023-07-16T10:18:53.515623Z",
          "iopub.execute_input": "2023-07-16T10:18:53.516276Z",
          "iopub.status.idle": "2023-07-16T10:18:53.657336Z",
          "shell.execute_reply.started": "2023-07-16T10:18:53.516246Z",
          "shell.execute_reply": "2023-07-16T10:18:53.656223Z"
        },
        "trusted": true
      },
      "execution_count": 24,
      "outputs": []
    },
    {
      "cell_type": "code",
      "source": [
        "'thousands'in words"
      ],
      "metadata": {
        "execution": {
          "iopub.status.busy": "2023-07-16T10:18:53.660612Z",
          "iopub.execute_input": "2023-07-16T10:18:53.661358Z",
          "iopub.status.idle": "2023-07-16T10:18:53.672337Z",
          "shell.execute_reply.started": "2023-07-16T10:18:53.661325Z",
          "shell.execute_reply": "2023-07-16T10:18:53.671013Z"
        },
        "trusted": true,
        "colab": {
          "base_uri": "https://localhost:8080/"
        },
        "id": "amm-UlunOhaV",
        "outputId": "767571b6-b288-4758-9fcf-96b7d3bfe54d"
      },
      "execution_count": 25,
      "outputs": [
        {
          "output_type": "execute_result",
          "data": {
            "text/plain": [
              "True"
            ]
          },
          "metadata": {},
          "execution_count": 25
        }
      ]
    },
    {
      "cell_type": "code",
      "source": [
        "#Creating word to index and tag to index\n",
        "import sklearn\n",
        "\n",
        "# Vocabulary Key:word -> Value:token_index\n",
        "# The first 2 entries are reserved for PAD and UNK\n",
        "word2idx = {w: i + 2 for i, w in enumerate(words)}\n",
        "word2idx[\"UNK\"] = 1 # Unknown words\n",
        "word2idx[\"PAD\"] = 0 # Padding\n",
        "\n",
        "# Vocabulary Key:token_index -> Value:word\n",
        "idx2word = {i: w for w, i in word2idx.items()}\n",
        "\n",
        "# Vocabulary Key:Label/Tag -> Value:tag_index\n",
        "# The first entry is reserved for PAD\n",
        "tag2idx = {t: i+1 for i, t in enumerate(tags)}\n",
        "tag2idx[\"PAD\"] = 0\n",
        "\n",
        "# Vocabulary Key:tag_index -> Value:Label/Tag\n",
        "idx2tag = {i: w for w, i in tag2idx.items()}\n"
      ],
      "metadata": {
        "id": "TOW4CLGn8CRJ",
        "execution": {
          "iopub.status.busy": "2023-07-16T10:18:53.673614Z",
          "iopub.execute_input": "2023-07-16T10:18:53.674034Z",
          "iopub.status.idle": "2023-07-16T10:18:53.696369Z",
          "shell.execute_reply.started": "2023-07-16T10:18:53.674002Z",
          "shell.execute_reply": "2023-07-16T10:18:53.695361Z"
        },
        "trusted": true
      },
      "execution_count": 26,
      "outputs": []
    },
    {
      "cell_type": "code",
      "source": [
        "#'thousands' in list(word2idx.keys())"
      ],
      "metadata": {
        "execution": {
          "iopub.status.busy": "2023-07-16T10:18:53.698405Z",
          "iopub.execute_input": "2023-07-16T10:18:53.699374Z",
          "iopub.status.idle": "2023-07-16T10:18:53.708105Z",
          "shell.execute_reply.started": "2023-07-16T10:18:53.699344Z",
          "shell.execute_reply": "2023-07-16T10:18:53.707108Z"
        },
        "trusted": true,
        "id": "l33lkCrCOhaV"
      },
      "execution_count": 27,
      "outputs": []
    },
    {
      "cell_type": "code",
      "source": [
        "# Embedding the word matrix, we will add this\n",
        "hits = 0\n",
        "misses = 0\n",
        "word2vec = api.load(\"word2vec-google-news-300\")\n",
        "embedding_dim = 300\n",
        "\n",
        "# Prepare embedding matrix\n",
        "embedding_matrix = np.zeros((len(word2idx), embedding_dim))\n",
        "for word, i in zip(word2idx.keys(),word2idx.values()):\n",
        "    embedding_vector = None\n",
        "    try:\n",
        "      embedding_vector = word2vec[word]\n",
        "    except Exception :\n",
        "      pass\n",
        "\n",
        "    if embedding_vector is not None:\n",
        "        # Words not found in embedding index will be all-zeros.\n",
        "        # This includes the representation for \"padding\" and \"OOV\"\n",
        "        embedding_matrix[i] = embedding_vector\n",
        "        hits += 1\n",
        "    else:\n",
        "        misses += 1\n",
        "print(\"Converted %d words (%d misses)\" % (hits, misses))"
      ],
      "metadata": {
        "id": "ihzSghVsGJ0r",
        "outputId": "14ab567f-0f07-44ee-e63d-d7fd7bffd378",
        "execution": {
          "iopub.status.busy": "2023-07-16T10:52:50.911034Z",
          "iopub.execute_input": "2023-07-16T10:52:50.911778Z",
          "iopub.status.idle": "2023-07-16T10:53:55.785661Z",
          "shell.execute_reply.started": "2023-07-16T10:52:50.911745Z",
          "shell.execute_reply": "2023-07-16T10:53:55.784254Z"
        },
        "trusted": true,
        "colab": {
          "base_uri": "https://localhost:8080/"
        }
      },
      "execution_count": 28,
      "outputs": [
        {
          "output_type": "stream",
          "name": "stdout",
          "text": [
            "[==================================================] 100.0% 1662.8/1662.8MB downloaded\n",
            "Converted 19600 words (12219 misses)\n"
          ]
        }
      ]
    },
    {
      "cell_type": "code",
      "source": [
        "#! pip install keras_preprocessing"
      ],
      "metadata": {
        "execution": {
          "iopub.status.busy": "2023-07-16T10:56:09.708025Z",
          "iopub.execute_input": "2023-07-16T10:56:09.708424Z",
          "iopub.status.idle": "2023-07-16T10:56:09.714180Z",
          "shell.execute_reply.started": "2023-07-16T10:56:09.708391Z",
          "shell.execute_reply": "2023-07-16T10:56:09.713255Z"
        },
        "trusted": true,
        "id": "VmQI0DPDOhaV"
      },
      "execution_count": 29,
      "outputs": []
    },
    {
      "cell_type": "code",
      "source": [
        "#Tagging word to index and tag to index\n",
        "\n",
        "#from keras.preprocessing.sequence import pad_sequences\n",
        "#from keras_preprocessing.sequence import pad_sequences\n",
        "from keras_preprocessing.sequence import pad_sequences\n",
        "\n",
        "# Convert each sentence from list of Token to list of word_index\n",
        "X = [[word2idx[w[0]] for w in s] for s in sentence_all]\n",
        "\n",
        "# Padding each sentence to have the same lenght\n",
        "X = pad_sequences(maxlen=MAX_LEN, sequences=X, padding=\"post\", value=word2idx[\"PAD\"])\n",
        "\n",
        "# Convert Tag/Label to tag_index\n",
        "y = [[tag2idx[w[1]] for w in s] for s in sentence_all]\n",
        "\n",
        "# Padding each sentence to have the same lenght\n",
        "y = pad_sequences(maxlen=75, sequences=y, padding=\"post\", value=tag2idx[\"PAD\"])\n",
        "from keras.utils import to_categorical\n",
        "\n",
        "# One-Hot encode\n",
        "y = [to_categorical(i, num_classes=len(tags)+1) for i in y]  # n_tags+1(PAD)\n",
        "from sklearn.model_selection import train_test_split\n",
        "X_tr, X_te, y_tr, y_te = train_test_split(X, y, test_size=0.1)\n",
        "X_tr.shape, X_te.shape, np.array(y_tr).shape, np.array(y_te).shape\n",
        "\n",
        "\n",
        "print('Raw Sample:\\n ', ' '.join([w[0] for w in sentence_all[1]]))\n",
        "print('\\n ' )\n",
        "print('Raw Label:\\n ', ' '.join([w[1] for w in sentence_all[1]]))\n",
        "print('\\n ' )\n",
        "print('After processing, sample:\\n', X[0])\n",
        "print('\\n ' )\n",
        "print('After processing, labels:\\n', y[0])"
      ],
      "metadata": {
        "id": "KOX54Mbfovsa",
        "outputId": "845b76dc-5725-4ea9-ac9b-b8fc823f7aa9",
        "execution": {
          "iopub.status.busy": "2023-07-16T10:56:19.306913Z",
          "iopub.execute_input": "2023-07-16T10:56:19.307273Z",
          "iopub.status.idle": "2023-07-16T10:56:21.630447Z",
          "shell.execute_reply.started": "2023-07-16T10:56:19.307245Z",
          "shell.execute_reply": "2023-07-16T10:56:21.629505Z"
        },
        "trusted": true,
        "colab": {
          "base_uri": "https://localhost:8080/"
        }
      },
      "execution_count": 30,
      "outputs": [
        {
          "output_type": "stream",
          "name": "stdout",
          "text": [
            "Raw Sample:\n",
            "  iranian officials say they expect to get access to sealed sensitive parts of the plant wednesday , after an iaea surveillance system begins functioning .\n",
            "\n",
            " \n",
            "Raw Label:\n",
            "  B-gpe O O O O O O O O O O O O O O B-tim O O O B-org O O O O O\n",
            "\n",
            " \n",
            "After processing, sample:\n",
            " [16284 15545  9966 27814 12276 11485  6025   108  5384 11509 20771 14315\n",
            "  5088 28800  9002 11509  9740 15545 26488 20825 26421  1585  6315 18090\n",
            "     0     0     0     0     0     0     0     0     0     0     0     0\n",
            "     0     0     0     0     0     0     0     0     0     0     0     0\n",
            "     0     0     0     0     0     0     0     0     0     0     0     0\n",
            "     0     0     0     0     0     0     0     0     0     0     0     0\n",
            "     0     0     0]\n",
            "\n",
            " \n",
            "After processing, labels:\n",
            " [[0. 0. 0. ... 0. 0. 0.]\n",
            " [0. 0. 0. ... 0. 0. 0.]\n",
            " [0. 0. 0. ... 0. 0. 0.]\n",
            " ...\n",
            " [1. 0. 0. ... 0. 0. 0.]\n",
            " [1. 0. 0. ... 0. 0. 0.]\n",
            " [1. 0. 0. ... 0. 0. 0.]]\n"
          ]
        }
      ]
    },
    {
      "cell_type": "code",
      "source": [
        "#sentence_all"
      ],
      "metadata": {
        "execution": {
          "iopub.status.busy": "2023-07-16T10:56:21.632522Z",
          "iopub.execute_input": "2023-07-16T10:56:21.633252Z",
          "iopub.status.idle": "2023-07-16T10:56:21.637833Z",
          "shell.execute_reply.started": "2023-07-16T10:56:21.633218Z",
          "shell.execute_reply": "2023-07-16T10:56:21.636835Z"
        },
        "trusted": true,
        "id": "QSDlXufGOhaV"
      },
      "execution_count": 31,
      "outputs": []
    },
    {
      "cell_type": "code",
      "source": [
        "len(word2idx)"
      ],
      "metadata": {
        "id": "wgoOfL6_6R2E",
        "outputId": "45cd8ce1-ab6b-4f77-9690-b2a31f8ffb0b",
        "execution": {
          "iopub.status.busy": "2023-07-16T10:56:21.639146Z",
          "iopub.execute_input": "2023-07-16T10:56:21.639726Z",
          "iopub.status.idle": "2023-07-16T10:56:21.652295Z",
          "shell.execute_reply.started": "2023-07-16T10:56:21.639695Z",
          "shell.execute_reply": "2023-07-16T10:56:21.651388Z"
        },
        "trusted": true,
        "colab": {
          "base_uri": "https://localhost:8080/"
        }
      },
      "execution_count": 32,
      "outputs": [
        {
          "output_type": "execute_result",
          "data": {
            "text/plain": [
              "31819"
            ]
          },
          "metadata": {},
          "execution_count": 32
        }
      ]
    },
    {
      "cell_type": "code",
      "source": [
        "X_tr.shape, X_te.shape, np.array(y_tr).shape, np.array(y_te).shape"
      ],
      "metadata": {
        "id": "q2RAUerv2oal",
        "outputId": "c9e70e58-6231-4e8f-abf7-f357f875e87a",
        "execution": {
          "iopub.status.busy": "2023-07-16T10:56:21.655368Z",
          "iopub.execute_input": "2023-07-16T10:56:21.655717Z",
          "iopub.status.idle": "2023-07-16T10:56:21.803377Z",
          "shell.execute_reply.started": "2023-07-16T10:56:21.655686Z",
          "shell.execute_reply": "2023-07-16T10:56:21.802447Z"
        },
        "trusted": true,
        "colab": {
          "base_uri": "https://localhost:8080/"
        }
      },
      "execution_count": 33,
      "outputs": [
        {
          "output_type": "execute_result",
          "data": {
            "text/plain": [
              "((43163, 75), (4796, 75), (43163, 75, 18), (4796, 75, 18))"
            ]
          },
          "metadata": {},
          "execution_count": 33
        }
      ]
    },
    {
      "cell_type": "code",
      "source": [
        "y_tr = np.array(y_tr)\n",
        "y_te = np.array(y_te)"
      ],
      "metadata": {
        "id": "ctXOA14VrXX6",
        "execution": {
          "iopub.status.busy": "2023-07-16T10:56:21.804596Z",
          "iopub.execute_input": "2023-07-16T10:56:21.804955Z",
          "iopub.status.idle": "2023-07-16T10:56:21.942626Z",
          "shell.execute_reply.started": "2023-07-16T10:56:21.804919Z",
          "shell.execute_reply": "2023-07-16T10:56:21.941621Z"
        },
        "trusted": true
      },
      "execution_count": 34,
      "outputs": []
    },
    {
      "cell_type": "code",
      "source": [
        "#! pip install tensorflow_addons"
      ],
      "metadata": {
        "id": "YvDJnI9uSQzH",
        "execution": {
          "iopub.status.busy": "2023-07-16T10:56:21.943975Z",
          "iopub.execute_input": "2023-07-16T10:56:21.944416Z",
          "iopub.status.idle": "2023-07-16T10:56:21.949518Z",
          "shell.execute_reply.started": "2023-07-16T10:56:21.944383Z",
          "shell.execute_reply": "2023-07-16T10:56:21.948670Z"
        },
        "trusted": true
      },
      "execution_count": 35,
      "outputs": []
    },
    {
      "cell_type": "code",
      "source": [
        "# !pip install tensorflow-addons\n",
        "# !pip install tensorflow==2.0.0-beta1"
      ],
      "metadata": {
        "id": "i61u-oRzYDuS",
        "execution": {
          "iopub.status.busy": "2023-07-16T10:56:21.950855Z",
          "iopub.execute_input": "2023-07-16T10:56:21.951829Z",
          "iopub.status.idle": "2023-07-16T10:56:21.959175Z",
          "shell.execute_reply.started": "2023-07-16T10:56:21.951789Z",
          "shell.execute_reply": "2023-07-16T10:56:21.958198Z"
        },
        "trusted": true
      },
      "execution_count": 36,
      "outputs": []
    },
    {
      "cell_type": "markdown",
      "source": [
        "## Model Building"
      ],
      "metadata": {
        "id": "vMejp4LHon_R"
      }
    },
    {
      "cell_type": "code",
      "source": [
        "#len(word2idx)"
      ],
      "metadata": {
        "execution": {
          "iopub.status.busy": "2023-07-16T10:56:21.960378Z",
          "iopub.execute_input": "2023-07-16T10:56:21.960862Z",
          "iopub.status.idle": "2023-07-16T10:56:21.977607Z",
          "shell.execute_reply.started": "2023-07-16T10:56:21.960830Z",
          "shell.execute_reply": "2023-07-16T10:56:21.976087Z"
        },
        "trusted": true,
        "id": "pxaP3HyuOhaZ"
      },
      "execution_count": 37,
      "outputs": []
    },
    {
      "cell_type": "code",
      "source": [
        "from tensorflow.keras.models import Model\n",
        "from tensorflow.keras.layers import Input, LSTM, Embedding, Dense, TimeDistributed, Dropout, Bidirectional\n",
        "from tensorflow_addons.utils.types import FloatTensorLike, TensorLike\n",
        "from tensorflow_addons.layers import CRF\n",
        "from tensorflow_addons.losses import SigmoidFocalCrossEntropy\n",
        "from tensorflow_addons.optimizers import AdamW\n",
        "\n",
        "\n",
        "\n",
        "def build_model(max_len = 75, input_dim = len(word2idx),embedding_dim = 300):\n",
        "  # Model definition\n",
        "  input = Input(shape=(max_len,))\n",
        "\n",
        "  # Get embeddings\n",
        "  embeddings = Embedding(\n",
        "      input_dim,\n",
        "      embedding_dim,\n",
        "      weights=[embedding_matrix],\n",
        "    input_length=max_len,\n",
        "       mask_zero=True,\n",
        "    trainable=True,\n",
        "      name = 'embedding_layer'\n",
        "  )(input)\n",
        "\n",
        "  # variational biLSTM\n",
        "  output_sequences = Bidirectional(LSTM(units=50, return_sequences=True))(embeddings)\n",
        "  output_sequences = Bidirectional(LSTM(units=100, return_sequences=True))(output_sequences)\n",
        "  # Stacking\n",
        "  output_sequences = Bidirectional(LSTM(units=50, return_sequences=True))(output_sequences)\n",
        "\n",
        "  # Adding more non-linearity\n",
        "  dense_out = TimeDistributed(Dense(25, activation=\"relu\"))(output_sequences)\n",
        "\n",
        "  # CRF layer\n",
        "  mask = Input(shape=(max_len,), dtype=tf.bool)\n",
        "  crf = CRF(18, name='crf')\n",
        "  predicted_sequence, potentials, sequence_length, crf_kernel = crf(dense_out)\n",
        "\n",
        "  model = Model(input, potentials)\n",
        "  model.compile(\n",
        "      optimizer=AdamW(weight_decay=0.001),\n",
        "      loss= SigmoidFocalCrossEntropy()) # Sigmoid focal cross entropy loss\n",
        "\n",
        "  return model\n",
        "\n",
        "model = build_model()\n",
        "\n",
        "# Checkpointing\n",
        "save_model = tf.keras.callbacks.ModelCheckpoint(filepath='ner_crf.h5',\n",
        "  monitor='val_loss',\n",
        "  save_weights_only=True,\n",
        "  save_best_only=True,\n",
        "  verbose=1\n",
        ")\n",
        "\n",
        "# Early stopping\n",
        "es = tf.keras.callbacks.EarlyStopping(monitor='val_loss', verbose=1, patience=10)\n",
        "\n",
        "callbacks = [save_model, es]\n",
        "\n",
        "model.summary()"
      ],
      "metadata": {
        "id": "WLWSASfqudzD",
        "outputId": "3ce67180-0f70-4177-edd0-1008da5a3632",
        "execution": {
          "iopub.status.busy": "2023-07-16T10:56:21.981941Z",
          "iopub.execute_input": "2023-07-16T10:56:21.982294Z",
          "iopub.status.idle": "2023-07-16T10:56:29.919790Z",
          "shell.execute_reply.started": "2023-07-16T10:56:21.982263Z",
          "shell.execute_reply": "2023-07-16T10:56:29.919039Z"
        },
        "trusted": true,
        "colab": {
          "base_uri": "https://localhost:8080/"
        }
      },
      "execution_count": 66,
      "outputs": [
        {
          "output_type": "stream",
          "name": "stdout",
          "text": [
            "Model: \"model_2\"\n",
            "_________________________________________________________________\n",
            " Layer (type)                Output Shape              Param #   \n",
            "=================================================================\n",
            " input_5 (InputLayer)        [(None, 75)]              0         \n",
            "                                                                 \n",
            " embedding_layer (Embedding  (None, 75, 300)           9545700   \n",
            " )                                                               \n",
            "                                                                 \n",
            " bidirectional_3 (Bidirecti  (None, 75, 100)           140400    \n",
            " onal)                                                           \n",
            "                                                                 \n",
            " bidirectional_4 (Bidirecti  (None, 75, 200)           160800    \n",
            " onal)                                                           \n",
            "                                                                 \n",
            " bidirectional_5 (Bidirecti  (None, 75, 100)           100400    \n",
            " onal)                                                           \n",
            "                                                                 \n",
            " time_distributed_1 (TimeDi  (None, 75, 25)            2525      \n",
            " stributed)                                                      \n",
            "                                                                 \n",
            " crf (CRF)                   [(None, 75),              828       \n",
            "                              (None, 75, 18),                    \n",
            "                              (None,),                           \n",
            "                              (18, 18)]                          \n",
            "                                                                 \n",
            "=================================================================\n",
            "Total params: 9950653 (37.96 MB)\n",
            "Trainable params: 9950653 (37.96 MB)\n",
            "Non-trainable params: 0 (0.00 Byte)\n",
            "_________________________________________________________________\n"
          ]
        }
      ]
    },
    {
      "cell_type": "markdown",
      "source": [
        "## Evaluation"
      ],
      "metadata": {
        "id": "3PfGxZZzOhaZ"
      }
    },
    {
      "cell_type": "code",
      "source": [
        "history = model.fit(\n",
        "  X_tr,\n",
        "  y_tr,\n",
        "  batch_size=64,\n",
        "  epochs=20,\n",
        "  validation_data=(X_te, y_te),\n",
        "  callbacks=callbacks,\n",
        "  shuffle=True\n",
        ")"
      ],
      "metadata": {
        "id": "i96t0iiHvAWI",
        "outputId": "3021fff8-90d7-4d41-86b5-7a281cb81567",
        "execution": {
          "iopub.status.busy": "2023-07-16T10:56:29.924753Z",
          "iopub.execute_input": "2023-07-16T10:56:29.925099Z",
          "iopub.status.idle": "2023-07-16T11:07:13.190799Z",
          "shell.execute_reply.started": "2023-07-16T10:56:29.925066Z",
          "shell.execute_reply": "2023-07-16T11:07:13.189717Z"
        },
        "trusted": true,
        "colab": {
          "base_uri": "https://localhost:8080/"
        }
      },
      "execution_count": 39,
      "outputs": [
        {
          "output_type": "stream",
          "name": "stdout",
          "text": [
            "Epoch 1/20\n"
          ]
        },
        {
          "output_type": "stream",
          "name": "stderr",
          "text": [
            "WARNING:tensorflow:Gradients do not exist for variables ['chain_kernel:0'] when minimizing the loss. If you're using `model.compile()`, did you forget to provide a `loss` argument?\n",
            "WARNING:tensorflow:Gradients do not exist for variables ['chain_kernel:0'] when minimizing the loss. If you're using `model.compile()`, did you forget to provide a `loss` argument?\n"
          ]
        },
        {
          "output_type": "stream",
          "name": "stdout",
          "text": [
            "675/675 [==============================] - ETA: 0s - loss: 0.1581\n",
            "Epoch 1: val_loss improved from inf to 0.03543, saving model to ner_crf.h5\n",
            "675/675 [==============================] - 113s 91ms/step - loss: 0.1581 - val_loss: 0.0354\n",
            "Epoch 2/20\n",
            "675/675 [==============================] - ETA: 0s - loss: 0.0259\n",
            "Epoch 2: val_loss improved from 0.03543 to 0.02059, saving model to ner_crf.h5\n",
            "675/675 [==============================] - 48s 71ms/step - loss: 0.0259 - val_loss: 0.0206\n",
            "Epoch 3/20\n",
            "675/675 [==============================] - ETA: 0s - loss: 0.0166\n",
            "Epoch 3: val_loss improved from 0.02059 to 0.01684, saving model to ner_crf.h5\n",
            "675/675 [==============================] - 60s 89ms/step - loss: 0.0166 - val_loss: 0.0168\n",
            "Epoch 4/20\n",
            "675/675 [==============================] - ETA: 0s - loss: 0.0128\n",
            "Epoch 4: val_loss improved from 0.01684 to 0.01525, saving model to ner_crf.h5\n",
            "675/675 [==============================] - 35s 52ms/step - loss: 0.0128 - val_loss: 0.0153\n",
            "Epoch 5/20\n",
            "675/675 [==============================] - ETA: 0s - loss: 0.0141\n",
            "Epoch 5: val_loss improved from 0.01525 to 0.01498, saving model to ner_crf.h5\n",
            "675/675 [==============================] - 30s 45ms/step - loss: 0.0141 - val_loss: 0.0150\n",
            "Epoch 6/20\n",
            "675/675 [==============================] - ETA: 0s - loss: 0.0118\n",
            "Epoch 6: val_loss did not improve from 0.01498\n",
            "675/675 [==============================] - 31s 46ms/step - loss: 0.0118 - val_loss: 0.0153\n",
            "Epoch 7/20\n",
            "675/675 [==============================] - ETA: 0s - loss: 0.0126\n",
            "Epoch 7: val_loss did not improve from 0.01498\n",
            "675/675 [==============================] - 31s 46ms/step - loss: 0.0126 - val_loss: 0.0273\n",
            "Epoch 8/20\n",
            "675/675 [==============================] - ETA: 0s - loss: 0.0115\n",
            "Epoch 8: val_loss improved from 0.01498 to 0.01490, saving model to ner_crf.h5\n",
            "675/675 [==============================] - 29s 43ms/step - loss: 0.0115 - val_loss: 0.0149\n",
            "Epoch 9/20\n",
            "675/675 [==============================] - ETA: 0s - loss: 0.0093\n",
            "Epoch 9: val_loss did not improve from 0.01490\n",
            "675/675 [==============================] - 29s 43ms/step - loss: 0.0093 - val_loss: 0.0159\n",
            "Epoch 10/20\n",
            "675/675 [==============================] - ETA: 0s - loss: 0.0105\n",
            "Epoch 10: val_loss did not improve from 0.01490\n",
            "675/675 [==============================] - 30s 44ms/step - loss: 0.0105 - val_loss: 0.0153\n",
            "Epoch 11/20\n",
            "675/675 [==============================] - ETA: 0s - loss: 0.0087\n",
            "Epoch 11: val_loss did not improve from 0.01490\n",
            "675/675 [==============================] - 33s 49ms/step - loss: 0.0087 - val_loss: 0.0173\n",
            "Epoch 12/20\n",
            "674/675 [============================>.] - ETA: 0s - loss: 0.0079\n",
            "Epoch 12: val_loss did not improve from 0.01490\n",
            "675/675 [==============================] - 30s 45ms/step - loss: 0.0079 - val_loss: 0.0189\n",
            "Epoch 13/20\n",
            "675/675 [==============================] - ETA: 0s - loss: 0.0074\n",
            "Epoch 13: val_loss did not improve from 0.01490\n",
            "675/675 [==============================] - 30s 45ms/step - loss: 0.0074 - val_loss: 0.0231\n",
            "Epoch 14/20\n",
            "675/675 [==============================] - ETA: 0s - loss: 0.0069\n",
            "Epoch 14: val_loss did not improve from 0.01490\n",
            "675/675 [==============================] - 30s 45ms/step - loss: 0.0069 - val_loss: 0.0187\n",
            "Epoch 15/20\n",
            "675/675 [==============================] - ETA: 0s - loss: 0.0079\n",
            "Epoch 15: val_loss did not improve from 0.01490\n",
            "675/675 [==============================] - 30s 45ms/step - loss: 0.0079 - val_loss: 0.0170\n",
            "Epoch 16/20\n",
            "675/675 [==============================] - ETA: 0s - loss: 0.0065\n",
            "Epoch 16: val_loss did not improve from 0.01490\n",
            "675/675 [==============================] - 29s 44ms/step - loss: 0.0065 - val_loss: 0.0159\n",
            "Epoch 17/20\n",
            "674/675 [============================>.] - ETA: 0s - loss: 0.0071\n",
            "Epoch 17: val_loss did not improve from 0.01490\n",
            "675/675 [==============================] - 34s 50ms/step - loss: 0.0071 - val_loss: 0.0170\n",
            "Epoch 18/20\n",
            "675/675 [==============================] - ETA: 0s - loss: 0.0063\n",
            "Epoch 18: val_loss improved from 0.01490 to 0.01409, saving model to ner_crf.h5\n",
            "675/675 [==============================] - 30s 44ms/step - loss: 0.0063 - val_loss: 0.0141\n",
            "Epoch 19/20\n",
            "675/675 [==============================] - ETA: 0s - loss: 0.0057\n",
            "Epoch 19: val_loss did not improve from 0.01409\n",
            "675/675 [==============================] - 29s 42ms/step - loss: 0.0057 - val_loss: 0.0212\n",
            "Epoch 20/20\n",
            "675/675 [==============================] - ETA: 0s - loss: 0.0050\n",
            "Epoch 20: val_loss did not improve from 0.01409\n",
            "675/675 [==============================] - 31s 46ms/step - loss: 0.0050 - val_loss: 0.0192\n"
          ]
        }
      ]
    },
    {
      "cell_type": "code",
      "source": [
        "from matplotlib import pyplot\n",
        "\n",
        "pyplot.plot(history.history['loss'], label='train')\n",
        "pyplot.plot(history.history['val_loss'], label='test')\n",
        "pyplot.legend()\n",
        "pyplot.show()"
      ],
      "metadata": {
        "id": "tl6WcdqNzpPJ",
        "outputId": "13929138-02d9-4afc-e28e-46e0fdf3cc2c",
        "execution": {
          "iopub.status.busy": "2023-07-16T11:07:13.192451Z",
          "iopub.execute_input": "2023-07-16T11:07:13.192925Z",
          "iopub.status.idle": "2023-07-16T11:07:13.464499Z",
          "shell.execute_reply.started": "2023-07-16T11:07:13.192890Z",
          "shell.execute_reply": "2023-07-16T11:07:13.463571Z"
        },
        "trusted": true,
        "colab": {
          "base_uri": "https://localhost:8080/",
          "height": 430
        }
      },
      "execution_count": 40,
      "outputs": [
        {
          "output_type": "display_data",
          "data": {
            "text/plain": [
              "<Figure size 640x480 with 1 Axes>"
            ],
            "image/png": "[encoded data removed]"
          },
          "metadata": {}
        }
      ]
    },
    {
      "cell_type": "markdown",
      "source": [
        "Since it's still reducing there is a chance it will reduce more with more hyperparam tuning but loss of 0.02 for train and 0.14 with test looks great"
      ],
      "metadata": {
        "id": "hnrLGiB5Dpom"
      }
    },
    {
      "cell_type": "code",
      "source": [
        "import seaborn as sns\n",
        "import matplotlib.pyplot as plt\n",
        "from sklearn.metrics import confusion_matrix\n",
        "import numpy as np\n",
        "\n",
        "# Make predictions on the test set\n",
        "predictions = model.predict(X_te)\n",
        "\n",
        "# Convert predictions to POS tags\n",
        "predicted_tags = np.argmax(predictions, axis=-1)\n",
        "predicted_tags = [[idx2tag[tag] for tag in sample] for sample in predicted_tags]\n",
        "\n",
        "# Flatten the predicted and true POS tag sequences\n",
        "flatten_predicted = [tag for sample in predicted_tags for tag in sample]\n",
        "flatten_true = [idx2tag[np.argmax(tag)] for sample in y_te for tag in sample]\n",
        "\n",
        "# Get unique tags from the true and predicted sequences\n",
        "unique_tags = list(set(flatten_true + flatten_predicted))\n",
        "\n",
        "# Compute the confusion matrix\n",
        "cm = confusion_matrix(flatten_true, flatten_predicted, labels=unique_tags)\n",
        "\n",
        "# Create a DataFrame for the confusion matrix\n",
        "cm_df = pd.DataFrame(cm, index=unique_tags, columns=unique_tags)\n",
        "\n",
        "# Set up the plot\n",
        "plt.figure(figsize=(10, 8))\n",
        "sns.set(font_scale=1.2)\n",
        "\n",
        "# Plot the confusion matrix as a heatmap\n",
        "sns.heatmap(cm_df, annot=True, cmap=\"Blues\", fmt=\"d\", cbar=False)\n",
        "\n",
        "# Customize the plot\n",
        "plt.title(\"Confusion Matrix\")\n",
        "plt.xlabel(\"Predicted Label\")\n",
        "plt.ylabel(\"True Label\")\n",
        "plt.xticks(rotation=45, ha=\"right\")\n",
        "plt.yticks(rotation=0)\n",
        "\n",
        "# Show the plot\n",
        "plt.show()\n"
      ],
      "metadata": {
        "id": "3iSIL3RuHOss",
        "outputId": "9dca7a17-ea7c-4693-82b9-0e499257c917",
        "execution": {
          "iopub.status.busy": "2023-07-16T11:07:13.466156Z",
          "iopub.execute_input": "2023-07-16T11:07:13.466830Z",
          "iopub.status.idle": "2023-07-16T11:07:27.529380Z",
          "shell.execute_reply.started": "2023-07-16T11:07:13.466796Z",
          "shell.execute_reply": "2023-07-16T11:07:27.528319Z"
        },
        "trusted": true,
        "colab": {
          "base_uri": "https://localhost:8080/",
          "height": 781
        }
      },
      "execution_count": 83,
      "outputs": [
        {
          "output_type": "stream",
          "name": "stdout",
          "text": [
            "150/150 [==============================] - 2s 11ms/step\n"
          ]
        },
        {
          "output_type": "display_data",
          "data": {
            "text/plain": [
              "<Figure size 1000x800 with 1 Axes>"
            ],
            "image/png": "[encoded data removed]"
          },
          "metadata": {}
        }
      ]
    },
    {
      "cell_type": "code",
      "source": [
        "from sklearn.metrics import classification_report\n",
        "print(\"Classification Report:\\n \", classification_report(flatten_predicted, flatten_true, labels=unique_tags))"
      ],
      "metadata": {
        "id": "kpNphW9qQDLs",
        "outputId": "886777c4-78fc-4b06-abc6-2ca0bff62a2e",
        "execution": {
          "iopub.status.busy": "2023-07-16T11:07:27.530828Z",
          "iopub.execute_input": "2023-07-16T11:07:27.531392Z",
          "iopub.status.idle": "2023-07-16T11:07:32.336981Z",
          "shell.execute_reply.started": "2023-07-16T11:07:27.531356Z",
          "shell.execute_reply": "2023-07-16T11:07:32.333707Z"
        },
        "trusted": true,
        "colab": {
          "base_uri": "https://localhost:8080/"
        }
      },
      "execution_count": 84,
      "outputs": [
        {
          "output_type": "stream",
          "name": "stderr",
          "text": [
            "/usr/local/lib/python3.10/dist-packages/sklearn/metrics/_classification.py:1344: UndefinedMetricWarning: Recall and F-score are ill-defined and being set to 0.0 in labels with no true samples. Use `zero_division` parameter to control this behavior.\n",
            "  _warn_prf(average, modifier, msg_start, len(result))\n",
            "/usr/local/lib/python3.10/dist-packages/sklearn/metrics/_classification.py:1344: UndefinedMetricWarning: Recall and F-score are ill-defined and being set to 0.0 in labels with no true samples. Use `zero_division` parameter to control this behavior.\n",
            "  _warn_prf(average, modifier, msg_start, len(result))\n"
          ]
        },
        {
          "output_type": "stream",
          "name": "stdout",
          "text": [
            "Classification Report:\n",
            "                precision    recall  f1-score   support\n",
            "\n",
            "       B-per       0.70      0.86      0.77      1383\n",
            "       I-gpe       0.00      0.00      0.00         0\n",
            "       B-tim       0.81      0.88      0.84      1856\n",
            "       B-gpe       0.93      0.94      0.93      1538\n",
            "       B-art       0.00      0.00      0.00         0\n",
            "       I-eve       0.00      0.00      0.00         0\n",
            "         PAD       1.00      1.00      1.00    254299\n",
            "       B-nat       0.00      0.00      0.00         0\n",
            "           O       1.00      0.96      0.98     92273\n",
            "       I-tim       0.15      0.91      0.25        99\n",
            "       I-nat       0.00      0.00      0.00         0\n",
            "       I-org       0.31      0.65      0.42       837\n",
            "       I-art       0.00      0.00      0.00         0\n",
            "       B-org       0.39      0.74      0.51      1094\n",
            "       I-geo       0.51      0.76      0.61       529\n",
            "       I-per       0.76      0.81      0.78      1584\n",
            "       B-geo       0.86      0.77      0.81      4208\n",
            "       B-eve       0.00      0.00      0.00         0\n",
            "\n",
            "    accuracy                           0.98    359700\n",
            "   macro avg       0.41      0.52      0.44    359700\n",
            "weighted avg       0.99      0.98      0.99    359700\n",
            "\n"
          ]
        },
        {
          "output_type": "stream",
          "name": "stderr",
          "text": [
            "/usr/local/lib/python3.10/dist-packages/sklearn/metrics/_classification.py:1344: UndefinedMetricWarning: Recall and F-score are ill-defined and being set to 0.0 in labels with no true samples. Use `zero_division` parameter to control this behavior.\n",
            "  _warn_prf(average, modifier, msg_start, len(result))\n"
          ]
        }
      ]
    },
    {
      "cell_type": "markdown",
      "source": [
        "I can see that due to imbalance there are some category with less f1 score. We have used SigmoidFocalCrossEntropy to handle imbalance. We could further use either re-sampling method or more training methods"
      ],
      "metadata": {
        "id": "q2AtgCuXgB1R"
      }
    },
    {
      "cell_type": "markdown",
      "source": [
        "## Conclusion"
      ],
      "metadata": {
        "id": "nj2mYPjaOhaa"
      }
    },
    {
      "cell_type": "code",
      "source": [
        "model.load_weights('/content/ner_crf.h5')"
      ],
      "metadata": {
        "id": "hY8S3nYAWq30"
      },
      "execution_count": 69,
      "outputs": []
    },
    {
      "cell_type": "code",
      "source": [
        "import numpy as np\n",
        "\n",
        "def get_pos_tags(sentence):\n",
        "    # Tokenize the sentence\n",
        "    tokens = sentence.lower().split()\n",
        "\n",
        "    # Convert tokens to word indices\n",
        "    word_indices = [word2idx.get(token, word2idx[\"UNK\"]) for token in tokens]\n",
        "\n",
        "    # Pad the sequence\n",
        "    padded_sequence = pad_sequences([word_indices], maxlen=MAX_LEN, padding=\"post\", value=word2idx[\"PAD\"])\n",
        "\n",
        "    # Make predictions\n",
        "    predictions = model.predict(padded_sequence)[0]\n",
        "\n",
        "    # Convert predictions to POS tags\n",
        "    pos_tags = [idx2tag[np.argmax(pred)] for pred in predictions]\n",
        "\n",
        "    return list(zip(tokens, pos_tags))\n",
        "\n",
        "# Example usage\n",
        "input_sentence = \"Mike and Jake wanted to go to Disneyland\"\n",
        "output = get_pos_tags(input_sentence)\n",
        "\n",
        "# Print the output\n",
        "for token, pos_tag in output:\n",
        "    print(f\"Token: {token:<10} Predicted POS: {pos_tag}\")\n"
      ],
      "metadata": {
        "id": "60Ub_7JFesEF",
        "outputId": "a89fbafa-720d-4210-8fb0-ee7c4e33f68f",
        "execution": {
          "iopub.status.busy": "2023-07-16T11:07:32.340488Z",
          "iopub.execute_input": "2023-07-16T11:07:32.340861Z",
          "iopub.status.idle": "2023-07-16T11:07:32.434594Z",
          "shell.execute_reply.started": "2023-07-16T11:07:32.340822Z",
          "shell.execute_reply": "2023-07-16T11:07:32.433679Z"
        },
        "trusted": true,
        "colab": {
          "base_uri": "https://localhost:8080/"
        }
      },
      "execution_count": 95,
      "outputs": [
        {
          "output_type": "stream",
          "name": "stdout",
          "text": [
            "1/1 [==============================] - 0s 27ms/step\n",
            "Token: mike       Predicted POS: B-per\n",
            "Token: and        Predicted POS: I-per\n",
            "Token: jake       Predicted POS: I-per\n",
            "Token: wanted     Predicted POS: O\n",
            "Token: to         Predicted POS: O\n",
            "Token: go         Predicted POS: O\n",
            "Token: to         Predicted POS: O\n",
            "Token: disneyland Predicted POS: B-geo\n"
          ]
        }
      ]
    },
    {
      "cell_type": "markdown",
      "source": [
        "This is the prediction of the sentence"
      ],
      "metadata": {
        "id": "t3kgeoN6jR1t"
      }
    }
  ]
}